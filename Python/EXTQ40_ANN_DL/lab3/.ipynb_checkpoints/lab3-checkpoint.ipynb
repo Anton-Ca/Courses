{
 "cells": [
  {
   "cell_type": "markdown",
   "metadata": {},
   "source": [
    "<h1 style=\"font-size:40px;\"><center>Exercise III:<br> Convolutional and Recurrent Neural Networks\n",
    "</center></h1>"
   ]
  },
  {
   "cell_type": "markdown",
   "metadata": {},
   "source": [
    "## Short summary\n",
    "In this exercise you will: \n",
    "\n",
    "* Train CNNs for a binary classification problem\n",
    "* Visualize how CNNs interprets the data\n",
    "* Train CNNs for two 3-class classification problem\n",
    "* Train a RNN on a time series prediction problem\n",
    "* Visualize RNN hidden node activities\n",
    "\n",
    "In this lab we will look at network architectures that are designed to handle specific kinds of data. Convolutional Neural Networks for image processing and Recurrent Neural Networks for time series processing\n",
    "\n",
    "**Deadline for submitting the report: See Canvas assignment.**\n",
    "\n",
    "## The data\n",
    "Digits \"5\" and \"6\" from the MNIST database used for a binary classification problem.\n",
    "\n",
    "A dataset consisting of circles, rectangles or triangles, that can be read using the *loadImagesCRT* function.\n",
    "\n",
    "A dataset consisting of three different types of rectangles, squares, \"horizontal\" rectangles and \"vertical\" rectangles. This data can be read using the *loadImagesR3* function.\n",
    "\n",
    "A dataset consisting of pairs of times series. The input time series is a train of rectangle pulses, and the output is triangles, i.e. an up-ramp followed by a down-ramp. For more details see the cell *Ex4-1*. The task is to train a recurrent network that predicts the triangle time series from the pulse time series.\n",
    "\n",
    "\n",
    "## The exercises\n",
    "As for the previous labs all exercises are found below.\n",
    "\n",
    "## The different 'Cells'\n",
    "This notebook contains several cells with python code, together with the markdown cells (like this one) with only text. Each of the cells with python code has a \"header\" markdown cell with information about the code. The table below provides a short overview of the code cells. \n",
    "\n",
    "| #  |  CellName | CellType | Comment |\n",
    "| :--- | :-------- | :-------- | :------- |\n",
    "| 1 | Init | Needed | Sets up the environment|\n",
    "| 2 | Data | Needed | Loading images for the CNN exercise |\n",
    "| 3 | PlotImg | Information  | View some of the images |\n",
    "| 4 | Stats | Needed | Compute classification results |\n",
    "| 5 | Visualization | Needed | Visualize layers of a CNN |\n",
    "| 6 | Ex1 | Exercise | For question 1-2 |\n",
    "| 7 | Ex2 | Exercise | For question 3 |\n",
    "| 8 | Ex3 | Exercise | For question 4-5 |\n",
    "| 9 | Ex4-1 | Exercise | For question 6-9 |\n",
    "| 10 | Ex4-2 | Exercise | For question 6-9 |\n",
    "| 11 | Ex4-3 | Exercise | For question 6-9 |\n",
    "\n",
    "\n",
    "In order for you to start with the exercise you need to run all cells with the CellType \"Needed\". The very first time you start with this exercise we suggest that you enter each of the needed cells, read the cell instruction and run the cell. It is important that you do this in the correct order, starting from the top and work you way down the cells. Later when you have started to work with the notebook it may be easier to use the command \"Run All\" found in the \"Cell\" dropdown menu.\n",
    "\n",
    "## Writing the report\n",
    "First the report should be written within this notebook. We have prepared the last cell in this notebook for you where you should write the report. The report should contain 4 parts:\n",
    "\n",
    "* Name:\n",
    "* Introduction: A **few** sentences where you give a small introduction of what you have done in the lab.\n",
    "* Answers to questions: For each of the questions provide an answer. It can be short answers or a longer ones depending on the nature of the questions, but try to be effective in your writing.\n",
    "* Conclusion: Summarize your findings in a few sentences.\n",
    "\n",
    "It is important that you write the report in this last cell and **not** after each question! \n",
    "\n",
    "## Last but not least\n",
    "Have fun again!\n",
    "\n",
    "\n"
   ]
  },
  {
   "cell_type": "markdown",
   "metadata": {},
   "source": [
    "### CellName: Init (#1)\n",
    "### CellType: Needed\n",
    "### Cell instruction: Initializing the libraries\n",
    "In the cell below, we import all the libraries that are needed for this exercises. \n",
    "\n",
    "Run the cell by entering into the cell and press \"CTRL Enter\".\n"
   ]
  },
  {
   "cell_type": "code",
   "execution_count": 1,
   "metadata": {},
   "outputs": [],
   "source": [
    "import numpy as np\n",
    "import tensorflow as tf\n",
    "import time\n",
    "\n",
    "from tensorflow import keras\n",
    "from tensorflow.keras.models import Model, Sequential\n",
    "from tensorflow.keras.layers import Dense, Dropout, Flatten, Input, Activation\n",
    "from tensorflow.keras.layers import Conv2D, MaxPooling2D\n",
    "from tensorflow.keras.layers import TimeDistributed\n",
    "from tensorflow.keras.layers import Lambda, concatenate\n",
    "from tensorflow.keras.layers import LSTM, GRU, SimpleRNN, RNN\n",
    "\n",
    "from tensorflow.keras.optimizers import SGD, Adam, RMSprop, Nadam\n",
    "from tensorflow.keras import backend as K\n",
    "\n",
    "from sklearn.metrics import *\n",
    "\n",
    "import matplotlib\n",
    "import matplotlib.pyplot as plt"
   ]
  },
  {
   "cell_type": "markdown",
   "metadata": {},
   "source": [
    "### CellName: Data (#2)\n",
    "### CellType: Needed\n",
    "### Cell instruction: Function for getting images for the CNN exercises\n",
    "\n",
    "This cell defines the functions that obtain the images needed for the CNN exercise. **Note**: Make sure the \"crt-trn/\" and \"crt-tst/\" folders are available in the same directory as this notebook file when you actually call these functions. Otherwise, the files files are not found.\n",
    "\n",
    "Run the cell by entering into the cell and press \"CTRL Enter\"."
   ]
  },
  {
   "cell_type": "code",
   "execution_count": 2,
   "metadata": {},
   "outputs": [],
   "source": [
    "def load_pics(folder,N):\n",
    "    import imageio\n",
    "    imgs = []\n",
    "    for i in range(N):\n",
    "        img = imageio.imread(folder+\"img_{:05}.png\".format(i+1))\n",
    "        ch = img[:,:,0]\n",
    "        imgs.append(ch)\n",
    "    return np.array(imgs)\n",
    "\n",
    "def load_labels(fn):\n",
    "    return np.loadtxt(fn, usecols=(0,1,2))\n",
    "\n",
    "def loadImagesCRT():\n",
    "    base = \"./\"\n",
    "    trainpic = load_pics(base + \"crt-trn/\", 500)\n",
    "    valpic = load_pics(base + \"crt-val/\", 1000)\n",
    "    ntrain, width, height = trainpic.shape\n",
    "\n",
    "    xtrain = (trainpic/np.float32(255)).reshape(500, width, height, 1)\n",
    "    xval = (valpic/np.float32(255)).reshape(1000, width, height, 1)\n",
    "\n",
    "    ytrain = load_labels(base+\"crt-trn_trg.csv\")\n",
    "    #ytrain = ytrain[:N]\n",
    "    yval = load_labels(base+\"crt-val_trg.csv\")\n",
    "    \n",
    "    return xtrain, ytrain, xval, yval, width, height\n",
    "\n",
    "def loadImagesR3():\n",
    "    base = \"./\"\n",
    "    trainpic = load_pics(base + \"r3-trn/\", 500)\n",
    "    valpic = load_pics(base + \"r3-val/\", 1000)\n",
    "    ntrain, width, height = trainpic.shape\n",
    "\n",
    "    xtrain = (trainpic/np.float32(255)).reshape(500, width, height, 1)\n",
    "    xval = (valpic/np.float32(255)).reshape(1000, width, height, 1)\n",
    "\n",
    "    ytrain = load_labels(base+\"r3-trn_trg.csv\")\n",
    "    #ytrain = ytrain[:500]\n",
    "    yval = load_labels(base+\"r3-val_trg.csv\")\n",
    "\n",
    "    return xtrain, ytrain, xval, yval, width, height\n",
    "\n",
    "\n",
    "def loadMNIST56():\n",
    "    xtrain, ytrain, xval, yval = np.load(\"mnist56.npy\", allow_pickle=True)\n",
    "    width, height = xtrain.shape[1:3]\n",
    "    return xtrain, ytrain, xval, yval, width, height\n"
   ]
  },
  {
   "cell_type": "markdown",
   "metadata": {},
   "source": [
    "### CellName: PlotImg (#3)\n",
    "### CellType: Information\n",
    "### Cell instruction: Show some of the images\n",
    "\n",
    "Here we look at the first ten pictures in the training set, and their respective targets. You can select the dataset to look at by uncomment the correct line.\n",
    "\n",
    "Run the cell by entering into the cell and press \"CTRL Enter\"."
   ]
  },
  {
   "cell_type": "code",
   "execution_count": 3,
   "metadata": {},
   "outputs": [
    {
     "data": {
      "image/png": "[encoded data removed]",
      "text/plain": [
       "<Figure size 1080x720 with 1 Axes>"
      ]
     },
     "metadata": {
      "needs_background": "light"
     },
     "output_type": "display_data"
    },
    {
     "name": "stdout",
     "output_type": "stream",
     "text": [
      "Targets:\n",
      "[1. 1. 0. 0. 0. 0. 1. 0. 1. 0.]\n"
     ]
    }
   ],
   "source": [
    "xTrn, dTrn, xVal, dVal, width, height = loadMNIST56()\n",
    "#xTrn, dTrn, xVal, dVal, width, height = loadImagesCRT()\n",
    "#xTrn, dTrn, xVal, dVal, width, height = loadImagesR3()\n",
    "\n",
    "rndSel = np.random.randint(500, size=10)\n",
    "plt.figure(1, figsize=(15,10))\n",
    "plt.imshow(xTrn[rndSel,:,:].swapaxes(0,1).reshape(width,10*height),cmap=\"gray\")\n",
    "plt.axis(\"off\")\n",
    "plt.show()\n",
    "\n",
    "print(\"Targets:\")\n",
    "print(dTrn[rndSel])\n"
   ]
  },
  {
   "cell_type": "markdown",
   "metadata": {},
   "source": [
    "### CellName: Stats (#4)\n",
    "### CellType: Needed\n",
    "### Cell instruction: Get binary and 3-class classification results\n",
    "\n",
    "This cell just defines functions that we can call to compute som performance measures for binary and 3-class classification problems.\n",
    "\n",
    "Run the cell by entering into the cell and press \"CTRL Enter\"."
   ]
  },
  {
   "cell_type": "code",
   "execution_count": 4,
   "metadata": {},
   "outputs": [],
   "source": [
    "def binary_pred_stats(ytrue, ypred, threshold=0.5):\n",
    "    one_correct = np.sum((ytrue==1)*(ypred > threshold))\n",
    "    zero_correct = np.sum((ytrue==0)*(ypred <= threshold))\n",
    "    sensitivity = one_correct / np.sum(ytrue==1)\n",
    "    specificity = zero_correct / np.sum(ytrue==0)\n",
    "    accuracy = (one_correct + zero_correct) / len(ytrue)\n",
    "    return sensitivity, specificity, accuracy\n",
    "\n",
    "def plot_confusion_matrix(cm,\n",
    "                          target_names,\n",
    "                          title='Confusion matrix',\n",
    "                          cmap=None,\n",
    "                          normalize=True):\n",
    "\n",
    "    import itertools\n",
    "\n",
    "    accuracy = np.trace(cm) / float(np.sum(cm))\n",
    "    misclass = 1 - accuracy\n",
    "\n",
    "    if cmap is None:\n",
    "        cmap = plt.get_cmap('Blues')\n",
    "\n",
    "    plt.figure(figsize=(8, 6))\n",
    "    plt.imshow(cm, interpolation='nearest', cmap=cmap)\n",
    "    plt.title(title)\n",
    "    plt.colorbar()\n",
    "    #plt.ylim([-0.5, cm.shape[0]-0.5])\n",
    "\n",
    "    if target_names is not None:\n",
    "        tick_marks = np.arange(len(target_names))\n",
    "        plt.xticks(tick_marks, target_names, rotation=45)\n",
    "        plt.yticks(tick_marks, target_names)\n",
    "\n",
    "    if normalize:\n",
    "        cm = cm.astype('float') / cm.sum(axis=1)[:, np.newaxis]\n",
    "\n",
    "\n",
    "    thresh = cm.max() / 1.5 if normalize else cm.max() / 2\n",
    "    for i, j in itertools.product(range(cm.shape[0]), range(cm.shape[1])):\n",
    "        if normalize:\n",
    "            plt.text(j, i, \"{:0.4f}\".format(cm[i, j]),\n",
    "                     horizontalalignment=\"center\",\n",
    "                     color=\"white\" if cm[i, j] > thresh else \"black\")\n",
    "        else:\n",
    "            plt.text(j, i, \"{:,}\".format(cm[i, j]),\n",
    "                     horizontalalignment=\"center\",\n",
    "                     color=\"white\" if cm[i, j] > thresh else \"black\")\n",
    "\n",
    "\n",
    "    plt.tight_layout()\n",
    "    plt.ylabel('True label')\n",
    "    plt.xlabel('Predicted label\\naccuracy={:0.4f}; misclass={:0.4f}'.format(accuracy, misclass))\n",
    "    plt.show()\n",
    "    \n",
    "def multi_stat_3(model = None, x_test = None, y_test = None, lbl = None):\n",
    "    y_pred = model.predict(x_test, verbose=0 )\n",
    "    print(lbl,' log_loss:  ', log_loss(y_test, y_pred, eps=1e-15))\n",
    "\n",
    "    y_true = y_test.argmax(axis=1)\n",
    "    y_pred = y_pred.argmax(axis=1)\n",
    "    print(lbl, ' accuracy:  ',(y_pred==y_true).mean(), '\\n')\n",
    "\n",
    "    target_names = ['class {}'.format(i+1) for i in range(3)]\n",
    "\n",
    "    confuTst = confusion_matrix(y_true, y_pred)\n",
    "    plot_confusion_matrix(cm           = confuTst, \n",
    "                          normalize    = False,\n",
    "                          target_names = target_names,\n",
    "                          title        = \"Confusion Matrix: \" + lbl)\n"
   ]
  },
  {
   "cell_type": "markdown",
   "metadata": {},
   "source": [
    "### CellName: Visualization (#5)\n",
    "### CellType: Needed\n",
    "### Cell instruction: Function that can visualize the different layers of a CNN\n",
    "\n",
    "This cell is feeding an image through a CNN and stores the intemediate values. It plots the different layers (filtered images) either before or after maxpooling.\n",
    "\n",
    "Run the cell by entering into the cell and press \"CTRL Enter\"."
   ]
  },
  {
   "cell_type": "code",
   "execution_count": 5,
   "metadata": {},
   "outputs": [],
   "source": [
    "def layerVisaliztion(model,\n",
    "                     indata,\n",
    "                     target,\n",
    "                     idx=10,\n",
    "                     post_pool = False):\n",
    "\n",
    "    # The prediction for the test case\n",
    "    #idx_pred = model.predict(indata)[idx,0]\n",
    "    #print('True label: = {:0.1f}, Prediction = {:0.8f}'.format(idx_pred, target[idx]))\n",
    "    \n",
    "    print('Prediction: ', model.predict(indata)[idx])\n",
    "    print('Target    : ', target[idx])\n",
    "    \n",
    "    kind = MaxPooling2D if post_pool else Conv2D\n",
    "    outs = [l.output for l in model.layers if isinstance(l, kind)]\n",
    "    intermediate = K.function([model.layers[0].input], outs)\n",
    "    \n",
    "    states = [indata[idx:idx+1]] + intermediate([indata[idx:idx+1]])\n",
    "    plt.figure(figsize=(18,12))                    \n",
    "    for k,s in enumerate(states):\n",
    "        plt.figure(figsize=(18,12))\n",
    "        plt.subplot(len(outs)+1,1,k+1)\n",
    "        pics = s[0]\n",
    "        pics = np.rollaxis(pics,2,0)\n",
    "        rows = 2 if pics.shape[0] > 8 else 1\n",
    "        cols = pics.shape[0]//rows\n",
    "        pad = pics.shape[0]-rows*cols\n",
    "        if pad > 0:\n",
    "            padding = np.zeros_like(pics, shape=(rows-pad,)+pics.shape[1:])\n",
    "            pics = np.concatenate([pics, padding])\n",
    "            cols = cols + 1            \n",
    "        imgshape = pics.shape[1:]\n",
    "        pics = pics.reshape((rows,cols)+imgshape)\n",
    "        pics = pics.swapaxes(1,2)\n",
    "        pics = pics.reshape((pics.shape[0]*pics.shape[1], pics.shape[2]*pics.shape[3]))\n",
    "        extent = (0,cols*imgshape[0], 0,rows*imgshape[1])\n",
    "        plt.imshow(pics,cmap='gray',extent=extent)\n",
    "        for r in range(1,rows):\n",
    "            plt.plot([0,cols*imgshape[0]], [r*imgshape[1], r*imgshape[1]], color='r', linestyle='-', linewidth=1)\n",
    "        for c in range(1,cols):\n",
    "            plt.plot([c*imgshape[0], c*imgshape[0]], [0,rows*imgshape[1]], color='r', linestyle='-', linewidth=1)\n"
   ]
  },
  {
   "cell_type": "markdown",
   "metadata": {},
   "source": [
    "### CellName: Ex1 (#6)\n",
    "### CellType: Exercise\n",
    "### Cell instruction: Instructions for question 1-2\n",
    "\n",
    "## CNN for image classification\n",
    "\n",
    "In this first exercise you are going to train a CNN that can separate between numbers \"5\" and \"6\" from the mnist dataset (mnist56 dataset). We are going to use 2000 training images and 1850 validation images. To start with we have a proposed CNN that can solve this problem. It consists of the following:\n",
    "* First convolutional layer consisting of 4 kernels of size 3x3, with ReLU activation\n",
    "* Maxpooling of size 2x2\n",
    "* Second convolutional layer of 4 kernels of size 3x3, with ReLU activation\n",
    "* Maxpooling of size 2x2\n",
    "* Special layer *Flatten()*, just transforms the all of the max pooled filter outputs to a linear vector of outputs\n",
    "* *Dense* layer, meaning a fully connected MLP layer, to 10 hidden nodes, again ReLU activation\n",
    "* Final output layer consisting of one single output node with sigmoid activation function because we have a binary classification problem.\n",
    "\n",
    "The default is to use *stride* = 1 and no *padding*. \n",
    "\n",
    "#### Question 1\n",
    "Make sure you understand the definition of the CNN model in the cell below and train it. **What is your validation set performance in terms of the accuracy?**\n",
    "\n",
    "#### Question 2\n",
    "This image classification problem should be relatively easy since a \"5\" has some distinct differences from a \"6\". Experiment with the architecture of the CNN model and try to make it smaller (in terms of the number of trainable parameters), but with the same almost perfect validation accuracy (>98%). **How many parameters do you have in your trimmed model? What is your architecture?**\n",
    "\n",
    "**Hint:** There is of course very many ways you can make a smaller architecture. You do not need to test all of them!\n"
   ]
  },
  {
   "cell_type": "code",
   "execution_count": 10,
   "metadata": {},
   "outputs": [],
   "source": [
    "def run1_2(*args):\n",
    "    \"\"\" \n",
    "    Run ex1-2 with variable amount of hyperparameters as args. args used for easier hyperparameter adjustment. \n",
    "    \"\"\"\n",
    "    \n",
    "    # Unpack args\n",
    "    a, b, c, d, e, f, *_ = args\n",
    "    \n",
    "    # Load the dataset, MNIST-56\n",
    "    x_trn, d_trn, x_val, d_val, width, height = loadMNIST56()\n",
    "    \n",
    "    # The size of the images\n",
    "    input_shape = (width, height, 1)\n",
    "    \n",
    "    # Define the CNN ex1\n",
    "    ex1 = Sequential()\n",
    "    \n",
    "    # First conv layer\n",
    "    ex1.add(Conv2D(a, kernel_size=(b, b), activation='relu', input_shape=input_shape))\n",
    "    ex1.add(MaxPooling2D(pool_size=(c, c)))\n",
    "    \n",
    "    # Second conv layer\n",
    "    ex1.add(Conv2D(d, kernel_size=(e, e), activation='relu'))\n",
    "    ex1.add(MaxPooling2D(pool_size=(f, f)))\n",
    "    \n",
    "    # Fully connected MLP layers\n",
    "    ex1.add(Flatten())\n",
    "    ex1.add(Dense(10, activation='relu'))\n",
    "    \n",
    "    # Output layer\n",
    "    ex1.add(Dense(1, activation='sigmoid'))\n",
    "    \n",
    "    # We use cross entropy error and the adam optimizer\n",
    "    adam = Adam(learning_rate=0.005)\n",
    "    ex1.compile(loss='binary_crossentropy', optimizer=adam, metrics=['accuracy'])\n",
    "    ex1.summary()\n",
    "    \n",
    "    # Now train the ex1\n",
    "    estimator_ex1 = ex1.fit(x_trn, d_trn, \n",
    "                            validation_data=(x_val, d_val),\n",
    "                            epochs=30, \n",
    "                            batch_size=64,\n",
    "                            verbose=0)\n",
    "    \n",
    "    \n",
    "    # Training history\n",
    "    plt.figure()\n",
    "    plt.ylabel('Loss / Accuracy')\n",
    "    plt.xlabel('Epoch')\n",
    "    for k in estimator_ex1.history.keys():\n",
    "        plt.plot(estimator_ex1.history[k], label = k) \n",
    "    plt.legend(loc='best')\n",
    "    plt.show()\n",
    "    \n",
    "    # Get the training predictions and results for those\n",
    "    d_trn_pred = ex1.predict(x_trn)[:,0]\n",
    "    sens, spec, acc = binary_pred_stats(d_trn, d_trn_pred)\n",
    "    print('training: Accuracy = {:.4f}, Sensitivity = {:.4f}, Specificity = {:.4f}'.format(acc, sens, spec), '\\n')\n",
    "    \n",
    "    # Get the validation predictions and the results for those\n",
    "    d_val_pred = ex1.predict(x_val)[:,0]\n",
    "    sens, spec, acc = binary_pred_stats(d_val, d_val_pred)\n",
    "    print('validation: Accuracy = {:.4f}, Sensitivity = {:.4f}, Specificity = {:.4f}'.format(acc, sens, spec), '\\n')\n",
    "    "
   ]
  },
  {
   "cell_type": "code",
   "execution_count": 12,
   "metadata": {},
   "outputs": [
    {
     "name": "stdout",
     "output_type": "stream",
     "text": [
      "Model: \"sequential_2\"\n",
      "_________________________________________________________________\n",
      "Layer (type)                 Output Shape              Param #   \n",
      "=================================================================\n",
      "conv2d_4 (Conv2D)            (None, 27, 27, 4)         20        \n",
      "_________________________________________________________________\n",
      "max_pooling2d_4 (MaxPooling2 (None, 13, 13, 4)         0         \n",
      "_________________________________________________________________\n",
      "conv2d_5 (Conv2D)            (None, 12, 12, 3)         51        \n",
      "_________________________________________________________________\n",
      "max_pooling2d_5 (MaxPooling2 (None, 3, 3, 3)           0         \n",
      "_________________________________________________________________\n",
      "flatten_2 (Flatten)          (None, 27)                0         \n",
      "_________________________________________________________________\n",
      "dense_4 (Dense)              (None, 10)                280       \n",
      "_________________________________________________________________\n",
      "dense_5 (Dense)              (None, 1)                 11        \n",
      "=================================================================\n",
      "Total params: 362\n",
      "Trainable params: 362\n",
      "Non-trainable params: 0\n",
      "_________________________________________________________________\n"
     ]
    },
    {
     "data": {
      "image/png": "[encoded data removed]",
      "text/plain": [
       "<Figure size 432x288 with 1 Axes>"
      ]
     },
     "metadata": {
      "needs_background": "light"
     },
     "output_type": "display_data"
    },
    {
     "name": "stdout",
     "output_type": "stream",
     "text": [
      "training: Accuracy = 0.9925, Sensitivity = 0.9950, Specificity = 0.9900 \n",
      "\n",
      "validation: Accuracy = 0.9832, Sensitivity = 0.9854, Specificity = 0.9809 \n",
      "\n"
     ]
    }
   ],
   "source": [
    "run1_2(4, 2, 2, 3, 2, 4)"
   ]
  },
  {
   "cell_type": "code",
   "execution_count": null,
   "metadata": {},
   "outputs": [],
   "source": [
    "1)\n",
    "run1_2(4, 3, 2, 4, 3, 2)\n",
    "Total params: 1,209\n",
    "\n",
    "training: Accuracy = 1.0000, Sensitivity = 1.0000, Specificity = 1.0000 \n",
    "validation: Accuracy = 0.9941, Sensitivity = 0.9916, Specificity = 0.9966 \n",
    "\n",
    "training: Accuracy = 1.0000, Sensitivity = 1.0000, Specificity = 1.0000 \n",
    "validation: Accuracy = 0.9935, Sensitivity = 0.9916, Specificity = 0.9955 \n",
    "\n",
    "2)\n",
    "run1_2(6, 2, 3, 3, 2, 3)\n",
    "Total params: 246\n",
    "training: Accuracy = 0.9885, Sensitivity = 0.9990, Specificity = 0.9780 \n",
    "validation: Accuracy = 0.9849, Sensitivity = 0.9937, Specificity = 0.9753 \n",
    "# Unreliable performance\n",
    "\n",
    "run1_2(4, 2, 2, 3, 2, 4)\n",
    "Total params: 362\n",
    "training: Accuracy = 0.9915, Sensitivity = 0.9990, Specificity = 0.9840 \n",
    "validation: Accuracy = 0.9870, Sensitivity = 0.9906, Specificity = 0.9832 \n",
    "# Averaged over 3 runs (decently reliable, I'd use this)\n",
    "\n",
    "run1_2(4, 3, 2, 3, 2, 2)\n",
    "Total params: 592\n",
    "training: Accuracy = 0.9975, Sensitivity = 0.9990, Specificity = 0.9960 \n",
    "validation: Accuracy = 0.9903, Sensitivity = 0.9906, Specificity = 0.9899 \n",
    "# Very reliable above 98%"
   ]
  },
  {
   "cell_type": "markdown",
   "metadata": {},
   "source": [
    "### CellName: Ex2 (#7)\n",
    "### CellType: Exercise\n",
    "### Cell instruction: Instructions for question 3\n",
    "\n",
    "You are now going to take a look into the CNN model. There are many attempts to visualize how the CNN model is making classifications. We will here just look at the different layer outputs given an input image. The function 'layerVisualization', found in cell #5 does the following:\n",
    "* Use one selected image from the supplied dataset.\n",
    "* Make a forward pass through the CNN remembering all intermediate values.\n",
    "* Plot all of the \"filters\" for each of the layers.\n",
    "* One can select to plot before or after the MaxPooling.\n",
    "\n",
    "You pass the model that you want to visualize to the 'layerVisualization' function. If you do not change the names in cell (Ex1) it will be 'ex1'.\n",
    "\n",
    "#### Question 3\n",
    "Train a CNN for the \"5\" vs \"6\" problem! As a suggestion use the following CNN\n",
    "\n",
    "*3x(3x3 kernel)-maxpool-3x(3x3 kernel)-maxpool-(Flatten)-Dense(5)-Dense(1)*\n",
    "\n",
    "Make sure that your trained model gives good validation results (i.e. > 95% accuracy). Having such a model, you can run the cell below. There are two parameters you need to specify, *idx* and *post_pool*. The *post_pool* variable can be set to *True* meaning that filters will be shown after MaxPooling. The image to show is selected by the *idx* variable. As an example, the following values represent,\n",
    "* idx=1 number \"6\"\n",
    "* idx=2 number \"5\"\n",
    "* idx=3 another number \"6\"\n",
    "* idx=5 antoher number \"5\"\n",
    "\n",
    "**Can you find and describe some property in the filters that makes sense when it comes to separating \"5\" from \"6\"?**\n",
    "\n",
    "Hint! If you repeat the training you most likely get a new network and other filters!\n"
   ]
  },
  {
   "cell_type": "code",
   "execution_count": 27,
   "metadata": {},
   "outputs": [],
   "source": [
    "def run3(*args):\n",
    "    \"\"\" \n",
    "    Run ex3 with variable amount of hyperparameters as args. args used for easier hyperparameter adjustment. \n",
    "    \"\"\"\n",
    "    \n",
    "    # Unpack args\n",
    "    a, b, c, d, e, f, idx, post_pool, *_ = args\n",
    "    \n",
    "    # Load the dataset, MNIST-56\n",
    "    x_trn, d_trn, x_val, d_val, width, height = loadMNIST56()\n",
    "    \n",
    "    # The size of the images\n",
    "    input_shape = (width, height, 1)\n",
    "    \n",
    "    # Define the CNN ex1\n",
    "    ex1 = Sequential()\n",
    "    \n",
    "    # Call the visualization method, giving the model and the validation data to select the case from\n",
    "    \n",
    "    # First conv layer\n",
    "    ex1.add(Conv2D(a, kernel_size=(b, b), activation='relu', input_shape=input_shape))\n",
    "    #wei = ex1.layers[0].get_weights()[0]\n",
    "    #print(wei) if post_pool else None\n",
    "    #layerVisaliztion(ex1, x_val, d_val, idx, post_pool) if not post_pool else None\n",
    "    ex1.add(MaxPooling2D(pool_size=(c, c)))\n",
    "    \n",
    "    #layerVisaliztion(ex1, x_val, d_val, idx, post_pool) if post_pool else None\n",
    "    #wei = ex1.layers[0].get_weights()[0] if post_pool else None\n",
    "    #print(wei) if post_pool else None\n",
    "    \n",
    "    # Second conv layer\n",
    "    #ex1.add(Conv2D(d, kernel_size=(e, e), activation='relu'))\n",
    "    #ex1.add(MaxPooling2D(pool_size=(f, f)))\n",
    "    \n",
    "    # Fully connected MLP layers\n",
    "    ex1.add(Flatten())\n",
    "    ex1.add(Dense(5, activation='relu'))\n",
    "    \n",
    "    # Output layer\n",
    "    ex1.add(Dense(1, activation='sigmoid'))\n",
    "    \n",
    "    # We use cross entropy error and the adam optimizer\n",
    "    adam = Adam(learning_rate=0.005)\n",
    "    ex1.compile(loss='binary_crossentropy', optimizer=adam, metrics=['accuracy'])\n",
    "    ex1.summary()\n",
    "    \n",
    "    # Now train the ex1\n",
    "    estimator_ex1 = ex1.fit(x_trn, d_trn, \n",
    "                            validation_data=(x_val, d_val),\n",
    "                            epochs=30, \n",
    "                            batch_size=64,\n",
    "                            verbose=0)\n",
    "    \n",
    "\n",
    "    # Get the validation predictions and the results for those\n",
    "    d_val_pred = ex1.predict(x_val)[:,0]\n",
    "    sens, spec, acc = binary_pred_stats(d_val, d_val_pred)\n",
    "    print('validation: Accuracy = {:.4f}, Sensitivity = {:.4f}, Specificity = {:.4f}'.format(acc, sens, spec), '\\n')\n",
    "    \n",
    "    return ex1, x_val, d_val\n",
    "    \n"
   ]
  },
  {
   "cell_type": "code",
   "execution_count": 28,
   "metadata": {},
   "outputs": [
    {
     "name": "stdout",
     "output_type": "stream",
     "text": [
      "Model: \"sequential_11\"\n",
      "_________________________________________________________________\n",
      "Layer (type)                 Output Shape              Param #   \n",
      "=================================================================\n",
      "conv2d_14 (Conv2D)           (None, 26, 26, 3)         30        \n",
      "_________________________________________________________________\n",
      "max_pooling2d_14 (MaxPooling (None, 8, 8, 3)           0         \n",
      "_________________________________________________________________\n",
      "flatten_11 (Flatten)         (None, 192)               0         \n",
      "_________________________________________________________________\n",
      "dense_22 (Dense)             (None, 5)                 965       \n",
      "_________________________________________________________________\n",
      "dense_23 (Dense)             (None, 1)                 6         \n",
      "=================================================================\n",
      "Total params: 1,001\n",
      "Trainable params: 1,001\n",
      "Non-trainable params: 0\n",
      "_________________________________________________________________\n",
      "validation: Accuracy = 0.9908, Sensitivity = 0.9906, Specificity = 0.9910 \n",
      "\n",
      "Prediction:  [0.05832812]\n",
      "Target    :  0.0\n"
     ]
    },
    {
     "data": {
      "text/plain": [
       "<Figure size 1296x864 with 0 Axes>"
      ]
     },
     "metadata": {},
     "output_type": "display_data"
    },
    {
     "data": {
      "image/png": "[encoded data removed]",
      "text/plain": [
       "<Figure size 1296x864 with 1 Axes>"
      ]
     },
     "metadata": {
      "needs_background": "light"
     },
     "output_type": "display_data"
    },
    {
     "data": {
      "image/png": "[encoded data removed]",
      "text/plain": [
       "<Figure size 1296x864 with 1 Axes>"
      ]
     },
     "metadata": {
      "needs_background": "light"
     },
     "output_type": "display_data"
    }
   ],
   "source": [
    "# Show before or after MaxPooling\n",
    "post_pool = False\n",
    "\n",
    "# The test image to look at\n",
    "idx = 5\n",
    "\n",
    "# Run func\n",
    "ex1, x_val, d_val = run3(3, 3, 3, 3, 3, 3, 1, True)\n",
    "\n",
    "# Call the visualization method, giving the model and the validation data to select the case from\n",
    "layerVisaliztion(ex1, x_val, d_val, idx, post_pool)"
   ]
  },
  {
   "cell_type": "code",
   "execution_count": null,
   "metadata": {},
   "outputs": [],
   "source": [
    "3) \n",
    "\n",
    "One of the filters seems to be detecting the edges of the digits, possibly a laplacian filter or similar. \n",
    "This can be useful both for comparing the surface area of the digits and to compare the number of pixels\n",
    "that are on vertical and horizontal lines. Given the nature of the digits \"5\" and \"6\" there could be some\n",
    "variations due to the digits being handwritten, but in general 5 should for example have more pixels along \n",
    "a straight lines.\n"
   ]
  },
  {
   "cell_type": "markdown",
   "metadata": {},
   "source": [
    "### CellName: Ex3 (#8)\n",
    "### CellType: Exercise\n",
    "### Cell instruction: Instructions for question 4-5\n",
    "\n",
    "## CNN for image classification\n",
    "\n",
    "In this exercise you are going to train a CNN that can separate between circles/squares/triangles found in the CRT dataset, and the three different types of rectangles found in the R3 dataset. You will use 500 training images and 1000 validation images. Code is provided for loading the data, training the model and presenting the result. Your task is to define the actual CNN model and see how it performs. For the following two questions you can optimize the model based on the validation performance. Here we assume that 1000 validation images are many enough for \"model selection overtraining bias\" to be small.\n",
    "\n",
    "#### Question 4\n",
    "Define your own CNN model for classifying the images in the CRT data into three classes. **Provide the details of your CNN model and present the validation result.**\n",
    "\n",
    "**Hint:** Remember the difference between a binary classifier and a multi-class classifier!\n",
    "\n",
    "\n",
    "#### Question 5\n",
    "Define your own CNN model for classifying the images in the R3 data into three classes. **Provide the details of your CNN model and present the validation result.** **Why is this a more difficult problem than Question 4?**\n",
    "\n",
    "\n",
    "#### Bonus task \n",
    "The bonus tasks are provided if you have extra time and want to continue to explore the CNNs. **These tasks are not required for the course and does not influence any grading**. \n",
    "\n",
    "You can use the *layerVisualization* method also for above models (Q4 and Q5). It will show you the different filter outputs. Again try to understand the features the different filter learn to separate between circles-triangles-rectangles, or the rectangles for the R3 data set."
   ]
  },
  {
   "cell_type": "code",
   "execution_count": 29,
   "metadata": {},
   "outputs": [
    {
     "name": "stderr",
     "output_type": "stream",
     "text": [
      "/var/folders/fm/n7phjpnx6gn8b2s7dzxhblpm0000gn/T/ipykernel_73066/3241759781.py:5: DeprecationWarning: Starting with ImageIO v3 the behavior of this function will switch to that of iio.v3.imread. To keep the current behavior (and make this warning disappear) use `import imageio.v2 as imageio` or call `imageio.v2.imread` directly.\n",
      "  img = imageio.imread(folder+\"img_{:05}.png\".format(i+1))\n"
     ]
    },
    {
     "name": "stdout",
     "output_type": "stream",
     "text": [
      "Training data input shape:  (500, 64, 64, 1)\n",
      "Training data output shape:  (500, 3)\n",
      "Validation data input shape:  (1000, 64, 64, 1)\n",
      "Validation data output shape:  (1000, 3)\n",
      "Model: \"sequential_12\"\n",
      "_________________________________________________________________\n",
      "Layer (type)                 Output Shape              Param #   \n",
      "=================================================================\n",
      "conv2d_15 (Conv2D)           (None, 61, 61, 3)         51        \n",
      "_________________________________________________________________\n",
      "max_pooling2d_15 (MaxPooling (None, 30, 30, 3)         0         \n",
      "_________________________________________________________________\n",
      "conv2d_16 (Conv2D)           (None, 28, 28, 3)         84        \n",
      "_________________________________________________________________\n",
      "conv2d_17 (Conv2D)           (None, 27, 27, 3)         39        \n",
      "_________________________________________________________________\n",
      "max_pooling2d_16 (MaxPooling (None, 13, 13, 3)         0         \n",
      "_________________________________________________________________\n",
      "flatten_12 (Flatten)         (None, 507)               0         \n",
      "_________________________________________________________________\n",
      "dense_24 (Dense)             (None, 9)                 4572      \n",
      "_________________________________________________________________\n",
      "dense_25 (Dense)             (None, 3)                 30        \n",
      "=================================================================\n",
      "Total params: 4,776\n",
      "Trainable params: 4,776\n",
      "Non-trainable params: 0\n",
      "_________________________________________________________________\n"
     ]
    },
    {
     "data": {
      "image/png": "[encoded data removed]",
      "text/plain": [
       "<Figure size 432x288 with 1 Axes>"
      ]
     },
     "metadata": {
      "needs_background": "light"
     },
     "output_type": "display_data"
    },
    {
     "name": "stdout",
     "output_type": "stream",
     "text": [
      "Training  log_loss:   1.397028268868894e-06\n",
      "Training  accuracy:   1.0 \n",
      "\n"
     ]
    },
    {
     "data": {
      "image/png": "[encoded data removed]",
      "text/plain": [
       "<Figure size 576x432 with 2 Axes>"
      ]
     },
     "metadata": {
      "needs_background": "light"
     },
     "output_type": "display_data"
    },
    {
     "name": "stdout",
     "output_type": "stream",
     "text": [
      "Validation  log_loss:   2.58372115833477\n",
      "Validation  accuracy:   0.73 \n",
      "\n"
     ]
    },
    {
     "data": {
      "image/png": "[encoded data removed]",
      "text/plain": [
       "<Figure size 576x432 with 2 Axes>"
      ]
     },
     "metadata": {
      "needs_background": "light"
     },
     "output_type": "display_data"
    }
   ],
   "source": [
    "def categorical_crossentropy(y_ans, y_pred):\n",
    "    return keras.losses.categorical_crossentropy(y_ans, y_pred)\n",
    "\n",
    "def mean_squared_error(y_ans, y_pred):\n",
    "    return keras.losses.mean_squared_error(y_ans, y_pred)\n",
    "\n",
    "# Load the CRT dataset (Question 4)\n",
    "#x_trn, d_trn, x_val, d_val, width, height = loadImagesCRT()\n",
    "# Load the R3 dataset (Question 5)\n",
    "x_trn, d_trn, x_val, d_val, width, height = loadImagesR3()\n",
    "\n",
    "print('Training data input shape: ', x_trn.shape)\n",
    "print('Training data output shape: ', d_trn.shape)\n",
    "print('Validation data input shape: ', x_val.shape)\n",
    "print('Validation data output shape: ', d_val.shape)\n",
    "\n",
    "# The size of the images\n",
    "input_shape = (width, height, 1)\n",
    "\n",
    "# Define the CNN ex3\n",
    "ex3 = Sequential()\n",
    "\n",
    "#\n",
    "# YOUR CODE HERE\n",
    "#\n",
    "# First conv layer\n",
    "ex3.add(Conv2D(3, kernel_size=(4, 4), activation='relu', input_shape=input_shape))\n",
    "ex3.add(MaxPooling2D(pool_size=(2, 2)))\n",
    "\n",
    "# Second conv layer\n",
    "\n",
    "# Thrid conv layer\n",
    "\n",
    "# Fully connected MLP layers\n",
    "ex3.add(Flatten())\n",
    "ex3.add(Dense(9, activation='relu'))\n",
    "\n",
    "# Output layer\n",
    "ex3.add(Dense(3, activation='softmax'))\n",
    "#\n",
    "# YOUR CODE HERE\n",
    "#\n",
    "\n",
    "# We use cross entropy error and the adam optimizer\n",
    "adam = Adam(learning_rate=0.005)\n",
    "ex3.compile(loss=[categorical_crossentropy, mean_squared_error], optimizer=adam, metrics=['accuracy'])  # Combined loss functions\n",
    "ex3.summary()\n",
    "\n",
    "# Now train the ex3\n",
    "estimator_ex3 = ex3.fit(x_trn, d_trn, \n",
    "                      validation_data=(x_val, d_val),\n",
    "                      epochs=500, \n",
    "                      batch_size=50,\n",
    "                      verbose=0)\n",
    "\n",
    "# Training history\n",
    "plt.figure()\n",
    "plt.ylabel('Loss / Accuracy')\n",
    "plt.xlabel('Epoch')\n",
    "for k in estimator_ex3.history.keys():\n",
    "    plt.plot(estimator_ex3.history[k], label = k) \n",
    "plt.legend(loc='best')\n",
    "plt.show()\n",
    "\n",
    "# Training result\n",
    "multi_stat_3(ex3, x_trn, d_trn, 'Training')\n",
    "\n",
    "# Validation result\n",
    "multi_stat_3(ex3, x_val, d_val, 'Validation')"
   ]
  },
  {
   "cell_type": "code",
   "execution_count": 30,
   "metadata": {},
   "outputs": [
    {
     "name": "stdout",
     "output_type": "stream",
     "text": [
      "Prediction:  [2.4458033e-03 9.9755329e-01 1.0104908e-06]\n",
      "Target    :  [0. 1. 0.]\n"
     ]
    },
    {
     "data": {
      "text/plain": [
       "<Figure size 1296x864 with 0 Axes>"
      ]
     },
     "metadata": {},
     "output_type": "display_data"
    },
    {
     "data": {
      "image/png": "[encoded data removed]",
      "text/plain": [
       "<Figure size 1296x864 with 1 Axes>"
      ]
     },
     "metadata": {
      "needs_background": "light"
     },
     "output_type": "display_data"
    },
    {
     "data": {
      "image/png": "[encoded data removed]",
      "text/plain": [
       "<Figure size 1296x864 with 1 Axes>"
      ]
     },
     "metadata": {
      "needs_background": "light"
     },
     "output_type": "display_data"
    },
    {
     "data": {
      "image/png": "[encoded data removed]",
      "text/plain": [
       "<Figure size 1296x864 with 1 Axes>"
      ]
     },
     "metadata": {
      "needs_background": "light"
     },
     "output_type": "display_data"
    },
    {
     "data": {
      "image/png": "[encoded data removed]",
      "text/plain": [
       "<Figure size 1296x864 with 1 Axes>"
      ]
     },
     "metadata": {
      "needs_background": "light"
     },
     "output_type": "display_data"
    }
   ],
   "source": [
    "# Show before or after MaxPooling\n",
    "post_pool = False\n",
    "\n",
    "# The test image to look at\n",
    "idx = 6\n",
    "\n",
    "# Call the visualization method, giving the model and the test data to select the case from\n",
    "layerVisaliztion(ex3, x_val, d_val, idx, post_pool)"
   ]
  },
  {
   "cell_type": "code",
   "execution_count": null,
   "metadata": {},
   "outputs": [],
   "source": [
    "4) \n",
    "\n",
    "*3x(4x4 kernel)-maxpool-3x(3x3 kernel)-3x(2x2 kernel)-maxpool-(Flatten)-Dense(9)-Dense(3)*\n",
    "\n",
    "\n",
    "5) \n",
    "\n",
    "Validation  log_loss:   1.7895587767034835\n",
    "Validation  accuracy:   0.691 \n",
    "\n",
    "Validation  log_loss:   2.1127321241816275\n",
    "Validation  accuracy:   0.659\n",
    "\n",
    "Validation  log_loss:   1.4601435912683975\n",
    "Validation  accuracy:   0.756 \n",
    "\n",
    "triangles & circles & rectangles vs different kinds of rectangles \n",
    "It's more difficult than Q4 since the features found are more similar and less distinct for the different classes.\n",
    "It's thus harder to find appropriate filters that seperates the classes. For example counting the edge pixels along vertical lines \n",
    "could be useful when distinguishing between circles and rectangles, but if the comparison is between two types of rectangles this feature\n",
    "is likely less useful since both classes has pixels along vertical edges. "
   ]
  },
  {
   "cell_type": "markdown",
   "metadata": {},
   "source": [
    "### CellName: Ex4-1 (#9)\n",
    "### CellType: Exercise\n",
    "### Cell instruction: Instructions for question 6-9\n",
    "\n",
    "## RNN as a pulse converter\n",
    "We will now look at recurrent networks! **Note**: This exercise is divided into three cells. The actual questions for this part can be found in cell *Ex4-3* below.\n",
    "\n",
    "### Loading and visualizing the data\n",
    "The cell below loads the training data and the validation data from existing binary python files and plots one set of training/validation data, both the input sequence and the target sequence. Run the cell by entering into the cell and press \"CTRL Enter\".\n",
    "\n",
    "How is data generated? The input sequence consists of square pulses with varying length and height. The waiting time between the pulses is also varying within some predefined ranges. The lower limit is 2 times the length of the previous pulse. The target triangle pulse sequence is built from the input sequence as follows:\n",
    "* the triangle pulse starts when the input square pulse have ended.\n",
    "* the width of the triangle (at the base) is twice the width of the square pulse.\n",
    "* the height of the triangle is the same as the height of the square pulse.\n",
    "\n",
    "The task is now to learn this mapping using a recurrent neural network. There are 500 input/target sequences in the training data and 500 in the validation data.\n"
   ]
  },
  {
   "cell_type": "code",
   "execution_count": null,
   "metadata": {},
   "outputs": [],
   "source": [
    "# Load data from files\n",
    "x_trn,d_trn= np.load(\"pulsedata1-trn.npy\")\n",
    "x_val,d_val = np.load(\"pulsedata1-val.npy\")\n",
    "\n",
    "\n",
    "print('Training data input shape: ', x_trn.shape)\n",
    "print('Training data output shape: ', d_trn.shape)\n",
    "print('Validation data input shape: ', x_val.shape)\n",
    "print('Validation data output shape: ', d_val.shape)\n",
    "\n",
    "# If this is set to True, then we have the reverse problem. Input triangle pulse, target square puls.\n",
    "if False:\n",
    "    d_trn,x_trn = x_trn[:,::-1],d_trn[:,::-1]\n",
    "    d_val,x_val = x_val[:,::-1],d_val[:,::-1]\n",
    "\n",
    "ns,tlen = x_trn.shape\n",
    "t = np.arange(tlen)\n",
    "\n",
    "# The training / test case to look at\n",
    "i = 3\n",
    "\n",
    "# Plot\n",
    "plt.figure(figsize=(15,10))\n",
    "plt.subplot(4,1,1)\n",
    "plt.plot(t,x_trn[i,:])\n",
    "plt.legend(['Training, input sequence'], loc=0)\n",
    "\n",
    "plt.subplot(4,1,2)\n",
    "plt.plot(t,d_trn[i,:])\n",
    "plt.legend(['Training, target sequence'], loc=0)\n",
    "\n",
    "plt.subplot(4,1,3)\n",
    "plt.plot(t,x_val[i,:])\n",
    "plt.legend(['Validation, input sequence'], loc=0)\n",
    "\n",
    "plt.subplot(4,1,4)\n",
    "plt.plot(t,d_val[i,:])\n",
    "plt.legend(['Validation, target sequence'], loc=0)\n"
   ]
  },
  {
   "cell_type": "markdown",
   "metadata": {},
   "source": [
    "### CellName: Ex4-2 (#10)\n",
    "### CellType: Exercise\n",
    "### Cell instruction: Instructions for question 6-9\n",
    "\n",
    "## RNN as a pulse converter\n",
    "### Define the model and train\n",
    "Here we are going to setup the model and train it. There are three different models to choose from: \n",
    "* SimpleRNN: Simple feedback weights where the output from a node is feeding back to itself. For several hidden nodes there are feedback weights to all other nodes in the layer.\n",
    "* LSTM: The LSTM unit\n",
    "* GRU: The GRU unit\n",
    "\n",
    "The standard choice of activation function is *tanh*, but you can also test *relu*. When it comes to training this model we are going to use a possible truncated BPTT approach. The support in Keras for doing this is somewhat limited so here it is implemented manually. In short we have 500 training sequences and we define a mini-batch size *mb* that selects *mb* of these sequences to train using the normal stochastic gradient descent idea. Then we have a variable *batchlen* that is the length of the sequence to use in truncated BPTT. The default values for these are *mb=20* and *batchlen=50*. If you want to train without the truncated BPTT approach put *batchlen=100*.\n",
    "\n",
    "During training we print the normalized training and validation error. Normalized means here that the loss (=MSE) is divided by the variance of the target signal. That means that a normalized error of 1 is poor, but below 0.1 (or so) the error is much smaller than the signal itself.\n",
    "\n",
    "What you need to do in this cell is to define your model and train it."
   ]
  },
  {
   "cell_type": "code",
   "execution_count": null,
   "metadata": {},
   "outputs": [],
   "source": [
    "%%time\n",
    "ns,tlen = x_trn.shape\n",
    "\n",
    "# Parameters defining the mini-batch size and \n",
    "# the sequence length for truncated BPTT\n",
    "mb = 20\n",
    "batchlen = 50\n",
    "\n",
    "# The network type\n",
    "net = SimpleRNN\n",
    "#net = GRU\n",
    "#net = LSTM\n",
    "\n",
    "# Number of hidden nodes\n",
    "nh1 = 5\n",
    "\n",
    "# This is only if you would like to add an additional hidden layer. See below.\n",
    "nh2 = 5\n",
    "\n",
    "# The activation function\n",
    "activation = 'tanh'\n",
    "#activation = 'relu'\n",
    "\n",
    "# The number of epochs\n",
    "nE = 20\n",
    "\n",
    "# Start defining the model\n",
    "nmb = ns//mb\n",
    "ntsteps = tlen//batchlen\n",
    "\n",
    "model = Sequential()\n",
    "model.add(net(nh1, \n",
    "              batch_input_shape=(mb,batchlen,1), \n",
    "              stateful=True, \n",
    "              return_sequences=True, \n",
    "              activation=activation))\n",
    "\n",
    "# Uncomment this line if you want to add an additional hidden layer\n",
    "\n",
    "model.add(TimeDistributed(Dense(1)))\n",
    "\n",
    "adam = Adam(learning_rate=0.003)\n",
    "model.compile(optimizer=adam,loss='mean_squared_error')\n",
    "model.summary()\n",
    "\n",
    "# Now the training part\n",
    "trnTrgVar = np.var(d_trn[:,:])   # Variance for train target signal\n",
    "valTrgVar = np.var(d_val[:,:])   # Variance for validation target signal\n",
    "ndone = 0\n",
    "\n",
    "print('Epoch', 'Time/Epoch', ' Trn-Err', '    Val-Err')\n",
    "for ne in range(nE):\n",
    "    t0 = time.time()\n",
    "    sumlossTrn = 0\n",
    "    for batch in range(nmb):\n",
    "        i1,i2 = batch*mb,(batch+1)*mb\n",
    "        model.reset_states()\n",
    "        for tstep in range(ntsteps):\n",
    "            t1,t2 = tstep*batchlen,(tstep+1)*batchlen\n",
    "            loss = model.train_on_batch(x_trn[i1:i2,t1:t2,None], d_trn[i1:i2,t1:t2,None])\n",
    "            sumlossTrn += loss\n",
    "    meanlossTrn = sumlossTrn/(nmb*ntsteps)\n",
    "\n",
    "    # Validation error\n",
    "    sumlossVal = 0\n",
    "    for batch in range(nmb):\n",
    "        i1,i2 = batch*mb,(batch+1)*mb\n",
    "        model.reset_states()\n",
    "        for tstep in range(ntsteps):\n",
    "            t1,t2 = tstep*batchlen,(tstep+1)*batchlen\n",
    "            loss = model.evaluate(x_val[i1:i2,t1:t2,None], d_val[i1:i2,t1:t2,None],batch_size=mb,verbose=0)\n",
    "            sumlossVal += loss\n",
    "    meanlossVal = sumlossVal/(nmb*ntsteps)\n",
    "    t1 = time.time()\n",
    "    ndone += 1\n",
    "    print(ndone, \"    {:.2f}        {:.5f}     {:.5f}\".format(t1-t0, meanlossTrn/trnTrgVar, meanlossVal/valTrgVar))\n"
   ]
  },
  {
   "cell_type": "markdown",
   "metadata": {},
   "source": [
    "### CellName: Ex4-3 (#11)\n",
    "### CellType: Exercise\n",
    "### Cell instruction: Instructions for question 6-9\n",
    "\n",
    "## RNN as a pulse converter\n",
    "### Plot the result\n",
    "In this cell we just plot the result for one of the first *mb* (minibatch size) test sequences. You can select which of these ones by an index (see the code). Also, the last graph shows the hidden node activation for all of the hidden nodes. **Note:** For the GRU and simpleRNN models this is all of the hidden activity there is, but for the LSTM there is also the memory signal. That one is not shown!\n",
    "\n",
    "### Questions\n",
    "We are now finally at the point of asking questions. Whenever you define a new model and train it, you need to run the  cell below in order to show the result for the newly trained model. \n",
    "\n",
    "**Hint!** For all of the questions below you are going to train different models. Keep an eye on how the training error is developing. If you see large fluctuations, you may to change the learning rate. The default value of 0.003 should be OK for most trainings. \n",
    "\n",
    "#### Question 6\n",
    "(Just to get started!) Define a simpleRNN model with 5 hidden nodes and train it for about 20 epochs. **What validation error do you obtain?** \n",
    "\n",
    "Hint 1: The validation error can be found during \"training\" as the error for the last epoch.<br>\n",
    "Hint 2: You may have to train a couple of times to make sure that you did not end up in a \"bad\" local minima the first time.\n",
    "\n",
    "#### Question 7\n",
    "Test different models! Train the three different models (one hidden layer only) with the approximately the same number of trainable weights (around 150-200) and decide which of them that works best? **So, out of the three different models, *simpleRNN, GRU* and *LSTM*, which one worked best using the same number weights?**\n",
    "\n",
    "#### Question 8\n",
    "Interpretation! You are now going to interpret the hidden node outputs. Remember that the actual output for each time is a linear combination of the hidden node outputs. As said before you can see the hidden nodes output in the last plot. Note that the weights in the dense layer can have different signs so that hidden nodes outputs can be linearly combined with both positive and negatives signs. Train a *GRU* model with 3 hidden nodes for about 20 epochs. **Try to explain what the different hidden nodes are detecting**.\n",
    "\n",
    "Comment: This is of course a question with no definite true answer. We just want you to interpret what the different nodes are doing.\n",
    "\n",
    "#### Question 9\n",
    "If you look at the top of cell *Ex4-1* you can, by changing False -> True, define the reverse problem (see top of the code cell). That is, input is the triangle pulse and target is the square pulse. This should be a more difficult problem! **Why?** **Present a RNN model that can \"solve\" this reverse problem (i.e. below 0.1 in test error).**\n",
    "\n",
    "Hint: Here you can experiment with two hidden layers of LSTM/GRU/SimpleRNN nodes\n"
   ]
  },
  {
   "cell_type": "code",
   "execution_count": null,
   "metadata": {},
   "outputs": [],
   "source": [
    "xshow = x_val[:mb]\n",
    "dshow = d_val[:mb]\n",
    "dout = np.zeros((mb,tlen))\n",
    "hidden1 = np.zeros((mb,tlen,nh1))\n",
    "hidden2 = np.zeros((mb,tlen,nh2))\n",
    "\n",
    "rnn1 = model.layers[0]\n",
    "rnn2= model.layers[1]\n",
    "\n",
    "#dense = model.layers[-1]\n",
    "#sign = K.sign(dense.layer.kernel)[None,None,:,0]\n",
    "if len(model.layers) > 2 :\n",
    "    intermediate = K.function([rnn1.input], [rnn1.output, rnn2.output ])\n",
    "else :\n",
    "    intermediate = K.function([rnn1.input], [rnn1.output])\n",
    "\n",
    "for tstep in range(ntsteps):\n",
    "    t1,t2 = tstep*batchlen,(tstep+1)*batchlen\n",
    "    inp = xshow[:,t1:t2,None]\n",
    "    if len(model.layers) > 2 :\n",
    "        hi,hi2 = intermediate([inp])\n",
    "        hidden2[:,t1:t2:,:] = hi2\n",
    "    else :\n",
    "        hi, = intermediate([inp])\n",
    "    hidden1[:,t1:t2:,:] = hi\n",
    "    yi = model.predict(xshow[:,t1:t2,None])\n",
    "    dout[:,t1:t2] = yi[:,:,0]\n",
    "\n",
    "t = np.arange(tlen)\n",
    "\n",
    "# Selection of validation sequence, valid range is [0,mb]\n",
    "i = 0\n",
    "\n",
    "plt.figure(figsize=(15,10))\n",
    "\n",
    "plt.subplot(4,1,1)\n",
    "plt.plot(t,xshow[i],'-',marker='.')\n",
    "plt.legend(['Training, input sequence'], loc=0)\n",
    "\n",
    "plt.subplot(4,1,2)\n",
    "plt.plot(t,dshow[i],'-',marker='.')\n",
    "plt.plot(t,dout[i],'-',marker='.')\n",
    "plt.legend(['Validation, target sequnce', 'Validation, predicted sequence'], loc=0)\n",
    "\n",
    "plt.subplot(4,1,3)\n",
    "plt.plot(t,hidden1[i],'-',marker='.')\n",
    "plt.title('Hidden 1 node outputs')\n",
    "\n",
    "if len(model.layers) > 2 :\n",
    "    plt.subplot(4,1,4)\n",
    "    plt.plot(t,hidden2[i],'-',marker='.')\n",
    "    plt.title('Hidden 2 node outputs')"
   ]
  },
  {
   "cell_type": "markdown",
   "metadata": {},
   "source": [
    "# The report!\n",
    "We have added intructions inside this report template. As you write your report, remove the instructions.\n",
    "\n",
    "## Name\n",
    "\n",
    "## Introduction\n",
    "A few sentences about the overall theme of the exercise.\n",
    "\n",
    "## Answers to questions\n",
    "Provide enough information to clarify the meaning of your answers, so that they can be understood by someone who does not scroll up and read the entire instruction.\n",
    "\n",
    "The questions are repeated here, for clarity of what is demanded. If it does not fit your style to quote them verbatim, change the format.\n",
    "\n",
    "#### Question 1\n",
    "What is your validation set performance in terms of the accuracy?\n",
    "\n",
    "#### Question 2\n",
    "How many parameters do you have in your trimmed model? What is your architecture?\n",
    "\n",
    "#### Question 3\n",
    "Can you find and describe some property in the filters that makes sense when it comes to separating \"5\" from \"6\"?\n",
    "\n",
    "#### Question 4\n",
    "Provide the details of your CNN model for the CRT problem and present the validation result.\n",
    "\n",
    "#### Question 5\n",
    "Provide the details of your CNN model for the R3 problem and present the validation result.<br>\n",
    "Why is this a more difficult problem than Question 4?\n",
    "\n",
    "#### Question 6\n",
    "What validation error do you obtain?\n",
    "\n",
    "#### Question 7\n",
    "Present three different models, *simpleRNN, GRU* and *LSTM*, using roughly the same number weights.<br>\n",
    "Which one worked best?\n",
    "\n",
    "#### Question 8\n",
    "Try to explain what the different hidden nodes are detecting. *Comment: This is of course a question with no definite true answer. We just want you to interpret what the different nodes are doing.*\n",
    "\n",
    "#### Question 9\n",
    "Why is the reverse of the pulse problem (input signal and target signal change roles, time is reversed) more difficult? <br>\n",
    "Present a RNN model that can \"solve\" this reverse problem (i.e. below 0.1 in test error).\n",
    "\n",
    "\n",
    "## Summary\n",
    "Connect the summary to your introduction, to provide a brief overview of your findings.\n"
   ]
  },
  {
   "cell_type": "code",
   "execution_count": 35,
   "metadata": {},
   "outputs": [
    {
     "name": "stderr",
     "output_type": "stream",
     "text": [
      "/var/folders/fm/n7phjpnx6gn8b2s7dzxhblpm0000gn/T/ipykernel_8890/3241759781.py:5: DeprecationWarning: Starting with ImageIO v3 the behavior of this function will switch to that of iio.v3.imread. To keep the current behavior (and make this warning disappear) use `import imageio.v2 as imageio` or call `imageio.v2.imread` directly.\n",
      "  img = imageio.imread(folder+\"img_{:05}.png\".format(i+1))\n"
     ]
    },
    {
     "name": "stdout",
     "output_type": "stream",
     "text": [
      "Training data input shape:  (500, 64, 64, 1)\n",
      "Training data output shape:  (500, 3)\n",
      "Validation data input shape:  (1000, 64, 64, 1)\n",
      "Validation data output shape:  (1000, 3)\n",
      "Training data input shape:  (500, 64, 64, 1)\n",
      "Model: \"sequential_12\"\n",
      "_________________________________________________________________\n",
      "Layer (type)                 Output Shape              Param #   \n",
      "=================================================================\n",
      "conv2d_15 (Conv2D)           (None, 62, 62, 4)         40        \n",
      "_________________________________________________________________\n",
      "max_pooling2d_15 (MaxPooling (None, 31, 31, 4)         0         \n",
      "_________________________________________________________________\n",
      "conv2d_16 (Conv2D)           (None, 30, 30, 3)         51        \n",
      "_________________________________________________________________\n",
      "max_pooling2d_16 (MaxPooling (None, 15, 15, 3)         0         \n",
      "_________________________________________________________________\n",
      "flatten_11 (Flatten)         (None, 675)               0         \n",
      "_________________________________________________________________\n",
      "dense_22 (Dense)             (None, 10)                6760      \n",
      "_________________________________________________________________\n",
      "dense_23 (Dense)             (None, 3)                 33        \n",
      "=================================================================\n",
      "Total params: 6,884\n",
      "Trainable params: 6,884\n",
      "Non-trainable params: 0\n",
      "_________________________________________________________________\n"
     ]
    },
    {
     "data": {
      "image/png": "[encoded data removed]",
      "text/plain": [
       "<Figure size 432x288 with 1 Axes>"
      ]
     },
     "metadata": {
      "needs_background": "light"
     },
     "output_type": "display_data"
    },
    {
     "name": "stdout",
     "output_type": "stream",
     "text": [
      "Training  log_loss:   0.0011912219242321952\n",
      "Training  accuracy:   1.0 \n",
      "\n"
     ]
    },
    {
     "data": {
      "image/png": "[encoded data removed]",
      "text/plain": [
       "<Figure size 576x432 with 2 Axes>"
      ]
     },
     "metadata": {
      "needs_background": "light"
     },
     "output_type": "display_data"
    },
    {
     "name": "stdout",
     "output_type": "stream",
     "text": [
      "Validation  log_loss:   0.2266159023633435\n",
      "Validation  accuracy:   0.936 \n",
      "\n"
     ]
    },
    {
     "data": {
      "image/png": "[encoded data removed]",
      "text/plain": [
       "<Figure size 576x432 with 2 Axes>"
      ]
     },
     "metadata": {
      "needs_background": "light"
     },
     "output_type": "display_data"
    }
   ],
   "source": [
    "# Load the CRT dataset (Question 4)\n",
    "x_trn, d_trn, x_val, d_val, width, height = loadImagesCRT()\n",
    "# Load the R3 dataset (Question 5)\n",
    "#x_trn, d_trn, x_val, d_val, width, height = loadImagesR3()\n",
    "\n",
    "print('Training data input shape: ', x_trn.shape)\n",
    "print('Training data output shape: ', d_trn.shape)\n",
    "print('Validation data input shape: ', x_val.shape)\n",
    "print('Validation data output shape: ', d_val.shape)\n",
    "\n",
    "# The size of the images\n",
    "input_shape = (width, height, 1)\n",
    "\n",
    "# Define the CNN ex3\n",
    "ex3 = Sequential()\n",
    "\n",
    "#\n",
    "# YOUR CODE HERE\n",
    "#\n",
    "# First conv layer\n",
    "ex3.add(Conv2D(4, kernel_size=(3, 3), activation='relu', input_shape=input_shape))\n",
    "ex3.add(MaxPooling2D(pool_size=(2, 2)))\n",
    "\n",
    "# Second conv layer\n",
    "ex3.add(Conv2D(3, kernel_size=(2, 2), activation='relu'))\n",
    "ex3.add(MaxPooling2D(pool_size=(2, 2)))\n",
    "\n",
    "# Fully connected MLP layers\n",
    "ex3.add(Flatten())\n",
    "ex3.add(Dense(10, activation='relu'))\n",
    "\n",
    "# Output layer\n",
    "ex3.add(Dense(3, activation='softmax'))\n",
    "#\n",
    "# YOUR CODE HERE\n",
    "#\n",
    "\n",
    "# We use cross entropy error and the adam optimizer\n",
    "adam = Adam(learning_rate=0.003)\n",
    "ex3.compile(loss='categorical_crossentropy', optimizer=adam, metrics=['accuracy'])\n",
    "ex3.summary()\n",
    "\n",
    "# Now train the ex3\n",
    "estimator_ex3 = ex3.fit(x_trn, d_trn, \n",
    "                      validation_data=(x_val, d_val),\n",
    "                      epochs=50, \n",
    "                      batch_size=50,\n",
    "                      verbose=0)\n",
    "\n",
    "# Training history\n",
    "plt.figure()\n",
    "plt.ylabel('Loss / Accuracy')\n",
    "plt.xlabel('Epoch')\n",
    "for k in estimator_ex3.history.keys():\n",
    "    plt.plot(estimator_ex3.history[k], label = k) \n",
    "plt.legend(loc='best')\n",
    "plt.show()\n",
    "\n",
    "# Training result\n",
    "multi_stat_3(ex3, x_trn, d_trn, 'Training')\n",
    "\n",
    "# Validation result\n",
    "multi_stat_3(ex3, x_val, d_val, 'Validation')"
   ]
  }
 ],
 "metadata": {
  "kernelspec": {
   "display_name": "Python 3 (ipykernel)",
   "language": "python",
   "name": "python3"
  },
  "language_info": {
   "codemirror_mode": {
    "name": "ipython",
    "version": 3
   },
   "file_extension": ".py",
   "mimetype": "text/x-python",
   "name": "python",
   "nbconvert_exporter": "python",
   "pygments_lexer": "ipython3",
   "version": "3.9.16"
  }
 },
 "nbformat": 4,
 "nbformat_minor": 4
}
