{
 "cells": [
  {
   "cell_type": "markdown",
   "metadata": {},
   "source": [
    "# Classification with the perceptron and logistic regression\n",
    "\n",
    "__Individual assignment__\n",
    "\n",
    "Author of the assignment: Pierre Nugues\n",
    "\n",
    "__Student name__: Anton Carlsson"
   ]
  },
  {
   "cell_type": "markdown",
   "metadata": {},
   "source": [
    "## Objectives\n",
    "\n",
    "The objectives of this second assignment are to:\n",
    "\n",
    "1.  Write a linear regression program using gradient descent;\n",
    "2.  Write linear classifiers using the perceptron algorithm and logistic regression;\n",
    "3.  Experiment variations of the algorithms;\n",
    "4.  Evaluate your classifiers;\n",
    "5.  Experiment with popular tools;\n",
    "6.  Read a scientific article on optimization techniques and comment it;\n",
    "7.  Present your code, results, and comments in a short dissertation."
   ]
  },
  {
   "cell_type": "markdown",
   "metadata": {},
   "source": [
    "## Overview\n",
    "\n",
    "The gradient descent is a basic technique to estimate linear discriminant functions. You will first use the gradient descent method to implement linear regression. You will then program the perceptron algorithm. Finally, you will improve the threshold function with the logistic curve (logistic regression). You will try various configurations and study their influence on the learning speed and accuracy."
   ]
  },
  {
   "cell_type": "markdown",
   "metadata": {},
   "source": [
    "##  Programming language\n",
    "As programming language, you will use Python and write your code in this notebook.\n",
    "\n",
    "You need to have a comprehensive Python distribution such as Anaconda (https://www.anaconda.com/products/individual). This distribution is available on the student computers at the computer science department.\n",
    "Finally, you start a notebook by typing:\n",
    "\n",
    "`jupyter lab`\n",
    "\n",
    "in a terminal window and you select the notebook by clicking on it in the left pane.\n",
    "You run the pieces of code by typing shift+enter."
   ]
  },
  {
   "cell_type": "markdown",
   "metadata": {},
   "source": [
    "## Imports\n",
    "Imports you may use"
   ]
  },
  {
   "cell_type": "code",
   "execution_count": 97,
   "metadata": {},
   "outputs": [],
   "source": [
    "import numpy as np\n",
    "import math\n",
    "import random\n",
    "import matplotlib.pyplot as plt\n",
    "from matplotlib import cm\n",
    "from mpl_toolkits.mplot3d import Axes3D"
   ]
  },
  {
   "cell_type": "markdown",
   "metadata": {},
   "source": [
    "## Linear Regression\n",
    "\n",
    "You will implement the gradient descent method as explained in pages 719--720 in Russell-Norvig and in the slides to compute regression lines. You will implement the stochastic and batch versions of the algorithm.\n",
    "\n",
    "You must try to do it yourself first. If you encounter difficulties, you also have the solution to this exercise in the section _Solution to linear regression_ below."
   ]
  },
  {
   "cell_type": "markdown",
   "metadata": {},
   "source": [
    "### Your implementation of linear regression\n",
    "You will implement a regression program to predict the counts of _A_'s in a text from the total count of letters. You will apply it on two data sets corresponding to letter counts in the 15 chapters of the French and English versions of _Salammbô_, where the first column is the total count of characters and the second one, the count of A's. \n",
    "\n",
    "Start with either French or English and when your program ready, test it on the other language."
   ]
  },
  {
   "cell_type": "code",
   "execution_count": 98,
   "metadata": {},
   "outputs": [],
   "source": [
    "stat_fr = np.array([[36961, 2503],\n",
    "                      [43621, 2992],\n",
    "                      [15694, 1042],\n",
    "                      [36231, 2487],\n",
    "                      [29945, 2014],\n",
    "                      [40588, 2805],\n",
    "                      [75255, 5062],\n",
    "                      [37709, 2643],\n",
    "                      [30899, 2126],\n",
    "                      [25486, 1784],\n",
    "                      [37497, 2641],\n",
    "                      [40398, 2766],\n",
    "                      [74105, 5047],\n",
    "                      [76725, 5312],\n",
    "                      [18317, 1215]])\n",
    "\n",
    "stat_en = np.array([[35680, 2217],\n",
    "                      [42514, 2761],\n",
    "                      [15162, 990],\n",
    "                      [35298, 2274],\n",
    "                      [29800, 1865],\n",
    "                      [40255, 2606],\n",
    "                      [74532, 4805],\n",
    "                      [37464, 2396],\n",
    "                      [31030, 1993],\n",
    "                      [24843, 1627],\n",
    "                      [36172, 2375],\n",
    "                      [39552, 2560],\n",
    "                      [72545, 4597],\n",
    "                      [75352, 4871],\n",
    "                      [18031, 1119]])"
   ]
  },
  {
   "cell_type": "markdown",
   "metadata": {},
   "source": [
    "From the datasets above, tell what is $\\mathbf{X}$ and $\\mathbf{y}$. Extract: X is feature vector consisting of the number of words in the first column of the dataset. Y is target, the A vector corresponding to the second column in the dataset. \n",
    "1. The $\\mathbf{X}$ matrix, where you will have a column to model the intercept;\n",
    "2. The $\\mathbf{y}$ vector\n",
    "\n",
    "from these arrays."
   ]
  },
  {
   "cell_type": "code",
   "execution_count": 99,
   "metadata": {},
   "outputs": [
    {
     "name": "stdout",
     "output_type": "stream",
     "text": [
      "[[1, 35680], [1, 42514], [1, 15162], [1, 35298], [1, 29800], [1, 40255], [1, 74532], [1, 37464], [1, 31030], [1, 24843], [1, 36172], [1, 39552], [1, 72545], [1, 75352], [1, 18031]]\n",
      "[2217, 2761, 990, 2274, 1865, 2606, 4805, 2396, 1993, 1627, 2375, 2560, 4597, 4871, 1119]\n"
     ]
    }
   ],
   "source": [
    "# Write your code here\n",
    "\n",
    "def get_Xy():\n",
    "    X = []\n",
    "    y = []\n",
    "    for el in stat_en:\n",
    "        X.append([1, el[0]])#.append(el[0])\n",
    "        y.append(el[1])\n",
    "    return X, y\n",
    "\n",
    "X,y = get_Xy()\n",
    "print(X)\n",
    "print(y)"
   ]
  },
  {
   "cell_type": "markdown",
   "metadata": {},
   "source": [
    "Scale the arrays so that they fit in the range [0, 1] on the $x$ and $y$ axes. "
   ]
  },
  {
   "cell_type": "code",
   "execution_count": 100,
   "metadata": {},
   "outputs": [
    {
     "name": "stdout",
     "output_type": "stream",
     "text": [
      "[[1, 35680], [1, 42514], [1, 15162], [1, 35298], [1, 29800], [1, 40255], [1, 74532], [1, 37464], [1, 31030], [1, 24843], [1, 36172], [1, 39552], [1, 72545], [1, 75352], [1, 18031]]\n"
     ]
    }
   ],
   "source": [
    "# Write your code here\n",
    "\n",
    "def get_Xy_scaled(X, y):\n",
    "    tmp = [el[1] for el in X]\n",
    "    X = [[el[0], el[1]/max(tmp)] for el in X]\n",
    "    y = [el/max(y) for el in y]\n",
    "    return X, y\n",
    "X_scaled, y_scaled = get_Xy_scaled(X, y)\n",
    "print(X)"
   ]
  },
  {
   "cell_type": "markdown",
   "metadata": {},
   "source": [
    "#### Gradient descent"
   ]
  },
  {
   "cell_type": "markdown",
   "metadata": {},
   "source": [
    "Implement the descent functions. You will pass `X`, `y`, the learning rate in the $\\alpha$ variable, the initial weight vector in `w`, the tolerance in the $\\epsilon$ variable, the maximal number of epochs in `epochs`. You will return `w`."
   ]
  },
  {
   "cell_type": "markdown",
   "metadata": {},
   "source": [
    "- The batch size is a number of samples processed before the model is updated.\n",
    "\n",
    "- The number of epochs is the number of complete passes through the training dataset."
   ]
  },
  {
   "cell_type": "markdown",
   "metadata": {},
   "source": [
    "Batch descent"
   ]
  },
  {
   "cell_type": "code",
   "execution_count": 101,
   "metadata": {},
   "outputs": [],
   "source": [
    "def normalize(Xy):\n",
    "    maxima = np.amax(Xy, axis=0)\n",
    "    D = np.diag(maxima)\n",
    "    D_inv = np.linalg.inv(D)\n",
    "    Xy = Xy @ D_inv\n",
    "    return (Xy, maxima)"
   ]
  },
  {
   "cell_type": "code",
   "execution_count": 102,
   "metadata": {},
   "outputs": [],
   "source": [
    "def sse(X, y, w):\n",
    "    error = y - X @ w\n",
    "    return error.T @ error"
   ]
  },
  {
   "cell_type": "code",
   "execution_count": 103,
   "metadata": {},
   "outputs": [],
   "source": [
    "def predict(X, w):\n",
    "    return X @ w"
   ]
  },
  {
   "cell_type": "code",
   "execution_count": 104,
   "metadata": {},
   "outputs": [],
   "source": [
    "# Write your code here\n",
    "def fit_batch(X, y, alpha, w,\n",
    "                  epochs=500,\n",
    "                  epsilon=1.0e-5):\n",
    "    \"\"\"\n",
    "    Batch gradient descent\n",
    "    :param X:\n",
    "    :param y:\n",
    "    :param alpha:\n",
    "    :param w:\n",
    "    :param epochs:\n",
    "    :param epsilon:\n",
    "    :return:\n",
    "    \"\"\"\n",
    "    global logs\n",
    "    logs = []\n",
    "    alpha /= len(X)\n",
    "    for epoch in range(epochs):\n",
    "        loss = y - predict(X, w)\n",
    "        gradient = X.T @ loss\n",
    "        w = w + alpha * gradient\n",
    "        logs += (w, alpha, sse(X, y, w))\n",
    "        if np.linalg.norm(gradient) < epsilon:\n",
    "            break\n",
    "    print(\"Epoch\", epoch)\n",
    "    return w"
   ]
  },
  {
   "cell_type": "markdown",
   "metadata": {},
   "source": [
    "Stochastic descent"
   ]
  },
  {
   "cell_type": "code",
   "execution_count": 105,
   "metadata": {},
   "outputs": [],
   "source": [
    "# Write your code here\n",
    "def fit_stoch(X, y, alpha, w,\n",
    "                  epochs=500,\n",
    "                  epsilon=1.0e-5):\n",
    "    \"\"\"\n",
    "    Stochastic gradient descent\n",
    "    :param X:\n",
    "    :param y:\n",
    "    :param alpha:\n",
    "    :param w:\n",
    "    :param epochs:\n",
    "    :param epsilon:\n",
    "    :return:\n",
    "    \"\"\"\n",
    "    global logs, logs_stoch\n",
    "    logs = []\n",
    "    logs_stoch = []\n",
    "    random.seed(0)\n",
    "    idx = list(range(len(X)))\n",
    "    for epoch in range(epochs):\n",
    "        random.shuffle(idx)\n",
    "        for i in idx:\n",
    "            loss = y[i] - predict(X[i], w)[0]\n",
    "            gradient = loss * np.array([X[i]]).T\n",
    "            w = w + alpha * gradient\n",
    "            logs_stoch += (w, alpha, sse(X, y, w))\n",
    "        if np.linalg.norm(gradient) < epsilon:\n",
    "            break\n",
    "        logs += (w, alpha, sse(X, y, w))\n",
    "    print(\"Epoch\", epoch)\n",
    "    return w"
   ]
  },
  {
   "cell_type": "markdown",
   "metadata": {},
   "source": [
    "#### Applying batch descent"
   ]
  },
  {
   "cell_type": "markdown",
   "metadata": {},
   "source": [
    "Apply the batch descent and print the final weight values "
   ]
  },
  {
   "cell_type": "code",
   "execution_count": 106,
   "metadata": {},
   "outputs": [],
   "source": [
    "X,y = get_Xy()\n",
    "X_scaled,y_scaled = get_Xy_scaled(X, y)\n",
    "normalized = True\n",
    "debug = False\n",
    "# Predictors\n",
    "X_scaled = np.array(X_scaled)\n",
    "# Response\n",
    "y_scaled = np.array([y_scaled]).T\n",
    "\n",
    "alpha = 1.0\n",
    "#if normalized:\n",
    "#    X_scaled, maxima_X = normalize(X_scaled)\n",
    "#    y_scaled, maxima_y = normalize(y_scaled)\n",
    "#    maxima = np.concatenate((maxima_X, maxima_y))\n",
    "    #alpha = 1.0\n",
    "#    print(\"-Normalized-\")"
   ]
  },
  {
   "cell_type": "code",
   "execution_count": 107,
   "metadata": {},
   "outputs": [
    {
     "name": "stdout",
     "output_type": "stream",
     "text": [
      "===Batch descent===\n",
      "Epoch 235\n",
      "Weights [[-7.31744724e-04]\n",
      " [ 9.94697306e-01]]\n"
     ]
    }
   ],
   "source": [
    "# Write your code here\n",
    "print(\"===Batch descent===\")\n",
    "w_batch = np.zeros(X_scaled.shape[1]).reshape((-1, 1))\n",
    "#alpha = 0.000001\n",
    "w_batch = fit_batch(X_scaled, y_scaled, alpha, w_batch)\n",
    "print(\"Weights\", w_batch)\n",
    "#print(\"SSE\", sse(X_scaled, y_scaled, w_batch))\n",
    "#if normalized:\n",
    "#    maxima = maxima.reshape(-1, 1)\n",
    "#    w = maxima[-1, 0] * (w_batch / maxima[:-1, 0:1])\n",
    "#    print(\"Restored weights\", w_batch)\n",
    "if debug:\n",
    "    print(\"Logs\", logs)"
   ]
  },
  {
   "cell_type": "markdown",
   "metadata": {},
   "source": [
    "Visualize the points of your dataset as well as the regression lines you obtain using matplotlib or another similar program."
   ]
  },
  {
   "cell_type": "code",
   "execution_count": 108,
   "metadata": {},
   "outputs": [
    {
     "name": "stdout",
     "output_type": "stream",
     "text": [
      "linspace: \n",
      " [0.20121563 0.25827165 0.31532768 0.37238371 0.42943973 0.48649576\n",
      " 0.54355179 0.60060781 0.65766384 0.71471987 0.77177589 0.82883192\n",
      " 0.88588795 0.94294397 1.        ]\n",
      "\n",
      "weights: \n",
      " [[-7.31744724e-04]\n",
      " [ 9.94697306e-01]]\n",
      "\n",
      "\n",
      "y=kx+m: \n",
      " [0.99435082 0.99428445 0.99455007 0.99435453 0.99440792 0.99430639\n",
      " 0.99397352 0.99433349 0.99439597 0.99445606 0.99434604 0.99431322\n",
      " 0.99399282 0.99396556 0.99452221]\n"
     ]
    },
    {
     "data": {
      "image/png": "[encoded data removed]",
      "text/plain": [
       "<Figure size 432x288 with 1 Axes>"
      ]
     },
     "metadata": {
      "needs_background": "light"
     },
     "output_type": "display_data"
    }
   ],
   "source": [
    "x_test = [X_scaled[i][1] for i in range(len(X_scaled))]\n",
    "y_test = [yi for yi in y_scaled]\n",
    "lin = np.linspace(min(x_test),\n",
    "               max(x_test),\n",
    "               num = len(X_scaled),\n",
    "               endpoint = True)\n",
    "#x_test = np.array(x_test)\n",
    "#x_test = x_test.reshape(-1, 1)\n",
    "print('linspace: \\n {}'.format(lin))\n",
    "print()\n",
    "print('weights: \\n {}'.format(w_batch))\n",
    "print()\n",
    "#print(y_test .* x_test)\n",
    "print()\n",
    "#print(np.matrix(x_test) + np.matrix(x_test * w_batch))\n",
    "\n",
    "\n",
    "print('y=kx+m: \\n {}'.format(w_batch[0]*x_test + w_batch[1]))\n",
    "\n",
    "plt.figure()\n",
    "plt.scatter(x_test, y_test)\n",
    "plt.plot(lin, \n",
    "            w_batch[1]*lin + w_batch[0],\n",
    "            'g', label='batch')\n",
    "plt.xlabel('x')\n",
    "plt.ylabel('y')\n",
    "plt.legend()\n",
    "plt.show()"
   ]
  },
  {
   "cell_type": "markdown",
   "metadata": {},
   "source": [
    "#### Stochastic descent"
   ]
  },
  {
   "cell_type": "code",
   "execution_count": 109,
   "metadata": {},
   "outputs": [
    {
     "name": "stdout",
     "output_type": "stream",
     "text": [
      "===Stochastic descent===\n",
      "Epoch 499\n",
      "Weights [[0.00339067]\n",
      " [0.99373072]]\n",
      "SSE [[0.00105848]]\n"
     ]
    }
   ],
   "source": [
    "# Write your code here\n",
    "print(\"===Stochastic descent===\")\n",
    "w_stoch = np.zeros(X_scaled.shape[1]).reshape((-1, 1))\n",
    "w_stoch = fit_stoch(X_scaled, y_scaled, alpha, w_stoch)\n",
    "print(\"Weights\", w_stoch)\n",
    "print(\"SSE\", sse(X_scaled, y_scaled, w_stoch))\n",
    "#if normalized:\n",
    "#    maxima = maxima.reshape(-1, 1)\n",
    "#    w = maxima[-1, 0] * (w / maxima[:-1, 0:1])\n",
    "#    print(\"Restored weights\", w)\n",
    "if debug:\n",
    "    print(\"Logs\", logs)\n",
    "    print(\"Logs stoch.\", logs_stoch)\n"
   ]
  },
  {
   "cell_type": "markdown",
   "metadata": {},
   "source": [
    "Visualize the points of your dataset as well as the regression lines you obtain using matplotlib or another similar program."
   ]
  },
  {
   "cell_type": "code",
   "execution_count": 110,
   "metadata": {},
   "outputs": [
    {
     "name": "stdout",
     "output_type": "stream",
     "text": [
      "linspace: \n",
      " [0.20121563 0.25827165 0.31532768 0.37238371 0.42943973 0.48649576\n",
      " 0.54355179 0.60060781 0.65766384 0.71471987 0.77177589 0.82883192\n",
      " 0.88588795 0.94294397 1.        ]\n",
      "\n",
      "weights: \n",
      " [[0.00339067]\n",
      " [0.99373072]]\n",
      "\n",
      "\n",
      "y=kx+m: \n",
      " [0.99533624 0.99564375 0.99441297 0.99531905 0.99507165 0.9955421\n",
      " 0.99708449 0.99541651 0.995127   0.9948486  0.99535838 0.99551047\n",
      " 0.99699508 0.99712139 0.99454207]\n"
     ]
    },
    {
     "data": {
      "image/png": "[encoded data removed]",
      "text/plain": [
       "<Figure size 432x288 with 1 Axes>"
      ]
     },
     "metadata": {
      "needs_background": "light"
     },
     "output_type": "display_data"
    }
   ],
   "source": [
    "# Write your code here\n",
    "\n",
    "x_test = [X_scaled[i][1] for i in range(len(X_scaled))]\n",
    "y_test = [yi for yi in y_scaled]\n",
    "lin = np.linspace(min(x_test),\n",
    "               max(x_test),\n",
    "               num = len(X_scaled),\n",
    "               endpoint = True)\n",
    "#x_test = np.array(x_test)\n",
    "#x_test = x_test.reshape(-1, 1)\n",
    "print('linspace: \\n {}'.format(lin))\n",
    "print()\n",
    "print('weights: \\n {}'.format(w_stoch))\n",
    "print()\n",
    "#print(y_test .* x_test)\n",
    "print()\n",
    "#print(np.matrix(x_test) + np.matrix(x_test * w_stoch))\n",
    "\n",
    "\n",
    "print('y=kx+m: \\n {}'.format(w_stoch[0]*x_test + w_stoch[1]))\n",
    "\n",
    "plt.figure()\n",
    "plt.scatter(x_test, y_test)\n",
    "plt.plot(lin, \n",
    "            w_stoch[1]*lin + w_stoch[0],\n",
    "            'g', label='stoch')\n",
    "plt.xlabel('x')\n",
    "plt.ylabel('y')\n",
    "plt.legend()\n",
    "plt.show()\n"
   ]
  },
  {
   "cell_type": "markdown",
   "metadata": {},
   "source": [
    "### A solution to linear regression\n",
    "\n",
    "To help you start this assignment, your instructor wrote two Python notebooks that solve this exercise on linear regression. You can find them here: https://github.com/pnugues/ilppp/tree/master/programs/ch04/python\n",
    "The first notebook, `gradient_descent.ipynb`, only uses Python and vector operations such as the dot product that are in the `vector.py` file.\n",
    "The second notebook, `gradient_descent_numpy.ipynb`, uses Numpy. It is more compact, but you need to know a bit of numpy.\n",
    "\n",
    "To run these programs, download them on your computer as well as the other program in the import list: vector.py\n",
    "\n",
    "The programs are also available as Python programs from\n",
    "https://github.com/pnugues/ilppp/tree/master/programs/ch04/python"
   ]
  },
  {
   "cell_type": "markdown",
   "metadata": {},
   "source": [
    "## Classification\n",
    "You will use the same data set as for linear regression, but this time to classify a chapter as French or English. Given a pair of numbers corresponding the letter count and count of _A_, you will predict the language:\n",
    "1. $\\mathbf{x} = (35680, 2217)$ $\\to$ $y$ = English\n",
    "2. $\\mathbf{x} = (37497, 2641)$ $\\to$ $y$ = French"
   ]
  },
  {
   "cell_type": "markdown",
   "metadata": {},
   "source": [
    "### The dataset\n",
    "You will use the arrays below:\n",
    "1. `X` contains the counts of letters and of _A_ s as well as a column of ones for the intercept;\n",
    "2. `y` contains the classes, where 0 is for English and 1 for French."
   ]
  },
  {
   "cell_type": "code",
   "execution_count": 111,
   "metadata": {},
   "outputs": [],
   "source": [
    "X = [[1.0, 35680.0, 2217.0],\n",
    "     [1.0, 42514.0, 2761.0],\n",
    "     [1.0, 15162.0, 990.0],\n",
    "     [1.0, 35298.0, 2274.0],\n",
    "     [1.0, 29800.0, 1865.0],\n",
    "     [1.0, 40255.0, 2606.0],\n",
    "     [1.0, 74532.0, 4805.0],\n",
    "     [1.0, 37464.0, 2396.0],\n",
    "     [1.0, 31030.0, 1993.0],\n",
    "     [1.0, 24843.0, 1627.0],\n",
    "     [1.0, 36172.0, 2375.0],\n",
    "     [1.0, 39552.0, 2560.0],\n",
    "     [1.0, 72545.0, 4597.0],\n",
    "     [1.0, 75352.0, 4871.0],\n",
    "     [1.0, 18031.0, 1119.0],\n",
    "     [1.0, 36961.0, 2503.0],\n",
    "     [1.0, 43621.0, 2992.0],\n",
    "     [1.0, 15694.0, 1042.0],\n",
    "     [1.0, 36231.0, 2487.0],\n",
    "     [1.0, 29945.0, 2014.0],\n",
    "     [1.0, 40588.0, 2805.0],\n",
    "     [1.0, 75255.0, 5062.0],\n",
    "     [1.0, 37709.0, 2643.0],\n",
    "     [1.0, 30899.0, 2126.0],\n",
    "     [1.0, 25486.0, 1784.0],\n",
    "     [1.0, 37497.0, 2641.0],\n",
    "     [1.0, 40398.0, 2766.0],\n",
    "     [1.0, 74105.0, 5047.0],\n",
    "     [1.0, 76725.0, 5312.0],\n",
    "     [1.0, 18317.0, 1215.0]]\n",
    "y = [0.0, 0.0, 0.0, 0.0, 0.0, 0.0, 0.0, 0.0, 0.0, 0.0, 0.0, 0.0, 0.0, 0.0, 0.0,\n",
    "     1.0, 1.0, 1.0, 1.0, 1.0, 1.0, 1.0, 1.0, 1.0, 1.0, 1.0, 1.0, 1.0, 1.0, 1.0]"
   ]
  },
  {
   "cell_type": "markdown",
   "metadata": {},
   "source": [
    "We visualize it"
   ]
  },
  {
   "cell_type": "code",
   "execution_count": 112,
   "metadata": {},
   "outputs": [],
   "source": [
    "x_fr = [x[1] for i, x in enumerate(X) if y[i] == 1]\n",
    "y_fr = [x[2] for i, x in enumerate(X) if y[i] == 1]\n",
    "x_en = [x[1] for i, x in enumerate(X) if y[i] == 0]\n",
    "y_en = [x[2] for i, x in enumerate(X) if y[i] == 0]"
   ]
  },
  {
   "cell_type": "code",
   "execution_count": 113,
   "metadata": {},
   "outputs": [
    {
     "data": {
      "text/plain": [
       "<matplotlib.collections.PathCollection at 0x116fbad00>"
      ]
     },
     "execution_count": 113,
     "metadata": {},
     "output_type": "execute_result"
    },
    {
     "data": {
      "image/png": "[encoded data removed]",
      "text/plain": [
       "<Figure size 432x288 with 1 Axes>"
      ]
     },
     "metadata": {
      "needs_background": "light"
     },
     "output_type": "display_data"
    }
   ],
   "source": [
    "plt.scatter(x_fr, y_fr, color='red')\n",
    "plt.scatter(x_en, y_en, color='blue')"
   ]
  },
  {
   "cell_type": "markdown",
   "metadata": {},
   "source": [
    "### Normalize the dataset"
   ]
  },
  {
   "cell_type": "markdown",
   "metadata": {},
   "source": [
    "Gradient descent algorithms can be very sensitive to the range. Therefore, we normalize the dataset."
   ]
  },
  {
   "cell_type": "code",
   "execution_count": 114,
   "metadata": {},
   "outputs": [],
   "source": [
    "def normalize(observations):\n",
    "    maxima = [max([obs[i] for obs in observations]) for i in range(len(observations[0]))]\n",
    "    return ([[obs[i] / maxima[i]\n",
    "              for i in range(len(observations[0]))] for obs in observations],\n",
    "            maxima)"
   ]
  },
  {
   "cell_type": "code",
   "execution_count": 115,
   "metadata": {},
   "outputs": [
    {
     "data": {
      "text/plain": [
       "[[1.0, 0.4650374714890844, 0.4173569277108434],\n",
       " [1.0, 0.5541088302378625, 0.5197665662650602],\n",
       " [1.0, 0.19761485826001954, 0.18637048192771086],\n",
       " [1.0, 0.460058651026393, 0.42808734939759036],\n",
       " [1.0, 0.3884001303356142, 0.3510918674698795],\n",
       " [1.0, 0.5246660149885957, 0.49058734939759036],\n",
       " [1.0, 0.9714173998044966, 0.9045557228915663],\n",
       " [1.0, 0.4882893450635386, 0.4510542168674699],\n",
       " [1.0, 0.4044314108830238, 0.37518825301204817],\n",
       " [1.0, 0.32379276637341153, 0.30628765060240964],\n",
       " [1.0, 0.47144998370804825, 0.4471009036144578],\n",
       " [1.0, 0.5155034213098729, 0.4819277108433735],\n",
       " [1.0, 0.9455197132616487, 0.8653990963855421],\n",
       " [1.0, 0.9821049201694363, 0.916980421686747],\n",
       " [1.0, 0.2350081459758879, 0.21065512048192772],\n",
       " [1.0, 0.48173346366894754, 0.4711972891566265],\n",
       " [1.0, 0.5685369827305311, 0.5632530120481928],\n",
       " [1.0, 0.2045487129358097, 0.19615963855421686],\n",
       " [1.0, 0.47221896383186707, 0.46818524096385544],\n",
       " [1.0, 0.39028999674160963, 0.37914156626506024],\n",
       " [1.0, 0.5290061909416748, 0.5280496987951807],\n",
       " [1.0, 0.9808406647116324, 0.9529367469879518],\n",
       " [1.0, 0.49148256761159986, 0.4975527108433735],\n",
       " [1.0, 0.40272401433691757, 0.4002259036144578],\n",
       " [1.0, 0.3321733463668948, 0.3358433734939759],\n",
       " [1.0, 0.4887194525904203, 0.4971762048192771],\n",
       " [1.0, 0.5265298142717497, 0.5207078313253012],\n",
       " [1.0, 0.9658520690778756, 0.9501129518072289],\n",
       " [1.0, 1.0, 1.0],\n",
       " [1.0, 0.23873574454219615, 0.22872740963855423]]"
      ]
     },
     "execution_count": 115,
     "metadata": {},
     "output_type": "execute_result"
    }
   ],
   "source": [
    "X_norm, maxima = normalize(X)\n",
    "X_norm"
   ]
  },
  {
   "cell_type": "markdown",
   "metadata": {},
   "source": [
    "## The Perceptron\n",
    "\n",
    "1. Write the perceptron program as explained in pages 723--725 in Russell-Norvig and in the slides and run it on your data set. As suggested program structure, use two functions: \n",
    " * `fit(X, y)` that will return `w` (the model). You can choose a stochastic or batch variant;\n",
    " * `predict(X, w)` that will return `y_hat`. You can encapsulate these functions in a class and, of course, add more parameters.\n",
    "2. As a stop criterion, you will use the number of misclassified examples.\n",
    "3. You will report the parameters you have used and the weight vector\n",
    "\n",
    "You can use numpy or not. The next cells are just suggested steps. You can implement it your way."
   ]
  },
  {
   "cell_type": "markdown",
   "metadata": {},
   "source": [
    "### The `predict(X, w)` function\n",
    "Write a `predict(X, w)` function that given a matrix of observations $\\mathbf{X}$ and a weight vector $\\mathbf{w}$ will return a $\\mathbf{\\hat{y}}$ vector classes (0 or 1)"
   ]
  },
  {
   "cell_type": "code",
   "execution_count": 116,
   "metadata": {},
   "outputs": [],
   "source": [
    "# Activation function\n",
    "def activation_func(X):\n",
    "    return np.where(X > 0.5, 1, 0) # 1 if true, 0 if false"
   ]
  },
  {
   "cell_type": "code",
   "execution_count": 117,
   "metadata": {},
   "outputs": [],
   "source": [
    "# Write your code here\n",
    "def predict2(X, w):\n",
    "    linear_func = np.dot(X, w) #+ b \n",
    "    y_predict = activation_func(linear_func)\n",
    "    return y_predict\n"
   ]
  },
  {
   "cell_type": "code",
   "execution_count": 118,
   "metadata": {},
   "outputs": [],
   "source": [
    "# Accuracy\n",
    "def accuracy(y_true, y_pred):\n",
    "    return np.sum(y_true == y_pred) / len(y_true)"
   ]
  },
  {
   "cell_type": "markdown",
   "metadata": {},
   "source": [
    "### The `fit(X, y)` function"
   ]
  },
  {
   "cell_type": "markdown",
   "metadata": {},
   "source": [
    "Write a `fit(X, y)` function that given a matrix of observations $\\mathbf{X}$ and a vector of responses $\\mathbf{y}$ will return a weight $\\mathbf{w}$ vector. You may use the other arguments of the function, notably the number of misclassified examples to define the stop condition."
   ]
  },
  {
   "cell_type": "code",
   "execution_count": 119,
   "metadata": {},
   "outputs": [],
   "source": [
    "# Write your code here\n",
    "#import random\n",
    "#import vector\n",
    "def fit_stoch(X, y,\n",
    "              epochs=1000,\n",
    "              max_misclassified=5,\n",
    "              verbose=True):\n",
    "    n_samples, n_features = np.array(X).shape\n",
    "    w = np.zeros(n_features)\n",
    "    alpha = 0.01 \n",
    "    y_fail = 0\n",
    "    y_pred = np.zeros(len(y))\n",
    "    for epoch in range(epochs):\n",
    "        indices = list(range(len(X)))\n",
    "        random.shuffle(indices)\n",
    "        for idx in indices:\n",
    "            xi = X[idx]\n",
    "            y_pred[idx] = predict2(xi, w)\n",
    "            gradient = alpha * (y[idx] - y_pred[idx]) #* np.array(xi).T\n",
    "            w = w + np.dot(gradient, np.array(xi))\n",
    "            \n",
    "        y_fail= sum(abs(y - y_pred))\n",
    "        if y_fail <= max_misclassified:\n",
    "            break\n",
    "        \n",
    "    print(\"Epochs:\", epoch, 'Weights: ', w)\n",
    "    print('y_fail: {}'.format(y_fail))\n",
    "    return w\n"
   ]
  },
  {
   "cell_type": "code",
   "execution_count": 120,
   "metadata": {
    "scrolled": true
   },
   "outputs": [
    {
     "name": "stdout",
     "output_type": "stream",
     "text": [
      "Epochs: 33 Weights:  [ 0.5        -0.04093829  0.04247176]\n",
      "y_fail: 4.0\n"
     ]
    },
    {
     "data": {
      "image/png": "[encoded data removed]",
      "text/plain": [
       "<Figure size 432x288 with 1 Axes>"
      ]
     },
     "metadata": {
      "needs_background": "light"
     },
     "output_type": "display_data"
    }
   ],
   "source": [
    "w = fit_stoch(X_norm, y)\n",
    "X_matrix = np.array(X_norm)\n",
    "for i in range(len(y)):\n",
    "    if y[i] > 0:\n",
    "        plt.scatter(X_matrix[i,1], X_matrix[i,2], color='red')\n",
    "    else:\n",
    "        plt.scatter(X_matrix[i,1], X_matrix[i,2], color='blue')\n",
    "lin = np.linspace(0, 1,\n",
    "               num = len(X_norm),\n",
    "               endpoint = True)\n",
    "plt.plot(lin, -lin*w[1]/w[2] - w[0]/w[2] + 0.5/w[2], color='green')\n",
    "plt.xlabel('x')\n",
    "plt.ylabel('y')\n",
    "#plt.legend()\n",
    "plt.show()"
   ]
  },
  {
   "cell_type": "markdown",
   "metadata": {},
   "source": [
    "### Fitting the dataset"
   ]
  },
  {
   "cell_type": "code",
   "execution_count": 121,
   "metadata": {
    "scrolled": false
   },
   "outputs": [
    {
     "name": "stdout",
     "output_type": "stream",
     "text": [
      "Epochs: 34 Weights:  [ 0.5        -0.04132955  0.04340361]\n",
      "y_fail: 1.0\n"
     ]
    },
    {
     "data": {
      "text/plain": [
       "array([ 0.5       , -0.04132955,  0.04340361])"
      ]
     },
     "execution_count": 121,
     "metadata": {},
     "output_type": "execute_result"
    }
   ],
   "source": [
    "w = fit_stoch(X_norm, y)\n",
    "w"
   ]
  },
  {
   "cell_type": "code",
   "execution_count": 122,
   "metadata": {},
   "outputs": [
    {
     "name": "stdout",
     "output_type": "stream",
     "text": [
      "Restored weights [2656.0000000000014, -0.002861421814610233, 0.04340361445783126]\n",
      "Weights with y set to 1 [61193.060374739885, -0.06592588774813316, 1.0]\n"
     ]
    }
   ],
   "source": [
    "w = [w[i] * maxima[-1] / maxima[i] for i in range(len(w))]\n",
    "print(\"Restored weights\", w)\n",
    "w = [w[j] / w[-1] for j in range(len(w))]\n",
    "print(\"Weights with y set to 1\", w)"
   ]
  },
  {
   "cell_type": "markdown",
   "metadata": {},
   "source": [
    "### Visualizing the results"
   ]
  },
  {
   "cell_type": "code",
   "execution_count": 123,
   "metadata": {},
   "outputs": [
    {
     "data": {
      "text/plain": [
       "[<matplotlib.lines.Line2D at 0x117127f10>]"
      ]
     },
     "execution_count": 123,
     "metadata": {},
     "output_type": "execute_result"
    },
    {
     "data": {
      "image/png": "[encoded data removed]",
      "text/plain": [
       "<Figure size 432x288 with 1 Axes>"
      ]
     },
     "metadata": {
      "needs_background": "light"
     },
     "output_type": "display_data"
    }
   ],
   "source": [
    "plt.scatter(x_fr, y_fr, color='red')\n",
    "plt.scatter(x_en, y_en, color='blue')\n",
    "plt.plot([min(x_fr + x_en), max(x_fr + x_en)],\n",
    "             [-w[1] * min(x_fr + x_en) - w[0], -w[1] * max(x_fr + x_en) - w[0]])"
   ]
  },
  {
   "cell_type": "markdown",
   "metadata": {},
   "source": [
    "### Evaluation\n",
    "Evaluate your perceptron using the leave-one-out cross validation method. You will have to train and run 30 models. In each train/run session, you will train on 29 samples and evaluate on the remaining sample. You have then either a correct or a wrong classification. You will sum these classifications, i.e. the number of correct classifications, to get your final evaluation, for instance 29/30."
   ]
  },
  {
   "cell_type": "code",
   "execution_count": null,
   "metadata": {},
   "outputs": [],
   "source": []
  },
  {
   "cell_type": "code",
   "execution_count": 124,
   "metadata": {
    "scrolled": true
   },
   "outputs": [],
   "source": [
    "# Write your code here\n",
    "\n",
    "def leave_one_out_cross_val(X, y, fitting_function):\n",
    "    X_train = []\n",
    "    y_train = []\n",
    "#X_test = []\n",
    "#y_test = []\n",
    "    b = 0\n",
    "    evaluate = 0\n",
    "\n",
    "    num = int(np.array(X).shape[0])\n",
    "\n",
    "    for i,x in enumerate(X_norm):\n",
    "        for nbr in X_norm:\n",
    "            if nbr == x:\n",
    "                X_test = [nbr]\n",
    "                y_test = [y[i]]\n",
    "                continue\n",
    "            X_train.append(nbr)\n",
    "            y_train.append(y[i])\n",
    "        w_train = fit_stoch(X_train, y_train)\n",
    "        y_pred = predict2(X_test, w_train)\n",
    "        evaluate += accuracy(y_test, y_pred)\n",
    "        X_train = []\n",
    "        y_train = []\n",
    "\n",
    "    print(evaluate/len(X_norm))\n",
    "    \n",
    "    return evaluate/len(X_norm)\n"
   ]
  },
  {
   "cell_type": "code",
   "execution_count": 125,
   "metadata": {},
   "outputs": [
    {
     "name": "stdout",
     "output_type": "stream",
     "text": [
      "Epochs: 0 Weights:  [0. 0. 0.]\n",
      "y_fail: 0.0\n",
      "Epochs: 0 Weights:  [0. 0. 0.]\n",
      "y_fail: 0.0\n",
      "Epochs: 0 Weights:  [0. 0. 0.]\n",
      "y_fail: 0.0\n",
      "Epochs: 0 Weights:  [0. 0. 0.]\n",
      "y_fail: 0.0\n",
      "Epochs: 0 Weights:  [0. 0. 0.]\n",
      "y_fail: 0.0\n",
      "Epochs: 0 Weights:  [0. 0. 0.]\n",
      "y_fail: 0.0\n",
      "Epochs: 0 Weights:  [0. 0. 0.]\n",
      "y_fail: 0.0\n",
      "Epochs: 0 Weights:  [0. 0. 0.]\n",
      "y_fail: 0.0\n",
      "Epochs: 0 Weights:  [0. 0. 0.]\n",
      "y_fail: 0.0\n",
      "Epochs: 0 Weights:  [0. 0. 0.]\n",
      "y_fail: 0.0\n",
      "Epochs: 0 Weights:  [0. 0. 0.]\n",
      "y_fail: 0.0\n",
      "Epochs: 0 Weights:  [0. 0. 0.]\n",
      "y_fail: 0.0\n",
      "Epochs: 0 Weights:  [0. 0. 0.]\n",
      "y_fail: 0.0\n",
      "Epochs: 0 Weights:  [0. 0. 0.]\n",
      "y_fail: 0.0\n",
      "Epochs: 0 Weights:  [0. 0. 0.]\n",
      "y_fail: 0.0\n",
      "Epochs: 2 Weights:  [0.42       0.19255718 0.18477598]\n",
      "y_fail: 2.0\n",
      "Epochs: 2 Weights:  [0.43       0.19888954 0.19011107]\n",
      "y_fail: 4.0\n",
      "Epochs: 2 Weights:  [0.41       0.19830903 0.18973833]\n",
      "y_fail: 2.0\n",
      "Epochs: 2 Weights:  [0.43       0.19633066 0.18749435]\n",
      "y_fail: 3.0\n",
      "Epochs: 2 Weights:  [0.42       0.18919166 0.1804744 ]\n",
      "y_fail: 2.0\n",
      "Epochs: 2 Weights:  [0.42       0.19011352 0.18160956]\n",
      "y_fail: 3.0\n",
      "Epochs: 2 Weights:  [0.43       0.18710681 0.17926581]\n",
      "y_fail: 4.0\n",
      "Epochs: 2 Weights:  [0.42       0.18878136 0.18006965]\n",
      "y_fail: 3.0\n",
      "Epochs: 2 Weights:  [0.43       0.19258012 0.18448983]\n",
      "y_fail: 4.0\n",
      "Epochs: 2 Weights:  [0.42       0.19343891 0.18570407]\n",
      "y_fail: 3.0\n",
      "Epochs: 2 Weights:  [0.42       0.19336474 0.18497553]\n",
      "y_fail: 4.0\n",
      "Epochs: 2 Weights:  [0.43       0.19764914 0.18908697]\n",
      "y_fail: 4.0\n",
      "Epochs: 2 Weights:  [0.43       0.19028583 0.18255271]\n",
      "y_fail: 3.0\n",
      "Epochs: 2 Weights:  [0.43       0.18846282 0.17989081]\n",
      "y_fail: 3.0\n",
      "Epochs: 2 Weights:  [0.42       0.19557328 0.18732681]\n",
      "y_fail: 3.0\n",
      "0.9666666666666667\n",
      "Cross-validation accuracy (stochastic): 0.9666666666666667\n"
     ]
    }
   ],
   "source": [
    "stoch_accuracy = leave_one_out_cross_val(X_norm, y, fit_stoch)\n",
    "print('Cross-validation accuracy (stochastic):', stoch_accuracy)"
   ]
  },
  {
   "cell_type": "markdown",
   "metadata": {},
   "source": [
    "## Logistic Regression\n",
    "From your perceptron program, implement logistic regression. You can either follow the description from the textbook, S. Russell and R. Norvig, _Artificial Intelligence_, 2010, pages 725--727, or the slides. You can either implement the stochastic or the batch version of the algorithm, or both versions. As stop criterion, you will use either the norm of the gradient or the norm of the difference between two consecutive weight vectors. You will also set a maximal number of epochs. Run the resulting program on your data set."
   ]
  },
  {
   "cell_type": "markdown",
   "metadata": {},
   "source": [
    "Write the logistic function, where the $x$ input is a real number."
   ]
  },
  {
   "cell_type": "code",
   "execution_count": 126,
   "metadata": {},
   "outputs": [],
   "source": [
    "import math\n",
    "# Activation function\n",
    "def activ_func(X, w):\n",
    "    expression = 1/(1 + math.exp(-np.dot(X, w)))\n",
    "    return expression "
   ]
  },
  {
   "cell_type": "code",
   "execution_count": 127,
   "metadata": {},
   "outputs": [],
   "source": [
    "# Write your code here\n",
    "def predict3(X, w):\n",
    "    linear_func = np.dot(X, w) \n",
    "    y_predict = activ_func(linear_func)\n",
    "    return y_predict\n"
   ]
  },
  {
   "cell_type": "code",
   "execution_count": 186,
   "metadata": {},
   "outputs": [],
   "source": [
    "# Write your code here\n",
    "def logistic(X, y,\n",
    "              epochs=1000,\n",
    "              epsilon=1.0e-5,\n",
    "              verbose=True):\n",
    "    n_samples, n_features = np.array(X).shape\n",
    "    w = np.zeros(n_features)\n",
    "    alpha = 0.01 \n",
    "    y_fail = 0\n",
    "    y_pred = np.zeros(len(y))\n",
    "    for epoch in range(epochs):\n",
    "        indices = list(range(len(X)))\n",
    "        random.shuffle(indices)\n",
    "        for idx in indices:\n",
    "            xi = X[idx]\n",
    "            y_pred[idx] = predict3(xi, w)\n",
    "            gradient = alpha * (y[idx] - y_pred[idx])\n",
    "            w = w + np.dot(gradient, np.array(xi))\n",
    "            \n",
    "        y_fail= sum(abs(y - y_pred))\n",
    "        if np.linalg.norm(gradient) < epsilon:\n",
    "            break\n",
    "        \n",
    "    print(\"Epochs:\", epoch, 'Weights: ', w)\n",
    "    print('y_fail: {}'.format(y_fail))\n",
    "    return w\n"
   ]
  },
  {
   "cell_type": "markdown",
   "metadata": {},
   "source": [
    "### The `predict(X, w)` function"
   ]
  },
  {
   "cell_type": "markdown",
   "metadata": {},
   "source": [
    "Write a `predict_proba()` function that given a matrix of observations $\\mathbf{X}$ and a weight vector $\\mathbf{w}$ will return a vector of probabilities to belong to class 1: The vector will consist of $P(1|\\mathbf{x}_i)$ for all the $i$ rows of $\\mathbf{X}$."
   ]
  },
  {
   "cell_type": "code",
   "execution_count": 187,
   "metadata": {},
   "outputs": [],
   "source": [
    "# Write your code here\n",
    "def predict_proba(X, w):\n",
    "    pred = []\n",
    "    for i,x in enumerate(X):\n",
    "        expression = 1/(1 + math.exp(-np.matmul(x,w)))\n",
    "        pred.append(expression)\n",
    "    return np.array(pred)\n"
   ]
  },
  {
   "cell_type": "markdown",
   "metadata": {},
   "source": [
    "Write a `predict(X, w)` function that given a matrix of observations $\\mathbf{X}$ and a weight vector $\\mathbf{w}$ will return the class. You will use `predict_proba()` and set the threshold to belong to class 1 to 0.5."
   ]
  },
  {
   "cell_type": "code",
   "execution_count": 188,
   "metadata": {},
   "outputs": [],
   "source": [
    "#act function\n",
    "def act(x):\n",
    "    return 1/(1 + np.exp(-x))\n",
    "\n",
    "a = np.vectorize(act)"
   ]
  },
  {
   "cell_type": "code",
   "execution_count": 189,
   "metadata": {},
   "outputs": [],
   "source": [
    "# Write your code here\n",
    "def predict3(X, w):\n",
    "    return a(np.matmul(X, w))"
   ]
  },
  {
   "cell_type": "code",
   "execution_count": null,
   "metadata": {},
   "outputs": [],
   "source": []
  },
  {
   "cell_type": "markdown",
   "metadata": {},
   "source": [
    "### The `fit(X, y)` function"
   ]
  },
  {
   "cell_type": "markdown",
   "metadata": {},
   "source": [
    "You will now write the `fit(X, y)` function as with the perceptron. You may call it `fit_stoch(X, y)` or `fit_batch(X, y)`. Use the parameters given in the cell below."
   ]
  },
  {
   "cell_type": "code",
   "execution_count": 290,
   "metadata": {},
   "outputs": [],
   "source": [
    "# Write your code here\n",
    "import random\n",
    "def fit_stoch(X, y, alpha=0.1,\n",
    "              epochs=8000,\n",
    "              epsilon=1.0e-5,\n",
    "              verbose=False):\n",
    "    max_misclassified = 5\n",
    "    samples, features = np.array(X).shape\n",
    "    w = np.zeros(features)\n",
    "    y_fail = 0\n",
    "    y_pred = np.zeros(len(y))\n",
    "    X = np.array(X)\n",
    "    y = np.array(y)\n",
    "    random.seed(0)\n",
    "    indices = list(range(len(X)))\n",
    "    for epoch in range(epochs):\n",
    "        random.shuffle(indices)\n",
    "        y_pred = predict3(X[indices,:], w)\n",
    "        gradient = np.dot(np.array(y_pred - y[indices]).T, X[indices,:])\n",
    "        w = w - alpha*gradient.T\n",
    "            \n",
    "        y_fail= sum(abs(y[indices] - np.round(y_pred)))\n",
    "        if np.linalg.norm(gradient) < epsilon:\n",
    "            break\n",
    "        \n",
    "    print(\"Epochs:\", epoch, 'Weights: ', w)\n",
    "    print('y_fail: {}'.format(y_fail))\n",
    "    return w\n"
   ]
  },
  {
   "cell_type": "code",
   "execution_count": 291,
   "metadata": {
    "scrolled": true
   },
   "outputs": [
    {
     "name": "stdout",
     "output_type": "stream",
     "text": [
      "Epochs: 7999 Weights:  [ -0.16022158 -61.81842388  64.82431189]\n",
      "y_fail: 16.0\n"
     ]
    },
    {
     "data": {
      "image/png": "[encoded data removed]",
      "text/plain": [
       "<Figure size 432x288 with 1 Axes>"
      ]
     },
     "metadata": {
      "needs_background": "light"
     },
     "output_type": "display_data"
    }
   ],
   "source": [
    "Z = normalize(X)[0]\n",
    "#print(Z)\n",
    "w = fit_stoch(Z, y, verbose=True) \n",
    "X_matrix = np.array(Z) \n",
    "for i in range(len(y)):\n",
    "    if y[i] > 0:\n",
    "        plt.scatter(X_matrix[i,1], X_matrix[i,2], color='red')\n",
    "    else:\n",
    "        plt.scatter(X_matrix[i,1], X_matrix[i,2], color='blue')\n",
    "lin = np.linspace(0, max(X_matrix[:,2]),\n",
    "               num = len(X_matrix),\n",
    "               endpoint = True)\n",
    "plt.plot(lin, -lin*w[1]/w[2]-w[0]/w[2], color='green')\n",
    "plt.xlabel('x')\n",
    "plt.ylabel('y')\n",
    "#plt.legend()\n",
    "plt.show()"
   ]
  },
  {
   "cell_type": "code",
   "execution_count": 149,
   "metadata": {},
   "outputs": [
    {
     "name": "stdout",
     "output_type": "stream",
     "text": [
      "[0. 0. 0.]\n",
      "[0.         0.00729945 0.031843  ]\n",
      "[-0.01513218  0.00665311  0.0561182 ]\n",
      "[-0.02796694  0.00709548  0.08143536]\n",
      "[-0.04106175  0.0077862   0.10694895]\n",
      "[-0.05439574  0.00641967  0.1305017 ]\n",
      "[-0.06621485  0.00760899  0.15660715]\n",
      "[-0.07965466  0.00712018  0.18093097]\n",
      "[-0.09214581  0.00759313  0.2063474 ]\n",
      "[-0.10520181  0.00613669  0.2299162 ]\n",
      "[-0.11691996  0.00294359  0.25178832]\n",
      "[-0.12695897  0.00534088  0.2787039 ]\n",
      "[-0.14074023  0.00685491  0.30493445]\n",
      "[-0.15484327  0.00770803  0.33075464]\n",
      "[-0.16860507  0.00763197  0.35567265]\n",
      "[-0.18156439  0.00827881  0.38114547]\n",
      "[-0.19482145  0.00838764  0.40620892]\n",
      "[-0.20778116  0.01027289  0.432924  ]\n",
      "[-0.22200338  0.00097807  0.44855754]\n",
      "[-0.22785679  0.00411322  0.47592285]\n",
      "[-0.24103159  0.00864178  0.50524186]\n",
      "[-0.25734775  0.00614605  0.5273332 ]\n",
      "[-0.26890505  0.01294035  0.55845556]\n",
      "[-0.28639268  0.00693709  0.57713078]\n",
      "[-0.2955533   0.01026858  0.60545199]\n",
      "[-0.30998395  0.00904337  0.62920703]\n",
      "[-0.32220199  0.0117333   0.65668456]\n",
      "[-0.33682469  0.01223718  0.68167011]\n",
      "[-0.35024272  0.01597121  0.71015155]\n",
      "[-0.36595783  0.02092611  0.73978582]\n",
      "[-0.38317407  0.008463    0.75321143]\n",
      "[-0.38774064  0.01160719  0.78124391]\n",
      "[-0.40077959  0.00879361  0.80367151]\n",
      "[-0.4115063   0.00118127  0.82156603]\n",
      "[-4.18029104e-01  6.15044620e-04  8.45096616e-01]\n",
      "[-0.42838671 -0.00474224  0.86503424]\n",
      "[-0.43647871 -0.00183782  0.89223714]\n",
      "[-0.44998813  0.00524641  0.92404959]\n",
      "[-0.46826879  0.00144513  0.94467797]\n",
      "[-0.47928175  0.00721287  0.97453486]\n",
      "[-0.49564892  0.01248544  1.00473806]\n",
      "[-0.51333069  0.01239268  1.02914507]\n",
      "[-0.5270708   0.02642466  1.06778673]\n",
      "[-0.55064205  0.01136802  1.0781139 ]\n",
      "[-0.55479826  0.01284386  1.10298601]\n",
      "[-0.56578777  0.02750455  1.14145079]\n",
      "[-0.58877857  0.02963488  1.16850233]\n",
      "[-0.60576915  0.03368499  1.1969821 ]\n",
      "[-0.62245518  0.02953005  1.21757328]\n",
      "[-0.632934   0.0263459  1.239756 ]\n",
      "[-0.64273826  0.01856293  1.25691262]\n",
      "[-0.64870807  0.02929908  1.29160246]\n",
      "[-0.66734741  0.02151414  1.30786851]\n",
      "[-0.67534912  0.01551479  1.32648444]\n",
      "[-0.68207423  0.01019313  1.34624096]\n",
      "[-0.68914262  0.0127291   1.37496464]\n",
      "[-0.70265492  0.02115348  1.40776175]\n",
      "[-0.72165465  0.01544298  1.42832305]\n",
      "[-0.73217257  0.00827694  1.44531801]\n",
      "[-0.73852798  0.00790782  1.46979351]\n",
      "[-0.74912924  0.03177397  1.51771509]\n",
      "[-0.77875386  0.02862938  1.54075145]\n",
      "[-0.79408812  0.03979274  1.57674415]\n",
      "[-0.81571558  0.06016077  1.62318785]\n",
      "[-0.84633629  0.06158635  1.65020646]\n",
      "[-0.86518554  0.06661484  1.67971706]\n",
      "[-0.88304262  0.07096341  1.70994017]\n",
      "[-0.9006184   0.06078883  1.72257529]\n",
      "[-0.90627085  0.08878562  1.77386757]\n",
      "[-0.93690031  0.08105961  1.79267416]\n",
      "[-0.94942434  0.05677492  1.79619829]\n",
      "[-0.9451021   0.07443282  1.83841087]\n",
      "[-0.9656978   0.06314738  1.85271072]\n",
      "[-0.97245766  0.06168523  1.87653167]\n",
      "[-0.98238271  0.0345411   1.87436757]\n",
      "[-0.97425676  0.06960029  1.93081726]\n",
      "[-1.00524493  0.07035162  1.95862273]\n",
      "[-1.02433233  0.07230967  1.98483541]\n",
      "[-1.0398887   0.07046074  2.00668632]\n",
      "[-1.05146732  0.06055368  2.0217068 ]\n",
      "[-1.05648672  0.04554299  2.03097163]\n",
      "[-1.05566817  0.06370908  2.06961441]\n",
      "[-1.07585284  0.06398109  2.09370371]\n",
      "[-1.09035518  0.08130298  2.1342429 ]\n",
      "[-1.11524633  0.06786616  2.14683854]\n",
      "[-1.12207495  0.08683368  2.18919931]\n",
      "[-1.14589696  0.07179296  2.20024456]\n",
      "[-1.15133449  0.06514154  2.22023737]\n",
      "[-1.15752376  0.0658447   2.24532656]\n",
      "[-1.16839918  0.06683116  2.2690587 ]\n",
      "[-1.18028726  0.03349444  2.26240461]\n",
      "[-1.16934047  0.04284471  2.29361053]\n",
      "[-1.18040591  0.03647482  2.31214076]\n",
      "[-1.18785938  0.05236761  2.35295332]\n",
      "[-1.21004439  0.0348329   2.36053834]\n",
      "[-1.21300842  0.07744635  2.42777746]\n",
      "[-1.25247531  0.02186624  2.39842063]\n",
      "[-1.23427908  0.00858469  2.41099378]\n",
      "[-1.2283366   0.00516747  2.43411677]\n",
      "[-1.23332744  0.01390964  2.46501678]\n",
      "[-1.24867608  0.01492666  2.48988229]\n",
      "[-1.26228408  0.00435601  2.50242021]\n",
      "[-1.2669556   0.00408189  2.52853439]\n",
      "[-1.27727497  0.02646673  2.57760235]\n",
      "[-1.30524086  0.02427729  2.60360965]\n",
      "[-1.3219733   0.02188644  2.62594368]\n",
      "[-1.33392141  0.01310453  2.64590286]\n",
      "[-1.34131137  0.00576096  2.66210665]\n",
      "[-1.34651964  0.03848948  2.71972844]\n",
      "[-1.37921186  0.0165722   2.72582474]\n",
      "[-1.3838288   0.0374005   2.77160626]\n",
      "[-1.40803873  0.03673781  2.79715104]\n",
      "[-1.42405392  0.03519801  2.82112223]\n",
      "[-1.43664434 -0.0261487   2.78861019]\n",
      "[-1.40809646 -0.02430073  2.81540512]\n",
      "[-1.40879735 -0.00753135  2.85700741]\n",
      "[-1.42888108 -0.03375034  2.85899683]\n",
      "[-1.42675065 -0.02151283  2.89553184]\n",
      "[-1.44261201 -0.04206211  2.89966788]\n",
      "[-1.44187562e+00  9.19792572e-04  2.96676945e+00]\n",
      "[-1.47893436  0.00439643  2.9953835 ]\n",
      "[-1.50157477 -0.02947126  2.98914083]\n",
      "[-1.49510452 -0.0130864   3.03023516]\n",
      "[-1.51231205  0.00969132  3.07685695]\n",
      "[-1.54108625  0.03186016  3.12401666]\n",
      "[-1.57351369  0.04021189  3.15502116]\n",
      "[-1.59717085  0.09271931  3.23079799]\n",
      "[-1.6471917   0.05986291  3.22104893]\n",
      "[-1.6498374   0.07759565  3.26174927]\n",
      "[-1.66981905  0.08704649  3.29644537]\n",
      "[-1.69087134  0.11706794  3.35371294]\n",
      "[-1.72625859  0.09186268  3.35610935]\n",
      "[-1.73079012  0.08966959  3.38303327]\n",
      "[-1.74019283  0.08574462  3.40428284]\n",
      "[-1.74887974  0.08538297  3.42527877]\n",
      "[-1.75841698  0.11108086  3.47197755]\n",
      "[-1.78491869  0.07459151  3.46560669]\n",
      "[-1.78009831  0.04634435  3.46254996]\n",
      "[-1.7681069   0.08020125  3.51724292]\n",
      "[-1.79239202  0.05304614  3.51571723]\n",
      "[-1.7914402   0.10141976  3.58581504]\n",
      "[-1.82889024  0.0477277   3.55635712]\n",
      "[-1.81524914  0.05309751  3.58181082]\n",
      "[-1.82024783  0.04236027  3.59567384]\n",
      "[-1.82283585  0.06813459  3.6431554 ]\n",
      "[-1.84697717  0.09125803  3.68915476]\n",
      "[-1.87724509  0.04543602  3.6658477 ]\n",
      "[-1.8658944   0.07995272  3.72373933]\n",
      "[-1.89100937  0.09003662  3.75412441]\n",
      "[-1.91257398  0.09301007  3.78123262]\n",
      "[-1.92958886  0.08672349  3.79896546]\n",
      "[-1.93914108  0.07695528  3.81692749]\n",
      "[-1.94497019  0.06917967  3.83210942]\n",
      "[-1.94924365  0.05889852  3.84405245]\n",
      "[-1.95116192  0.11041598  3.91965662]\n",
      "[-1.9912      0.14790402  3.98292066]\n",
      "[-2.03661105  0.12367888  3.9823377 ]\n",
      "[-2.04560773  0.10694687  3.98820071]\n",
      "[-2.04543803  0.10949679  4.01644259]\n",
      "[-2.05467863  0.09256476  4.02566147]\n",
      "[-2.05555959  0.11752995  4.07689025]\n",
      "[-2.07903174  0.10260257  4.08950864]\n",
      "[-2.08688814  0.09401183  4.10765097]\n",
      "[-2.09256066  0.09568457  4.13185834]\n",
      "[-2.10241881  0.09761282  4.15830481]\n",
      "[-2.11457245  0.10545737  4.19035424]\n",
      "[-2.13106012  0.06799343  4.17869523]\n",
      "[-2.12219587  0.06077378  4.19278625]\n",
      "[-2.12082253  0.05546163  4.21116456]\n",
      "[-2.12412503  0.09049856  4.26997356]\n",
      "[-2.15353393  0.08232886  4.28873897]\n",
      "[-2.1676774   0.03886403  4.27177303]\n",
      "[-2.15464172  0.0904483   4.34435745]\n",
      "[-2.18686799  0.1324605   4.4070985 ]\n",
      "[-2.23011221  0.10098674  4.4036736 ]\n",
      "[-2.23623079  0.12638063  4.45087449]\n",
      "[-2.25993705  0.13827893  4.48729749]\n",
      "[-2.28318122  0.13360158  4.50843407]\n",
      "[-2.29689341  0.14073752  4.54006033]\n",
      "[-2.31344653  0.12956821  4.55333371]\n",
      "[-2.32038742  0.10403166  4.55117157]\n",
      "[-2.3148411   0.12396164  4.59402623]\n",
      "[-2.33089972  0.13704672  4.63091273]\n",
      "[-2.35159731  0.19788551  4.7161463 ]\n",
      "[-2.40168528  0.18686582  4.72999562]\n",
      "[-2.42229609  0.22650962  4.79498415]\n",
      "[-2.46022483  0.25261595  4.84464041]\n",
      "[-2.49679988  0.23413871  4.85310398]\n",
      "[-2.50863715  0.28062355  4.92453496]\n",
      "[-2.5464571   0.26496343  4.93318512]\n",
      "[-2.55982196  0.28708957  4.98008603]\n",
      "[-2.58444608  0.24879092  4.96997302]\n",
      "[-2.58089478  0.27358583  5.01478695]\n",
      "[-2.59874719  0.31077371  5.07463065]\n",
      "[-2.63286699  0.32667204  5.11116831]\n",
      "[-2.66136048  0.33014404  5.1373757 ]\n",
      "[-2.68127508  0.3072462   5.14196314]\n",
      "[-2.68443043  0.30182655  5.16001688]\n",
      "[-2.68909267  0.2845791   5.17030993]\n",
      "[-2.68898162  0.30635331  5.2176198 ]\n",
      "[-2.70772131  0.23158751  5.17212031]\n",
      "[-2.68238208  0.24757447  5.21083925]\n",
      "[-2.68669741  0.28925656  5.27643843]\n",
      "[-2.71770725  0.24225866  5.25794362]\n",
      "[-2.71271926  0.23129626  5.27088862]\n",
      "[-2.71102617  0.21125187  5.27139868]\n",
      "[-2.70484013  0.19718454  5.28401725]\n",
      "[-2.70168876  0.27348093  5.38059519]\n",
      "[-2.7473084   0.30631452  5.43619882]\n",
      "[-2.79032173  0.25215654  5.40988021]\n",
      "[-2.78679949  0.25405145  5.44180416]\n",
      "[-2.79427096  0.25400305  5.46815444]\n",
      "[-2.80440642  0.29207943  5.52996272]\n",
      "[-2.8353995   0.29202584  5.55545369]\n",
      "[-2.85536271  0.27329495  5.55799208]\n",
      "[-2.85952518  0.30872738  5.61794707]\n",
      "[-2.88657868  0.33418953  5.66648419]\n",
      "[-2.91773881  0.33944614  5.69439804]\n",
      "[-2.93991187  0.30477356  5.6816457 ]\n",
      "[-2.93696024  0.29025361  5.69019279]\n",
      "[-2.93396719  0.28402036  5.71399927]\n",
      "[-2.93714235  0.28611861  5.7441701 ]\n",
      "[-2.94688918  0.29659768  5.77662585]\n",
      "[-2.96232578  0.27036554  5.77405582]\n",
      "[-2.96138734  0.31863517  5.84455356]\n",
      "[-2.99197873  0.31425634  5.86071698]\n",
      "[-3.00839708  0.32202971  5.89281802]\n",
      "[-3.02589407  0.35315479  5.94922168]\n",
      "[-3.0561896   0.35171663  5.97075406]\n",
      "[-3.07470624  0.34923762  5.99577458]\n",
      "[-3.08862177  0.36292983  6.03221162]\n",
      "[-3.10761493  0.32300513  6.01579746]\n",
      "[-3.10147728  0.35937001  6.07536631]\n",
      "[-3.12327958  0.28804867  6.03393464]\n",
      "[-3.10387539  0.36417969  6.12706086]\n",
      "[-3.13856115  0.35337664  6.14148561]\n",
      "[-3.15492233  0.35369062  6.16771729]\n",
      "[-3.1689265   0.31501937  6.15837026]\n",
      "[-3.16282925  0.30409792  6.17266985]\n",
      "[-3.16081085  0.31414857  6.20779864]\n",
      "[-3.17130653  0.33225263  6.25304754]\n",
      "[-3.19202209  0.3421767   6.28241069]\n",
      "[-3.21125533  0.31193988  6.27889564]\n",
      "[-3.21128086  0.28755802  6.2757404 ]\n",
      "[-3.20418603  0.2562279   6.2687047 ]\n",
      "[-3.19107134  0.24011385  6.28149435]\n",
      "[-3.18413038  0.25674778  6.32442535]\n",
      "[-3.19601428  0.33334295  6.42781325]\n",
      "[-3.24670847  0.28654147  6.40225052]\n",
      "[-3.25144432  0.31578339  6.46020181]\n",
      "[-3.27540116  0.27607252  6.44975607]\n",
      "[-3.27359544  0.27385497  6.47152499]\n",
      "[-3.27756625  0.22949092  6.45286083]\n",
      "[-3.26337271  0.20478418  6.45556192]\n",
      "[-3.25117832  0.22471005  6.49702242]\n",
      "[-3.2609883   0.26202948  6.55875146]\n",
      "[-3.29021427  0.21849346  6.54167469]\n",
      "[-3.28825996  0.24656323  6.59290178]\n",
      "[-3.30712377  0.2215877   6.58908616]\n",
      "[-3.30847119  0.24111145  6.62994816]\n",
      "[-3.32408281  0.28961333  6.702297  ]\n",
      "[-3.3612035   0.23062877  6.66533582]\n",
      "[-3.35438645  0.20973477  6.67180925]\n",
      "[-3.34749966  0.22605852  6.71005227]\n",
      "[-3.35779633  0.23367036  6.74206801]\n",
      "[-3.37227616  0.22600942  6.75912122]\n",
      "[-3.38118507  0.24018693  6.80103391]\n",
      "[-3.39906235  0.23445918  6.82425133]\n",
      "[-3.41153941  0.27206412  6.88791896]\n",
      "[-3.44214879  0.30530558  6.94967231]\n",
      "[-3.47954302  0.27141952  6.93835374]\n",
      "[-3.48588312  0.33105094  7.02022905]\n",
      "[-3.52326267  0.3604805   7.0750651 ]\n",
      "[-3.56115118  0.29737752  7.04035635]\n",
      "[-3.55519502  0.28674225  7.05768409]\n",
      "[-3.55386444  0.28813044  7.08271971]\n",
      "[-3.5595355   0.20744949  7.02554758]\n",
      "[-3.52854997  0.24090928  7.08195824]\n",
      "[-3.53568858  0.2108033   7.07365348]\n",
      "[-3.5295977   0.27690548  7.15961681]\n",
      "[-3.56355552  0.2626264   7.17359457]\n",
      "[-3.57939422  0.22197707  7.15750582]\n",
      "[-3.57304217  0.21177998  7.17524417]\n",
      "[-3.57172065  0.19768752  7.18805701]\n",
      "[-3.57065272  0.24739184  7.25893094]\n",
      "[-3.59919619  0.23847688  7.27349835]\n",
      "[-3.6139919  0.2906146  7.3468273]\n",
      "[-3.65106681  0.30106159  7.38390097]\n",
      "[-3.67998719  0.30831286  7.4085716 ]\n",
      "[-3.70136447  0.32809341  7.45441096]\n",
      "[-3.72712275  0.32046825  7.47267873]\n",
      "[-3.74191893  0.27942439  7.4580448 ]\n",
      "[-3.73568964  0.27015526  7.47531602]\n",
      "[-3.73446109  0.24366782  7.47261466]\n",
      "[-3.72680472  0.2778653   7.53179127]\n",
      "[-3.74520294  0.28209753  7.56010483]\n",
      "[-3.76167927  0.23646545  7.54152688]\n",
      "[-3.75427674  0.26642656  7.59470963]\n",
      "[-3.77030762  0.26147465  7.61884741]\n",
      "[-3.7824612   0.33613927  7.71754547]\n",
      "[-3.82908929  0.37671293  7.78007057]\n",
      "[-3.87575986  0.43774886  7.8609785 ]\n",
      "[-3.93147827  0.45308617  7.90143706]\n",
      "[-3.9715838   0.48095802  7.95405879]\n",
      "[-4.00980669  0.4776277   7.97067038]\n",
      "[-4.0316455   0.46493288  7.98601646]\n",
      "[-4.04294123  0.46052679  7.99970141]\n",
      "[-4.05059944  0.5085228   8.06748777]\n",
      "[-4.0809289   0.53995523  8.12350367]\n",
      "[-4.11591428  0.55551538  8.158624  ]\n",
      "[-4.14482925  0.50752642  8.13816194]\n",
      "[-4.14353078  0.55167387  8.20551992]\n",
      "[-4.16820904  0.55361847  8.23291557]\n",
      "[-4.18712824  0.56753603  8.27712122]\n",
      "[-4.20968591  0.58292196  8.31628564]\n",
      "[-4.23327861  0.62774093  8.39133792]\n",
      "[-4.27210418  0.67904691  8.46449322]\n",
      "[-4.31959155  0.58500815  8.40202321]\n",
      "[-4.30830956  0.59219278  8.43305937]\n",
      "[-4.31107651  0.59057652  8.45678724]\n",
      "[-4.3173431   0.58819979  8.47711697]\n",
      "[-4.32445995  0.62900534  8.54134685]\n",
      "[-4.35154584  0.59764032  8.53354998]\n",
      "[-4.35642854  0.65389618  8.61216082]\n",
      "[-4.38899898  0.59261042  8.58131606]\n",
      "[-4.38486738  0.63951073  8.65117974]\n",
      "[-4.40874465  0.63091623  8.66946906]\n",
      "[-4.42297667  0.7131466   8.7732392 ]\n",
      "[-4.47151152  0.68925541  8.77698927]\n",
      "[-4.49177753  0.72311138  8.83587136]\n",
      "[-4.52260452  0.70303743  8.84232746]\n",
      "[-4.53534129  0.69817701  8.86345811]\n",
      "[-4.5453898   0.72505043  8.91044812]\n",
      "[-4.56678066  0.72118872  8.93422893]\n",
      "[-4.58209569  0.74456987  8.98007984]\n",
      "[-4.60514495  0.77015162  9.02699749]\n",
      "[-4.63289654  0.67918899  8.96102691]\n",
      "[-4.61275629  0.63308582  8.93833024]\n",
      "[-4.5870487   0.64406703  8.97311675]\n",
      "[-4.58366747  0.59408558  8.94670849]\n",
      "[-4.56498469  0.65292653  9.02197602]\n",
      "[-4.58477985  0.67618265  9.06745911]\n",
      "[-4.61003102  0.70727895  9.12384481]\n",
      "[-4.64218256  0.70436873  9.14201156]\n",
      "[-4.66211408  0.67615106  9.13711333]\n",
      "[-4.66513657  0.7112563   9.19358708]\n",
      "[-4.6866369   0.69887785  9.20414161]\n",
      "[-4.69734004  0.74173359  9.27152464]\n",
      "[-4.72684507  0.79391228  9.34297156]\n",
      "[-4.76902084  0.79032975  9.36154985]\n",
      "[-4.79423743  0.73046396  9.32689251]\n",
      "[-4.78687443  0.74060809  9.35633021]\n",
      "[-4.79150496  0.72154145  9.36115006]\n",
      "[-4.79074772  0.73717225  9.39535698]\n",
      "[-4.8010712   0.7448674   9.43251861]\n",
      "[-4.81607965  0.82003086  9.52682939]\n",
      "[-4.8604787   0.81874854  9.55168212]\n",
      "[-4.88880483  0.75669276  9.51629885]\n",
      "[-4.8826675   0.83500087  9.6108417 ]\n",
      "[-4.91653726  0.8821321   9.682121  ]\n",
      "[-4.95971159  0.91401263  9.73789586]\n",
      "[-5.00120509  0.84725707  9.70192202]\n",
      "[-5.00117731  0.86741047  9.74342649]\n",
      "[-5.01424126  0.84912574  9.75095777]\n",
      "[-5.01879423  0.85931336  9.784063  ]\n",
      "[-5.03035948  0.93743785  9.88470777]\n",
      "[-5.07447153  0.96883111  9.93690565]\n",
      "[-5.11563726  1.04172021 10.03118795]\n",
      "[-5.17288468  1.02683722 10.04365692]\n",
      "[-5.20295922  1.00401175 10.04339095]\n",
      "[-5.21417656  0.93548828 10.00677525]\n",
      "[-5.19792961  1.05094129 10.13956135]\n",
      "[-5.2413801   1.10265973 10.21602365]\n",
      "[-5.29156244  1.05508109 10.19761691]\n",
      "[-5.30472941  0.98939815 10.1602258 ]\n",
      "[-5.29014415  1.03243496 10.22493658]\n",
      "[-5.30473645  1.01067895 10.22487542]\n",
      "[-5.30798056  1.06232115 10.29449354]\n",
      "[-5.33504088  1.05759492 10.31467838]\n",
      "[-5.35283676  1.07674334 10.35530907]\n",
      "[-5.37488459  1.09489793 10.39810837]\n",
      "[-5.39946512  1.08315244 10.41433075]\n",
      "[-5.4136574   1.06011032 10.4144049 ]\n",
      "[-5.41651794  1.08936508 10.46586023]\n",
      "[-5.43477153  0.99767678 10.40217629]\n",
      "[-5.41231026  1.03237728 10.4572673 ]\n",
      "[-5.41864529  0.9986466  10.44899765]\n",
      "[-5.41325857  1.0279884  10.49797248]\n",
      "[-5.4265326   1.03597323 10.53422711]\n",
      "[-5.44284875  0.95980105 10.4840981 ]\n",
      "[-5.42540598  0.88193202 10.43099289]\n",
      "[-5.38851394  0.89482757 10.46711922]\n",
      "[-5.37847888  0.91947668 10.51141292]\n",
      "[-5.3873053   0.90027221 10.51667788]\n",
      "[-5.38910659  0.96413931 10.605549  ]\n",
      "[-5.42177342  1.0123105  10.68071871]\n",
      "[-5.46504224  1.04946817 10.73977338]\n",
      "[-5.50846651  0.99277794 10.71619565]\n",
      "[-5.5154979   0.97890142 10.72552385]\n",
      "[-5.51831918  1.00444848 10.77466004]\n",
      "[-5.53520431  0.96034415 10.7550947 ]\n",
      "[-5.53121813  0.96465318 10.78444896]\n",
      "[-5.5358829   0.91295336 10.76295261]\n",
      "[-5.5232006   0.84624205 10.72413335]\n",
      "[-5.49429378  0.80816545 10.71532842]\n",
      "[-5.46858328  0.90916221 10.83528013]\n",
      "[-5.50018573  0.90353072 10.85733521]\n",
      "[-5.52075948  0.89266775 10.87366178]\n",
      "[-5.5330543   0.88548864 10.88778946]\n",
      "[-5.54114935  0.90212971 10.92272129]\n",
      "[-5.55616077  0.91800908 10.96143821]\n",
      "[-5.57556485  0.83654214 10.90336932]\n",
      "[-5.55738575  0.83613592 10.92520012]\n",
      "[-5.5517067   0.7722025  10.89342661]\n",
      "[-5.52869862  0.83743104 10.98261797]\n",
      "[-5.54783585  0.87953289 11.04555958]\n"
     ]
    },
    {
     "name": "stdout",
     "output_type": "stream",
     "text": [
      "[-5.57989651  0.81762779 11.012033  ]\n",
      "[-5.57775851  0.82722689 11.0470341 ]\n",
      "[-5.585664    0.83044777 11.07128268]\n",
      "[-5.59558406  0.78644337 11.0576604 ]\n",
      "[-5.58906856  0.77681029 11.07607013]\n",
      "[-5.58717229  0.87098088 11.19557134]\n",
      "[-5.62993163  0.86806284 11.21717132]\n",
      "[-5.6572155   0.84303601 11.21809808]\n",
      "[-5.66723585  0.83123494 11.23575583]\n",
      "[-5.67385695  0.77161782 11.20260774]\n",
      "[-5.65840966  0.833012   11.28339781]\n",
      "[-5.67891317  0.83134612 11.306848  ]\n",
      "[-5.69460345  0.86378306 11.36501198]\n",
      "[-5.72169056  0.86266539 11.38711698]\n",
      "[-5.74088176  0.8081054  11.36340484]\n",
      "[-5.73543852  0.84988863 11.43093467]\n",
      "[-5.75460723  0.80650866 11.4121681 ]\n",
      "[-5.75248495  0.81998395 11.44769009]\n",
      "[-5.76120431  0.79858603 11.45212066]\n",
      "[-5.76248966  0.78887072 11.46818122]\n",
      "[-5.76439481  0.80306744 11.50904407]\n",
      "[-5.77655913  0.78376903 11.50898151]\n",
      "[-5.77930529  0.79926729 11.55002456]\n",
      "[-5.7922338  0.7263228 11.5034969]\n",
      "[-5.77501823  0.77355561 11.57036643]\n",
      "[-5.78857577  0.74567278 11.56880048]\n",
      "[-5.79002463  0.75964175 11.60861193]\n",
      "[-5.80166253  0.76085491 11.63766158]\n",
      "[-5.81417777  0.70125924 11.60529394]\n",
      "[-5.8023612   0.69860239 11.62849024]\n",
      "[-5.79984655  0.62428395 11.58546927]\n",
      "[-5.77445728  0.58929562 11.57309426]\n",
      "[-5.75056776  0.74256365 11.75084862]\n",
      "[-5.80450297  0.72521257 11.75005938]\n",
      "[-5.83074693  0.75871838 11.80507036]\n",
      "[-5.86320706  0.681265   11.75137735]\n",
      "[-5.854675    0.65670364 11.75324602]\n",
      "[-5.84520305  0.71301903 11.83224133]\n",
      "[-5.86723274  0.68848212 11.82848557]\n",
      "[-5.87372633  0.68610918 11.85054132]\n",
      "[-5.8812417   0.66204298 11.85185063]\n",
      "[-5.88074101  0.6412732  11.86305119]\n",
      "[-5.87839959  0.62339303 11.87070562]\n",
      "[-5.87492057  0.76515482 12.0353528 ]\n",
      "[-5.93470578  0.70788772 12.0122734 ]\n",
      "[-5.95186412  0.70197384 12.02860474]\n",
      "[-5.96349696  0.67439416 12.02966289]\n",
      "[-5.96457555  0.64762828 12.03162363]\n",
      "[-5.96007439  0.68934643 12.09424737]\n",
      "[-5.97846373  0.70874641 12.13977186]\n",
      "[-6.00173086  0.74987227 12.20170402]\n",
      "[-6.03538956  0.66957637 12.1486627 ]\n",
      "[-6.02749781  0.70929926 12.21095857]\n",
      "[-6.04342042  0.73296608 12.259205  ]\n",
      "[-6.06669053  0.67522732 12.22507873]\n",
      "[-6.06133401  0.64979488 12.21860099]\n",
      "[-6.05184424  0.71118733 12.3030233 ]\n",
      "[-6.07558974  0.71174758 12.33099673]\n",
      "[-6.09457936  0.64183665 12.29216094]\n",
      "[-6.08344674  0.69062187 12.36871292]\n",
      "[-6.10209929  0.71059439 12.41428393]\n",
      "[-6.12561282  0.67257868 12.40075146]\n",
      "[-6.12853552  0.67502478 12.43103005]\n",
      "[-6.13660826  0.71218785 12.49093154]\n",
      "[-6.16042164  0.75039135 12.54910154]\n",
      "[-6.19298315  0.80516472 12.62672374]\n",
      "[-6.23759517  0.77213734 12.619922  ]\n",
      "[-6.25495871  0.70355014 12.57757375]\n",
      "[-6.24275532  0.69795539 12.59587769]\n",
      "[-6.23823465  0.72510684 12.65718122]\n",
      "[-6.25306266  0.68240486 12.6416406 ]\n",
      "[-6.24985818  0.64530905 12.63408676]\n",
      "[-6.23906769  0.68823796 12.70642622]\n",
      "[-6.25565538  0.64996965 12.69316013]\n",
      "[-6.25479446  0.66273948 12.73051821]\n",
      "[-6.26413681  0.5962293  12.69430583]\n",
      "[-6.24899522  0.63568385 12.75705678]\n",
      "[-6.26052677  0.69616755 12.84222459]\n",
      "[-6.2957815   0.60831468 12.78287859]\n",
      "[-6.28668516  0.6135717  12.80806846]\n",
      "[-6.28743987  0.6451101  12.85905222]\n",
      "[-6.30410117  0.67485978 12.90987603]\n",
      "[-6.32941663  0.62452347 12.88201888]\n",
      "[-6.32836695  0.71619415 12.99888817]\n",
      "[-6.36873035  0.74774155 13.05654861]\n",
      "[-6.40921316  0.78233995 13.11129369]\n",
      "[-6.44981805  0.77698621 13.13487742]\n",
      "[-6.47657631  0.79994225 13.18044751]\n",
      "[-6.50525371  0.77020395 13.183607  ]\n",
      "[-6.51644225  0.76677578 13.20495072]\n",
      "[-6.52629024  0.67855482 13.15115135]\n",
      "[-6.50408675  0.69695199 13.19883382]\n",
      "[-6.50409813  0.75175492 13.27492239]\n",
      "[-6.52957643  0.70529404 13.25617926]\n",
      "[-6.53143217  0.64425993 13.22429152]\n",
      "[-6.51424343  0.60007708 13.20856538]\n",
      "[-6.49250655  0.64743312 13.27980085]\n",
      "[-6.50308179  0.6280781  13.29374875]\n",
      "[-6.50798824  0.58602145 13.27537128]\n",
      "[-6.49891321  0.51785416 13.23558097]\n",
      "[-6.47245038  0.51884389 13.26908463]\n",
      "[-6.46384072  0.57016896 13.34410015]\n",
      "[-6.48351965  0.50212741 13.29990382]\n",
      "[-6.47279441  0.53636581 13.3542483 ]\n",
      "[-6.48387794  0.54558778 13.38729663]\n",
      "[-6.49842467  0.54688833 13.41897189]\n",
      "[-6.51312181  0.54977355 13.44931459]\n",
      "[-6.52796622  0.48056116 13.40944624]\n",
      "[-6.51512255  0.46820709 13.42475174]\n",
      "[-6.50818702  0.53100893 13.51952029]\n",
      "[-6.53480967  0.49331102 13.50346689]\n",
      "[-6.5396015   0.55622544 13.58802744]\n",
      "[-6.57098952  0.59090587 13.64393769]\n",
      "[-6.60661393  0.62060351 13.69676357]\n",
      "[-6.64310864  0.66432688 13.76499144]\n",
      "[-6.6857813   0.67256467 13.80298609]\n",
      "[-6.71934388  0.62554909 13.78404525]\n",
      "[-6.7260146   0.63968796 13.82109926]\n",
      "[-6.73968635  0.67564836 13.88695834]\n",
      "[-6.76713938  0.63613096 13.87881114]\n",
      "[-6.77383221  0.64832515 13.91599312]\n",
      "[-6.78714291  0.64183855 13.93755409]\n",
      "[-6.79769665  0.69668333 14.01730729]\n",
      "[-6.82959909  0.59298659 13.93596244]\n",
      "[-6.81259883  0.67012799 14.03109297]\n",
      "[-6.83569803  0.61897906 13.99730206]\n",
      "[-6.83282124  0.63025287 14.03962113]\n",
      "[-6.84131453  0.58095804 14.01399621]\n",
      "[-6.83180346  0.64007865 14.09400536]\n",
      "[-6.85286497  0.65935918 14.14399908]\n",
      "[-6.87832135  0.59320153 14.10000883]\n",
      "[-6.87203835  0.53688571 14.07262267]\n",
      "[-6.85219395  0.5531093  14.11298139]\n",
      "[-6.85135267  0.43555254 14.02136639]\n",
      "[-6.81057245  0.48508722 14.09328615]\n",
      "[-6.81000641  0.52073561 14.14569908]\n",
      "[-6.82652654  0.52831753 14.17316501]\n",
      "[-6.8428219   0.59862787 14.26237773]\n",
      "[-6.88279126  0.53453903 14.2204455 ]\n",
      "[-6.88582745  0.67482143 14.38483285]\n",
      "[-6.94560279  0.60424126 14.34685754]\n",
      "[-6.95990687  0.64206289 14.40114297]\n",
      "[-6.98577984  0.66349941 14.44057224]\n",
      "[-7.01248573  0.6325939  14.43098727]\n",
      "[-7.0204271   0.58638778 14.40468221]\n",
      "[-7.0112344   0.54534873 14.39270571]\n",
      "[-6.9956172   0.55284525 14.42735879]\n",
      "[-6.99435607  0.60821712 14.50680149]\n",
      "[-7.01915851  0.52745912 14.45000422]\n",
      "[-7.00751408  0.62119545 14.55992975]\n",
      "[-7.03928969  0.60518235 14.5686366 ]\n",
      "[-7.05653231  0.56858845 14.56014414]\n",
      "[-7.05804183  0.62173078 14.64455043]\n",
      "[-7.08487681  0.62043694 14.66860536]\n",
      "[-7.10492549  0.64083755 14.71478901]\n",
      "[-7.12925086  0.67281896 14.77089844]\n",
      "[-7.16015223  0.60774553 14.73464714]\n",
      "[-7.15922778  0.55483108 14.707044  ]\n",
      "[-7.14337053  0.59918456 14.77667763]\n",
      "[-7.15542617  0.65807466 14.8597455 ]\n",
      "[-7.18920689  0.61433623 14.84037384]\n",
      "[-7.19726317  0.59130142 14.84169973]\n",
      "[-7.19786134  0.56392156 14.8477525 ]\n",
      "[-7.19407441  0.49359197 14.80402497]\n",
      "[-7.1702063   0.60039297 14.92948649]\n",
      "[-7.19976307  0.66092049 15.00855145]\n",
      "[-7.24340246  0.611628   14.98589573]\n",
      "[-7.2557404   0.56411001 14.96148199]\n",
      "[-7.24947496  0.54807038 14.9710734 ]\n",
      "[-7.24444543  0.57607857 15.02903566]\n",
      "[-7.25749759  0.55675738 15.03605089]\n",
      "[-7.26285003  0.60526631 15.10995554]\n",
      "[-7.28888215  0.61235213 15.14598822]\n",
      "[-7.31233326  0.58497171 15.1459963 ]\n",
      "[-7.32108243  0.54373923 15.13040288]\n",
      "[-7.31556237  0.6075887  15.21755046]\n",
      "[-7.34042594  0.56184601 15.20353343]\n",
      "[-7.34397276  0.55933273 15.22981721]\n",
      "[-7.3504271   0.563992   15.26245499]\n",
      "[-7.36114254  0.61208172 15.33593365]\n",
      "[-7.3901025   0.53942393 15.29221412]\n",
      "[-7.38560688  0.49303972 15.27347467]\n",
      "[-7.37065508  0.41476768 15.22520479]\n",
      "[-7.33793309  0.51507993 15.34258789]\n",
      "[-7.35904354  0.5456429  15.3951456 ]\n",
      "[-7.38704726  0.56494593 15.439699  ]\n",
      "[-7.4155619   0.5863841  15.47981858]\n",
      "[-7.44398028  0.60736495 15.52261351]\n",
      "[-7.47274271  0.52500699 15.46931501]\n",
      "[-7.46469213  0.56432619 15.52977151]\n",
      "[-7.47832382  0.58536114 15.57289816]\n",
      "[-7.49830959  0.53933939 15.56161959]\n",
      "[-7.49955406  0.56539759 15.60673839]\n",
      "[-7.51342427  0.55796753 15.62826363]\n",
      "[-7.52425698  0.5150661  15.61827834]\n",
      "[-7.52084731  0.54923168 15.67666692]\n",
      "[-7.53584882  0.56912322 15.71869315]\n",
      "[-7.55622447  0.57278606 15.74576701]\n",
      "[-7.57406688  0.54870014 15.74350927]\n",
      "[-7.57986205  0.4956838  15.71608807]\n",
      "[-7.56838783  0.51189986 15.76123883]\n",
      "[-7.57272639  0.53831594 15.81035913]\n",
      "[-7.58919729  0.54809181 15.84621222]\n",
      "[-7.60743003  0.48365818 15.81457855]\n",
      "[-7.60057931  0.45656473 15.81507367]\n",
      "[-7.59144019  0.42031934 15.79551944]\n",
      "[-7.57555941  0.44093981 15.84117299]\n",
      "[-7.57815995  0.43250166 15.86238442]\n",
      "[-7.58197816  0.45271418 15.90296412]\n",
      "[-7.59541948  0.51673041 15.98230142]\n",
      "[-7.62982997  0.46429643 15.96017129]\n",
      "[-7.63676918  0.4253546  15.94520705]\n",
      "[-7.63093922  0.42120474 15.96292766]\n",
      "[-7.62984573  0.4598955  16.02654076]\n",
      "[-7.64792175  0.43216824 16.01918239]\n",
      "[-7.65230767  0.40884247 16.01905352]\n",
      "[-7.6505562   0.34246845 15.98031615]\n",
      "[-7.630028    0.34481402 16.01020415]\n",
      "[-7.62348876  0.41958628 16.10403756]\n",
      "[-7.65049006  0.40682221 16.11820952]\n",
      "[-7.666954    0.52311643 16.25162302]\n",
      "[-7.7224857   0.46941149 16.2233597 ]\n",
      "[-7.74106957  0.51120407 16.29464217]\n",
      "[-7.77286307  0.47432757 16.28659246]\n",
      "[-7.78384444  0.45537826 16.29325904]\n",
      "[-7.78817076  0.45706275 16.31962146]\n",
      "[-7.7958307  0.554325  16.4394522]\n",
      "[-7.83989479  0.57036225 16.48195053]\n",
      "[-7.87721035  0.60378914 16.53955928]\n",
      "[-7.9163201   0.55934907 16.52408563]\n",
      "[-7.92921554  0.57680158 16.56486716]\n",
      "[-7.94754463  0.56558839 16.57749129]\n",
      "[-7.95889967  0.61587625 16.64983388]\n",
      "[-7.98791235  0.62501221 16.68663972]\n",
      "[-8.01383006  0.66495898 16.75265791]\n",
      "[-8.04865943  0.753756   16.86678103]\n",
      "[-8.10623847  0.65435323 16.79733129]\n",
      "[-8.11122693  0.6680396  16.83208417]\n",
      "[-8.12291955  0.63688849 16.82804945]\n",
      "[-8.12367811  0.64544576 16.85952889]\n",
      "[-8.13125886  0.61984313 16.85793516]\n",
      "[-8.13094233  0.62735887 16.89247575]\n",
      "[-8.13820938  0.65046597 16.93762472]\n",
      "[-8.15483775  0.65385922 16.96428385]\n",
      "[-8.17035942  0.63450889 16.97772644]\n",
      "[-8.17873113  0.55255005 16.92522201]\n",
      "[-8.15963777  0.51912462 16.9183928 ]\n",
      "[-8.1405688   0.60419815 17.02912803]\n",
      "[-8.16390311  0.56725722 17.01747708]\n",
      "[-8.16946012  0.53328635 17.01192155]\n",
      "[-8.16568749  0.53021638 17.02734177]\n",
      "[-8.16552018  0.51279199 17.02885186]\n",
      "[-8.16249562  0.53617762 17.07577028]\n",
      "[-8.17315918  0.58441806 17.15672669]\n",
      "[-8.20269356  0.65306842 17.24698357]\n",
      "[-8.24907822  0.63447063 17.25659789]\n",
      "[-8.27601475  0.67519626 17.32186498]\n",
      "[-8.31137567  0.66436437 17.33918882]\n",
      "[-8.33429273  0.64493979 17.3493913 ]\n",
      "[-8.34672797  0.6286781  17.36456676]\n",
      "[-8.35411927  0.63842866 17.39378973]\n",
      "[-8.36554343  0.63102835 17.40653287]\n",
      "[-8.37349364  0.62253712 17.41849445]\n",
      "[-8.37896123  0.58901101 17.40670855]\n",
      "[-8.37422597  0.63529649 17.47647197]\n",
      "[-8.39179329  0.54250151 17.41211722]\n",
      "[-8.37468447  0.53818313 17.43190441]\n",
      "[-8.36676088  0.63316814 17.55363925]\n",
      "[-8.40014919  0.58648931 17.53489105]\n",
      "[-8.40919071  0.54762205 17.52185265]\n",
      "[-8.40550801  0.57783969 17.57549691]\n",
      "[-8.41799815  0.57328504 17.59375444]\n",
      "[-8.42808983  0.52700051 17.56693632]\n",
      "[-8.42133763  0.54234752 17.59973909]\n",
      "[-8.42561966  0.53088545 17.60470931]\n",
      "[-8.42707001  0.46192338 17.55692599]\n",
      "[-8.40719038  0.60761038 17.72100737]\n",
      "[-8.44953412  0.56555555 17.70138424]\n",
      "[-8.46491067  0.51024286 17.6690364 ]\n",
      "[-8.45889549  0.53994557 17.72482114]\n",
      "[-8.47017425  0.56335629 17.76742499]\n",
      "[-8.48875148  0.47667801 17.71171156]\n",
      "[-8.47505537  0.42353883 17.68634763]\n",
      "[-8.45254867  0.49445046 17.78649384]\n",
      "[-8.4687147   0.44526324 17.76708925]\n",
      "[-8.46654859  0.47522724 17.81759708]\n",
      "[-8.4793359   0.43930148 17.80964374]\n",
      "[-8.47944631  0.46918059 17.85999937]\n",
      "[-8.49359278  0.48985758 17.89868345]\n",
      "[-8.51277465  0.43193273 17.87453858]\n",
      "[-8.51014291  0.45620935 17.92976928]\n",
      "[-8.52240283  0.41975898 17.91795798]\n",
      "[-8.52145247  0.45363333 17.98002965]\n",
      "[-8.53764403  0.4639018  18.01715861]\n",
      "[-8.55595887  0.46891394 18.05086599]\n",
      "[-8.57406726  0.44249622 18.05064298]\n",
      "[-8.5805981   0.4678923  18.09510688]\n",
      "[-8.59685453  0.44583178 18.09561591]\n",
      "[-8.60314646  0.52905896 18.19636076]\n",
      "[-8.63916132  0.46338925 18.16432145]\n",
      "[-8.64450306  0.51558817 18.23508119]\n",
      "[-8.66925048  0.45360896 18.19993503]\n",
      "[-8.66767847  0.53302502 18.30846097]\n",
      "[-8.69936756  0.47622184 18.28123965]\n",
      "[-8.70448299  0.47456172 18.29966418]\n",
      "[-8.7105427   0.48385313 18.33404967]\n",
      "[-8.72186589  0.43895096 18.31127417]\n",
      "[-8.71708014  0.41121678 18.30832328]\n",
      "[-8.70863819  0.38747369 18.31368384]\n",
      "[-8.70004083  0.38186857 18.33328799]\n",
      "[-8.69702065  0.39725338 18.36959929]\n",
      "[-8.70408354  0.40143814 18.405917  ]\n",
      "[-8.71545758  0.34213938 18.3770806 ]\n",
      "[-8.70710028  0.35217127 18.41801479]\n",
      "[-8.71066033  0.42878547 18.52253281]\n",
      "[-8.74428205  0.38567312 18.50760096]\n",
      "[-8.75521094  0.40873099 18.54896519]\n",
      "[-8.77319464  0.43746961 18.60076041]\n",
      "[-8.79836458  0.47211406 18.65509558]\n",
      "[-8.82950001  0.51767676 18.7242469 ]\n",
      "[-8.86878435  0.48113497 18.70808041]\n",
      "[-8.88438892  0.44200019 18.69327065]\n",
      "[-8.88481091  0.36587625 18.63898083]\n",
      "[-8.86238446  0.2974763  18.59487112]\n",
      "[-8.82861946  0.29964509 18.62608376]\n",
      "[-8.81311344  0.28054835 18.62955221]\n",
      "[-8.80057669  0.3444779  18.71726324]\n",
      "[-8.81893582  0.35250057 18.75276889]\n",
      "[-8.83791867  0.41612083 18.8381385 ]\n"
     ]
    },
    {
     "name": "stdout",
     "output_type": "stream",
     "text": [
      "[-8.8754801   0.43513876 18.87622404]\n",
      "[-8.90891788  0.40214352 18.8709546 ]\n",
      "[-8.92333806  0.40562155 18.89399696]\n",
      "[-8.93693805  0.38527856 18.90552645]\n",
      "[-8.94389507  0.34407909 18.88083122]\n",
      "[-8.93685805  0.34888277 18.91092679]\n",
      "[-8.93835963  0.38175479 18.97563595]\n",
      "[-8.95600501  0.40956376 19.02803958]\n",
      "[-8.98084076  0.37602698 19.02173789]\n",
      "[-8.98960993  0.33853737 19.01128482]\n",
      "[-8.98681161  0.28919035 18.98966229]\n",
      "[-8.97271369  0.3615148  19.08648318]\n",
      "[-8.99282962  0.37634122 19.11927539]\n",
      "[-9.01365483  0.41455352 19.18368401]\n",
      "[-9.04429863  0.38623177 19.17924868]\n",
      "[-9.05803593  0.35017597 19.1690198 ]\n",
      "[-9.05872006  0.30244934 19.14516858]\n",
      "[-9.04677987  0.28035413 19.15233602]\n",
      "[-9.0365588   0.27909321 19.18057659]\n",
      "[-9.03462997  0.30518906 19.22485787]\n",
      "[-9.04542106  0.31218438 19.25962202]\n",
      "[-9.05931268  0.38233814 19.35332939]\n",
      "[-9.09598756  0.3330569  19.33444414]\n",
      "[-9.10755089  0.40797227 19.43428526]\n",
      "[-9.14454903  0.40888327 19.46228792]\n",
      "[-9.17289598  0.41366553 19.48957239]\n",
      "[-9.19629922  0.32020888 19.42186962]\n",
      "[-9.18365572  0.41641609 19.54094499]\n",
      "[-9.21216003  0.46704155 19.61222073]\n",
      "[-9.25085702  0.48522835 19.64598716]\n",
      "[-9.28426289  0.51402965 19.70507332]\n",
      "[-9.32029895  0.51055016 19.72516603]\n",
      "[-9.34605612  0.44374257 19.68855727]\n",
      "[-9.34495878  0.51255902 19.78335123]\n",
      "[-9.37176889  0.56997559 19.86792876]\n",
      "[-9.41265315  0.59910901 19.9193303 ]\n",
      "[-9.45226342  0.52041093 19.87184632]\n",
      "[-9.4564211   0.52485752 19.9000081 ]\n",
      "[-9.46449001  0.47862848 19.88325529]\n",
      "[-9.45896844  0.46494797 19.89693245]\n",
      "[-9.45534053  0.41963199 19.88078613]\n",
      "[-9.44255744  0.49362666 19.97337579]\n",
      "[-9.46232558  0.44959537 19.95214404]\n",
      "[-9.46396994  0.45736947 19.98037734]\n",
      "[-9.47100902  0.51272565 20.05884157]\n",
      "[-9.497864    0.57688539 20.14824776]\n",
      "[-9.54062028  0.54351724 20.14457692]\n",
      "[-9.561881    0.56656937 20.19214639]\n",
      "[-9.58724705  0.49922267 20.14797506]\n",
      "[-9.58488625  0.52640892 20.19012028]\n",
      "[-9.59490515  0.5646204  20.24697263]\n",
      "[-9.61712983  0.63458119 20.34142313]\n",
      "[-9.65862628  0.56063739 20.30153977]\n",
      "[-9.66643118  0.58146816 20.34337958]\n",
      "[-9.6818129   0.61785867 20.40855443]\n",
      "[-9.70847811  0.58353233 20.40157968]\n",
      "[-9.71877873  0.59316707 20.43129399]\n",
      "[-9.7318917   0.59595233 20.46453862]\n",
      "[-9.74623535  0.58924764 20.47698772]\n",
      "[-9.75639882  0.54970784 20.45986589]\n",
      "[-9.75350051  0.58771036 20.52546212]\n",
      "[-9.76870083  0.5713739  20.5316995 ]\n",
      "[-9.77679208  0.61002948 20.59618126]\n",
      "[-9.79897738  0.62949073 20.63722691]\n",
      "[-9.82324714  0.61326702 20.64131123]\n",
      "[-9.83691695  0.59830248 20.65638692]\n",
      "[-9.84569942  0.63711851 20.71914894]\n",
      "[-9.8680353   0.63363437 20.73848972]\n",
      "[-9.88506611  0.64159958 20.76937545]\n",
      "[-9.90243183  0.75130915 20.89592559]\n",
      "[-9.9522447   0.74540728 20.91635709]\n",
      "[-9.98699571  0.76412413 20.95650049]\n",
      "[-10.01916166   0.69197779  20.90896056]\n",
      "[-10.02050343   0.73242363  20.97434956]\n",
      "[-10.03859832   0.79441319  21.06290056]\n",
      "[-10.07479208   0.77926196  21.07184217]\n",
      "[-10.09735498   0.7649406   21.08244703]\n",
      "[-10.11140859   0.65857831  21.0068334 ]\n",
      "[-10.09074652   0.64622481  21.02507208]\n",
      "[-10.07814775   0.61328067  21.02030797]\n",
      "[-10.06366645   0.62439807  21.05632978]\n",
      "[-10.06187324   0.60683405  21.06375005]\n",
      "[-10.05896497   0.61326197  21.0978259 ]\n",
      "[-10.06360356   0.59318455  21.10038418]\n",
      "[-10.0636925    0.61272391  21.14830749]\n",
      "[-10.07467396   0.59420878  21.15498155]\n",
      "[-10.079827     0.60282921  21.18266517]\n",
      "[-10.08904904   0.59883534  21.20685589]\n",
      "[-10.09826963   0.59631807  21.22789955]\n",
      "[-10.10723215   0.57224278  21.22680594]\n",
      "[-10.10890931   0.5515483   21.23653766]\n",
      "[-10.10811897   0.60345321  21.31578282]\n",
      "[-10.12885062   0.57380255  21.30822825]\n",
      "[-10.13629023   0.61960209  21.38320881]\n",
      "[-10.16065454   0.65720978  21.44403698]\n",
      "[-10.19243602   0.58290048  21.39575211]\n",
      "[-10.19332569   0.62712834  21.46540857]\n",
      "[-10.2122804    0.60069823  21.47178539]\n",
      "[-10.22135141   0.53309542  21.43054233]\n",
      "[-10.20953426   0.53779234  21.46596423]\n",
      "[-10.20822708   0.51907058  21.48152691]\n",
      "[-10.20674988   0.52748404  21.51935315]\n",
      "[-10.21319114   0.56481946  21.58414534]\n",
      "[-10.23383823   0.61522758  21.6528382 ]\n",
      "[-10.26649941   0.65945688  21.71334797]\n",
      "[-10.30470668   0.58008787  21.66305389]\n",
      "[-10.3088831    0.63031289  21.72961359]\n",
      "[-10.3303773    0.650231    21.77586884]\n",
      "[-10.3550473    0.67474369  21.8273685 ]\n",
      "[-10.3833711    0.65359425  21.83019422]\n",
      "[-10.39901785   0.6311825   21.83568302]\n",
      "[-10.40651648   0.55297298  21.78740422]\n",
      "[-10.39098308   0.55299835  21.81023493]\n",
      "[-10.38438942   0.50944296  21.79123805]\n",
      "[-10.36988086   0.54057848  21.85002736]\n",
      "[-10.3747579    0.54906949  21.88637048]\n",
      "[-10.38508452   0.55116094  21.91407528]\n",
      "[-10.39658344   0.49318303  21.8872637 ]\n",
      "[-10.39041735   0.47620744  21.89840634]\n",
      "[-10.38533431   0.41859512  21.8681352 ]\n",
      "[-10.36772141   0.38229634  21.86320472]\n",
      "[-10.34938542   0.4292599   21.93665921]\n",
      "[-10.35668401   0.45116402  21.99145237]\n",
      "[-10.37369881   0.47703024  22.03821926]\n",
      "[-10.39646848   0.46681046  22.05048811]\n",
      "[-10.41172939   0.47354132  22.0810513 ]\n",
      "[-10.42768023   0.33196416  21.95988019]\n",
      "[-10.39581752   0.41608305  22.06394426]\n",
      "[-10.40512592   0.42771915  22.10195522]\n",
      "[-10.41913027   0.48934916  22.18855643]\n",
      "[-10.45193957   0.47121714  22.19476603]\n",
      "[-10.47163014   0.40734896  22.15801899]\n",
      "[-10.46844243   0.36896694  22.14559951]\n",
      "[-10.45810381   0.39954311  22.20363239]\n",
      "[-10.46541292   0.30620604  22.13917282]\n",
      "[-10.44479803   0.35658209  22.21626669]\n",
      "[-10.45161021   0.29174422  22.18336244]\n",
      "[-10.4403131    0.2801718   22.19612228]\n",
      "[-10.43298818   0.29799986  22.24056512]\n",
      "[-10.43807351   0.24537398  22.2109317 ]\n",
      "[-10.42814391   0.25470739  22.23862714]\n",
      "[-10.42749752   0.27028199  22.27709455]\n",
      "[-10.43566393   0.27201315  22.3071487 ]\n",
      "[-10.44604621   0.27394896  22.34487131]\n",
      "[-10.45912159   0.29416948  22.3843488 ]\n",
      "[-10.47721735   0.22384665  22.3370831 ]\n",
      "[-10.47028074   0.25111278  22.38562665]\n",
      "[-10.47777752   0.25336203  22.41144093]\n",
      "[-10.48713486   0.18846857  22.38035904]\n",
      "[-10.47784135   0.18195649  22.40019965]\n",
      "[-10.47376783   0.21946298  22.45406087]\n",
      "[-10.48563929   0.19114641  22.45234713]\n",
      "[-10.48859694   0.16092886  22.43808548]\n",
      "[-10.48337949   0.11080143  22.41487282]\n",
      "[-10.46808727   0.15559575  22.48072116]\n",
      "[-10.47566488   0.12035818  22.47483395]\n",
      "[-10.47399493   0.18550542  22.56493796]\n",
      "[-10.49758213   0.13589863  22.54488229]\n",
      "[-10.50197734   0.11672684  22.55177167]\n",
      "[-10.502836     0.20060086  22.65628195]\n",
      "[-10.53330731   0.18513721  22.66855521]\n",
      "[-10.55288812   0.22139402  22.73540108]\n",
      "[-10.58208752   0.22207851  22.76011125]\n",
      "[-10.60538436   0.18821037  22.75874017]\n",
      "[-10.61514241   0.20766363  22.80615972]\n",
      "[-10.6321163    0.26854212  22.89698822]\n",
      "[-10.66720629   0.22971201  22.88202371]\n",
      "[-10.68196931   0.30237986  22.97375387]\n",
      "[-10.71758356   0.26916094  22.97080828]\n",
      "[-10.73550316   0.26583097  22.99375074]\n",
      "[-10.75042479   0.22346912  22.97685748]\n",
      "[-10.75091907   0.18064059  22.95851525]\n",
      "[-10.74149227   0.15881283  22.96248525]\n",
      "[-10.73232478   0.14668796  22.98124715]\n",
      "[-10.72719552   0.14649761  23.0058744 ]\n",
      "[-10.7275806    0.15858371  23.04639767]\n",
      "[-10.73605803   0.17578084  23.08285992]\n",
      "[-10.75008981   0.24585936  23.17374154]\n",
      "[-10.7846077    0.11994583  23.07856385]\n",
      "[-10.77270992   0.08113985  23.0712537 ]\n",
      "[-10.75740554   0.16671098  23.1773369 ]\n",
      "[-10.77739742   0.2428754   23.2812805 ]\n",
      "[-10.81878294   0.21200411  23.28072055]\n",
      "[-10.84141016   0.2070137   23.29792521]\n",
      "[-10.85834584   0.18975077  23.29929369]\n",
      "[-10.86709395   0.2357778   23.36891315]\n",
      "[-10.89093961   0.13095552  23.28944169]\n",
      "[-10.87787558   0.17644601  23.35114225]\n",
      "[-10.88595884   0.22567376  23.4152253 ]\n",
      "[-10.9090124    0.22342826  23.43479807]\n",
      "[-10.92705156   0.24946968  23.48797501]\n",
      "[-10.95136166   0.2835271   23.53983901]\n",
      "[-10.98091518   0.21753031  23.49806024]\n",
      "[-10.98384728   0.31912756  23.61906756]\n",
      "[-11.02031507   0.28002796  23.60845049]\n",
      "[-11.0369828    0.29903924  23.64992753]\n",
      "[-11.05746247   0.23484703  23.60447071]\n",
      "[-11.05408437   0.20787554  23.60956649]\n",
      "[-11.0483134    0.19852208  23.62701663]\n",
      "[-11.04563296   0.17779384  23.63429876]\n",
      "[-11.04165649   0.17097817  23.65766411]\n",
      "[-11.04148397   0.0844941   23.6008118 ]\n",
      "[-11.0188648    0.1124506   23.64948175]\n",
      "[-11.01567445   0.08845004  23.64198848]\n",
      "[-11.00857009   0.14329908  23.72123144]\n",
      "[-11.02463226   0.21933553  23.8205781 ]\n",
      "[-11.06244332   0.1910495   23.81933831]\n",
      "[-11.08319507   0.26600075  23.91444558]\n",
      "[-11.12326146   0.33470319  24.00123681]\n",
      "[-11.17396768   0.29538581  23.99162759]\n",
      "[-11.2005661    0.29326041  24.01486751]\n",
      "[-11.22164032   0.2770257   24.02253293]\n",
      "[-11.23443729   0.21738215  23.98978229]\n",
      "[-11.22870262   0.23434869  24.03595155]\n",
      "[-11.2345118    0.22403171  24.05025215]\n",
      "[-11.23895967   0.23449217  24.08138771]\n",
      "[-11.24829981   0.33235705  24.20155285]\n",
      "[-11.28790404   0.35043277  24.24839735]\n",
      "[-11.32445689   0.38095544  24.30238651]\n",
      "[-11.36194544   0.35998219  24.30433162]\n",
      "[-11.38433769   0.36266308  24.33503036]\n",
      "[-11.40447882   0.32930851  24.32541564]\n",
      "[-11.41146155   0.40039523  24.41809342]\n",
      "[-11.44105785   0.35735318  24.39838354]\n",
      "[-11.45147891   0.41046537  24.46705896]\n",
      "[-11.47700336   0.34111707  24.42493993]\n",
      "[-11.47723651   0.35042676  24.4483531 ]\n",
      "[-11.48234703   0.4027648   24.52520079]\n",
      "[-11.50537239   0.31515489  24.46375039]\n",
      "[-11.4981914    0.35493025  24.53083541]\n",
      "[-11.509545     0.21219951  24.41637466]\n",
      "[-11.47777032   0.23911716  24.46542971]\n",
      "[-11.46791725   0.2825485   24.52996589]\n",
      "[-11.47768495   0.33517576  24.60783613]\n",
      "[-11.50403622   0.31628606  24.61746306]\n",
      "[-11.52041607   0.321153    24.65176751]\n",
      "[-11.53737288   0.36151164  24.71573232]\n",
      "[-11.56458262   0.30402237  24.68061345]\n",
      "[-11.56896225   0.38751492  24.7867008 ]\n",
      "[-11.60052144   0.41245922  24.83227444]\n",
      "[-11.63252592   0.38644361  24.83238151]\n",
      "[-11.65032504   0.39384468  24.87353643]\n",
      "[-11.66964436   0.39669702  24.90516732]\n",
      "[-11.6878943    0.46631643  24.99372059]\n",
      "[-11.72397538   0.39769038  24.95028979]\n",
      "[-11.7316857    0.4362653   25.01411781]\n",
      "[-11.75225039   0.43237556  25.02877384]\n",
      "[-11.76782926   0.4518482   25.07286103]\n",
      "[-11.78790425   0.41094385  25.06225946]\n",
      "[-11.79377829   0.46773187  25.14922341]\n",
      "[-11.81922198   0.51112579  25.22215191]\n",
      "[-11.8538377    0.53032186  25.26440935]\n",
      "[-11.8865809    0.44442984  25.20162804]\n",
      "[-11.88672048   0.42815525  25.21333611]\n",
      "[-11.8860485    0.42500879  25.23995679]\n",
      "Epochs: 999 Weights:  [-11.88902078   0.40936196  25.24873539]\n",
      "y_fail: 15.78045075762465\n"
     ]
    },
    {
     "data": {
      "text/plain": [
       "array([-11.88902078,   0.40936196,  25.24873539])"
      ]
     },
     "execution_count": 149,
     "metadata": {},
     "output_type": "execute_result"
    }
   ],
   "source": [
    "w = fit_stoch(Z, y, verbose=True)\n",
    "w"
   ]
  },
  {
   "cell_type": "code",
   "execution_count": 831,
   "metadata": {},
   "outputs": [
    {
     "name": "stdout",
     "output_type": "stream",
     "text": [
      "Restored weights [-0.5722185317510287, -1.1456492800366263e-07, 0.00018825301204819278]\n",
      "Weights with y set to 1 [-3039.624840661464, -0.0006085688975554558, 1.0]\n"
     ]
    }
   ],
   "source": [
    "w = [w[i] / maxima[i] for i in range(len(w))]\n",
    "print(\"Restored weights\", w)\n",
    "w = [w[j] / w[-1] for j in range(len(w))]\n",
    "print(\"Weights with y set to 1\", w)"
   ]
  },
  {
   "cell_type": "markdown",
   "metadata": {},
   "source": [
    "### Visualizing the results"
   ]
  },
  {
   "cell_type": "code",
   "execution_count": 832,
   "metadata": {},
   "outputs": [
    {
     "data": {
      "image/png": "[encoded data removed]",
      "text/plain": [
       "<Figure size 432x288 with 1 Axes>"
      ]
     },
     "metadata": {
      "needs_background": "light"
     },
     "output_type": "display_data"
    }
   ],
   "source": [
    "plt.scatter(x_fr, y_fr, color='red')\n",
    "plt.scatter(x_en, y_en, color='blue')\n",
    "plt.plot([min(x_fr + x_en), max(x_fr + x_en)],\n",
    "         [-w[1] * min(x_fr + x_en) - w[0], -w[1] * max(x_fr + x_en) - w[0]], color='green')\n",
    "plt.xlabel('x')\n",
    "plt.ylabel('y')\n",
    "#plt.legend()\n",
    "plt.show()\n"
   ]
  },
  {
   "cell_type": "markdown",
   "metadata": {},
   "source": [
    "### Evaluation\n",
    "Evaluate your logistic regression using the leave-one-out cross validation method as with the perceptron"
   ]
  },
  {
   "cell_type": "code",
   "execution_count": 814,
   "metadata": {},
   "outputs": [
    {
     "ename": "SyntaxError",
     "evalue": "invalid syntax (<ipython-input-814-a5ef76428430>, line 18)",
     "output_type": "error",
     "traceback": [
      "\u001b[0;36m  File \u001b[0;32m\"<ipython-input-814-a5ef76428430>\"\u001b[0;36m, line \u001b[0;32m18\u001b[0m\n\u001b[0;31m    w_train = #fit_stoch(X_train, y_train)\u001b[0m\n\u001b[0m              ^\u001b[0m\n\u001b[0;31mSyntaxError\u001b[0m\u001b[0;31m:\u001b[0m invalid syntax\n"
     ]
    }
   ],
   "source": [
    "# Write your code here\n",
    "def leave_one_out_cross_val(X, y, fitting_function):\n",
    "    X_train = []\n",
    "    y_train = []\n",
    "    b = 0\n",
    "    evaluate = 0\n",
    "\n",
    "    num = int(np.array(X).shape[0])\n",
    "\n",
    "    for i,x in enumerate(X_norm):\n",
    "        for nbr in X_norm:\n",
    "            if nbr == x:\n",
    "                X_test = [nbr]\n",
    "                y_test = [y[i]]\n",
    "                continue\n",
    "            X_train.append(nbr)\n",
    "            y_train.append(y[i])\n",
    "        w_train = #fit_stoch(X_train, y_train)\n",
    "        y_pred = predict3(X_test, w_train)\n",
    "        evaluate += accuracy(y_test, y_pred)\n",
    "        X_train = []\n",
    "        y_train = []\n",
    "\n",
    "    print(evaluate/len(X_norm))\n",
    "    \n",
    "    return evaluate/len(X_norm)\n"
   ]
  },
  {
   "cell_type": "code",
   "execution_count": 714,
   "metadata": {},
   "outputs": [
    {
     "name": "stdout",
     "output_type": "stream",
     "text": [
      "Epochs: 999 Weights:  [-5.80296176 -3.10204095 -2.97965323]\n",
      "y_fail: 0.007326903343542449\n",
      "Epochs: 999 Weights:  [-5.82942684 -3.07959431 -2.95520111]\n",
      "y_fail: 0.007337499403464686\n",
      "Epochs: 999 Weights:  [-5.71714745 -3.10789779 -2.98029485]\n",
      "y_fail: 0.007168143601904258\n",
      "Epochs: 999 Weights:  [-5.80060704 -3.10855738 -2.98315608]\n",
      "y_fail: 0.0073233075602136275\n",
      "Epochs: 999 Weights:  [-5.78030473 -3.11872672 -2.99333236]\n",
      "y_fail: 0.007305918724399132\n",
      "Epochs: 999 Weights:  [-5.81282005 -3.10121068 -2.97710672]\n",
      "y_fail: 0.007331118965667226\n",
      "Epochs: 999 Weights:  [-5.86554958 -3.03896969 -2.91970247]\n",
      "y_fail: 0.007363700640583682\n",
      "Epochs: 999 Weights:  [-5.80052444 -3.11299622 -2.98929296]\n",
      "y_fail: 0.007327344442840786\n",
      "Epochs: 999 Weights:  [-5.78436058 -3.11984605 -2.99311754]\n",
      "y_fail: 0.007311200583217308\n",
      "Epochs: 999 Weights:  [-5.76224737 -3.12438719 -2.99607051]\n",
      "y_fail: 0.007287507149177475\n",
      "Epochs: 999 Weights:  [-5.80317042 -3.10841094 -2.9828235 ]\n",
      "y_fail: 0.0073236544977594905\n",
      "Epochs: 999 Weights:  [-5.82124558 -3.08525533 -2.96014892]\n",
      "y_fail: 0.007341344342237567\n",
      "Epochs: 999 Weights:  [-5.85287583 -3.05660123 -2.93908263]\n",
      "y_fail: 0.0073632624210258095\n",
      "Epochs: 999 Weights:  [-5.86448028 -3.03952777 -2.91935471]\n",
      "y_fail: 0.007371338925914513\n",
      "Epochs: 999 Weights:  [-5.72882919 -3.11831244 -2.9932181 ]\n",
      "y_fail: 0.007200258969134829\n",
      "Epochs: 999 Weights:  [5.80905667 3.10407388 2.97513356]\n",
      "y_fail: 0.0073270502919511316\n",
      "Epochs: 999 Weights:  [5.82007167 3.10229632 2.97083722]\n",
      "y_fail: 0.007330422320452112\n",
      "Epochs: 999 Weights:  [5.71971158 3.11211298 2.98414035]\n",
      "y_fail: 0.007180106706574874\n",
      "Epochs: 999 Weights:  [5.80558584 3.11013799 2.97901279]\n",
      "y_fail: 0.0073220993249515365\n",
      "Epochs: 999 Weights:  [5.78190784 3.12402478 2.99512725]\n",
      "y_fail: 0.00730449650976972\n",
      "Epochs: 999 Weights:  [5.82265199 3.09097745 2.95977327]\n",
      "y_fail: 0.007341690371460596\n",
      "Epochs: 999 Weights:  [5.86483822 3.04405208 2.91615113]\n",
      "y_fail: 0.007366039448721495\n",
      "Epochs: 999 Weights:  [5.81449101 3.1016489  2.96799405]\n",
      "y_fail: 0.0073275367207845665\n",
      "Epochs: 999 Weights:  [5.79759227 3.10470402 2.97524199]\n",
      "y_fail: 0.007313039137354926\n",
      "Epochs: 999 Weights:  [5.76948889 3.12463506 2.99319461]\n",
      "y_fail: 0.007290464086663451\n",
      "Epochs: 999 Weights:  [5.81458119 3.10064275 2.96799744]\n",
      "y_fail: 0.007327856939495114\n",
      "Epochs: 999 Weights:  [5.81494512 3.10138462 2.97135   ]\n",
      "y_fail: 0.007341051176529612\n",
      "Epochs: 999 Weights:  [5.86691549 3.04115823 2.91123152]\n",
      "y_fail: 0.007369592479313458\n",
      "Epochs: 999 Weights:  [5.87647168 3.02801669 2.89434225]\n",
      "y_fail: 0.007375332759712916\n",
      "Epochs: 999 Weights:  [5.73801333 3.11070501 2.98322061]\n",
      "y_fail: 0.007230011315425\n",
      "0.0\n",
      "Cross-validation accuracy (batch): 0.0\n"
     ]
    }
   ],
   "source": [
    "stoch_accuracy = leave_one_out_cross_val(X, y, fit_stoch)\n",
    "print('Cross-validation accuracy (batch):', stoch_accuracy)"
   ]
  },
  {
   "cell_type": "markdown",
   "metadata": {},
   "source": [
    "## Visualizing the logistic surface"
   ]
  },
  {
   "cell_type": "code",
   "execution_count": 740,
   "metadata": {},
   "outputs": [],
   "source": [
    "def plot_logistic_surf(x_range, y_range, w_opt):\n",
    "    z_axis = np.array([[0.0] * len(y_range) for i in range(len(x_range))])\n",
    "    x_axis, y_axis = np.meshgrid(x_range, y_range)\n",
    "    z_axis = z_axis.reshape(x_axis.shape)\n",
    "\n",
    "    # We compute the probability surface as a function of x and y\n",
    "    for i in range(len(x_range)):\n",
    "        for j in range(len(y_range)):\n",
    "            z_axis[j, i] = logistic(np.dot([1, x_range[i], y_range[j]], w_opt))\n",
    "    return x_axis, y_axis, z_axis"
   ]
  },
  {
   "cell_type": "code",
   "execution_count": 741,
   "metadata": {},
   "outputs": [
    {
     "ename": "TypeError",
     "evalue": "logistic() missing 1 required positional argument: 'y'",
     "output_type": "error",
     "traceback": [
      "\u001b[0;31m---------------------------------------------------------------------------\u001b[0m",
      "\u001b[0;31mTypeError\u001b[0m                                 Traceback (most recent call last)",
      "\u001b[0;32m<ipython-input-741-1c95ec30998b>\u001b[0m in \u001b[0;36m<module>\u001b[0;34m\u001b[0m\n\u001b[1;32m      3\u001b[0m \u001b[0;31m#w = [2.073225839414742, -0.049125455233437906, 0.7440143556104162]\u001b[0m\u001b[0;34m\u001b[0m\u001b[0;34m\u001b[0m\u001b[0;34m\u001b[0m\u001b[0m\n\u001b[1;32m      4\u001b[0m \u001b[0;34m\u001b[0m\u001b[0m\n\u001b[0;32m----> 5\u001b[0;31m \u001b[0mx_axis\u001b[0m\u001b[0;34m,\u001b[0m \u001b[0my_axis\u001b[0m\u001b[0;34m,\u001b[0m \u001b[0mz_axis\u001b[0m \u001b[0;34m=\u001b[0m \u001b[0mplot_logistic_surf\u001b[0m\u001b[0;34m(\u001b[0m\u001b[0mx_range\u001b[0m\u001b[0;34m,\u001b[0m \u001b[0my_range\u001b[0m\u001b[0;34m,\u001b[0m \u001b[0mw\u001b[0m\u001b[0;34m)\u001b[0m\u001b[0;34m\u001b[0m\u001b[0;34m\u001b[0m\u001b[0m\n\u001b[0m\u001b[1;32m      6\u001b[0m \u001b[0;34m\u001b[0m\u001b[0m\n\u001b[1;32m      7\u001b[0m \u001b[0mfig\u001b[0m \u001b[0;34m=\u001b[0m \u001b[0mplt\u001b[0m\u001b[0;34m.\u001b[0m\u001b[0mfigure\u001b[0m\u001b[0;34m(\u001b[0m\u001b[0;34m)\u001b[0m\u001b[0;34m\u001b[0m\u001b[0;34m\u001b[0m\u001b[0m\n",
      "\u001b[0;32m<ipython-input-740-b25310896f04>\u001b[0m in \u001b[0;36mplot_logistic_surf\u001b[0;34m(x_range, y_range, w_opt)\u001b[0m\n\u001b[1;32m      7\u001b[0m     \u001b[0;32mfor\u001b[0m \u001b[0mi\u001b[0m \u001b[0;32min\u001b[0m \u001b[0mrange\u001b[0m\u001b[0;34m(\u001b[0m\u001b[0mlen\u001b[0m\u001b[0;34m(\u001b[0m\u001b[0mx_range\u001b[0m\u001b[0;34m)\u001b[0m\u001b[0;34m)\u001b[0m\u001b[0;34m:\u001b[0m\u001b[0;34m\u001b[0m\u001b[0;34m\u001b[0m\u001b[0m\n\u001b[1;32m      8\u001b[0m         \u001b[0;32mfor\u001b[0m \u001b[0mj\u001b[0m \u001b[0;32min\u001b[0m \u001b[0mrange\u001b[0m\u001b[0;34m(\u001b[0m\u001b[0mlen\u001b[0m\u001b[0;34m(\u001b[0m\u001b[0my_range\u001b[0m\u001b[0;34m)\u001b[0m\u001b[0;34m)\u001b[0m\u001b[0;34m:\u001b[0m\u001b[0;34m\u001b[0m\u001b[0;34m\u001b[0m\u001b[0m\n\u001b[0;32m----> 9\u001b[0;31m             \u001b[0mz_axis\u001b[0m\u001b[0;34m[\u001b[0m\u001b[0mj\u001b[0m\u001b[0;34m,\u001b[0m \u001b[0mi\u001b[0m\u001b[0;34m]\u001b[0m \u001b[0;34m=\u001b[0m \u001b[0mlogistic\u001b[0m\u001b[0;34m(\u001b[0m\u001b[0mnp\u001b[0m\u001b[0;34m.\u001b[0m\u001b[0mdot\u001b[0m\u001b[0;34m(\u001b[0m\u001b[0;34m[\u001b[0m\u001b[0;36m1\u001b[0m\u001b[0;34m,\u001b[0m \u001b[0mx_range\u001b[0m\u001b[0;34m[\u001b[0m\u001b[0mi\u001b[0m\u001b[0;34m]\u001b[0m\u001b[0;34m,\u001b[0m \u001b[0my_range\u001b[0m\u001b[0;34m[\u001b[0m\u001b[0mj\u001b[0m\u001b[0;34m]\u001b[0m\u001b[0;34m]\u001b[0m\u001b[0;34m,\u001b[0m \u001b[0mw_opt\u001b[0m\u001b[0;34m)\u001b[0m\u001b[0;34m)\u001b[0m\u001b[0;34m\u001b[0m\u001b[0;34m\u001b[0m\u001b[0m\n\u001b[0m\u001b[1;32m     10\u001b[0m     \u001b[0;32mreturn\u001b[0m \u001b[0mx_axis\u001b[0m\u001b[0;34m,\u001b[0m \u001b[0my_axis\u001b[0m\u001b[0;34m,\u001b[0m \u001b[0mz_axis\u001b[0m\u001b[0;34m\u001b[0m\u001b[0;34m\u001b[0m\u001b[0m\n",
      "\u001b[0;31mTypeError\u001b[0m: logistic() missing 1 required positional argument: 'y'"
     ]
    }
   ],
   "source": [
    "x_range = np.linspace(0, 100000, 200)\n",
    "y_range = np.linspace(0, 10000, 200)\n",
    "#w = [2.073225839414742, -0.049125455233437906, 0.7440143556104162]\n",
    "\n",
    "x_axis, y_axis, z_axis = plot_logistic_surf(x_range, y_range, w)\n",
    "\n",
    "fig = plt.figure()\n",
    "ax = Axes3D(fig)\n",
    "# ax = fig.gca(projection='3d')\n",
    "\n",
    "surf = ax.plot_surface(y_axis, x_axis, z_axis, rstride=1, cstride=1, cmap=cm.coolwarm,\n",
    "                       linewidth=0, antialiased=False, alpha=0.2)\n",
    "fig.colorbar(surf, shrink=0.5, aspect=5)\n",
    "# We plot the observations\n",
    "for x, y_class in zip(X, y):\n",
    "    if y_class == 1:\n",
    "        ax.scatter(x[2], x[1], y_class, color='green', marker='x')\n",
    "    else:\n",
    "        ax.scatter(x[2], x[1], y_class, color='red', marker='x')\n",
    "\n",
    "ax.elev = 30 \n",
    "ax.azim = -150\n",
    "plt.show()"
   ]
  },
  {
   "cell_type": "markdown",
   "metadata": {},
   "source": [
    "## Programming logistic regression with popular APIs\n",
    "Should you use logistic regression in a project, you will probably resort to existing libraries. In the next cells, you will apply the logistic regression classification with two popular APIs:\n",
    "1. sklearn\n",
    "2. Keras\n",
    "\n",
    "`sklearn` is included in anaconda.\n",
    "You will install the rest with:\n",
    "```\n",
    "pip install --upgrade keras tensorflow tensorflow-addons \n",
    "```\n",
    "You will read and run the code in the cells below."
   ]
  },
  {
   "cell_type": "markdown",
   "metadata": {},
   "source": [
    "All these APIs are built on numpy and we convert the dataset into numpy if you have not done it already"
   ]
  },
  {
   "cell_type": "code",
   "execution_count": 742,
   "metadata": {},
   "outputs": [],
   "source": [
    "X = np.array(X)\n",
    "X_norm = np.array(X_norm)\n",
    "y = np.array(y)"
   ]
  },
  {
   "cell_type": "markdown",
   "metadata": {},
   "source": [
    "They also handle the intercept so we do not need the first column of ones."
   ]
  },
  {
   "cell_type": "code",
   "execution_count": 743,
   "metadata": {},
   "outputs": [],
   "source": [
    "X = X[:, 1:]\n",
    "X_norm = X_norm[:, 1:]"
   ]
  },
  {
   "cell_type": "markdown",
   "metadata": {},
   "source": [
    "### sklearn\n",
    "Using the dataset of English and French datapoints, we apply logistic regression with the sklearn API. We need the `LogisticRegression` class, the fit() and predict() functions. The weights are in the `coef_` field."
   ]
  },
  {
   "cell_type": "code",
   "execution_count": 744,
   "metadata": {},
   "outputs": [
    {
     "data": {
      "text/plain": [
       "array([[-0.03372363,  0.51169867]])"
      ]
     },
     "execution_count": 744,
     "metadata": {},
     "output_type": "execute_result"
    }
   ],
   "source": [
    "from sklearn.linear_model import LogisticRegression\n",
    "model = LogisticRegression()\n",
    "model = model.fit(X, y)\n",
    "model.coef_"
   ]
  },
  {
   "cell_type": "markdown",
   "metadata": {},
   "source": [
    "We predict the classes of the $\\mathbf{X}$ with the `predict()` function"
   ]
  },
  {
   "cell_type": "code",
   "execution_count": 745,
   "metadata": {},
   "outputs": [
    {
     "data": {
      "text/plain": [
       "array([0., 0., 0., 0., 0., 0., 0., 0., 0., 0., 0., 0., 0., 0., 0., 1., 1.,\n",
       "       1., 1., 1., 1., 1., 1., 1., 1., 1., 1., 1., 1., 1.])"
      ]
     },
     "execution_count": 745,
     "metadata": {},
     "output_type": "execute_result"
    }
   ],
   "source": [
    "model.predict(X)"
   ]
  },
  {
   "cell_type": "markdown",
   "metadata": {},
   "source": [
    "We predict the class probabilities of the $\\mathbf{X}$ with the `predict_proba()` function"
   ]
  },
  {
   "cell_type": "code",
   "execution_count": 746,
   "metadata": {},
   "outputs": [
    {
     "data": {
      "text/plain": [
       "array([[1.00000000e+00, 1.28980319e-30],\n",
       "       [9.99999999e-01, 8.16295157e-10],\n",
       "       [9.91302434e-01, 8.69756611e-03],\n",
       "       [1.00000000e+00, 2.35657080e-12],\n",
       "       [1.00000000e+00, 1.01085544e-22],\n",
       "       [1.00000000e+00, 3.56287478e-11],\n",
       "       [1.00000000e+00, 1.62389438e-24],\n",
       "       [1.00000000e+00, 5.76610689e-17],\n",
       "       [1.00000000e+00, 2.72458519e-12],\n",
       "       [9.94843591e-01, 5.15640906e-03],\n",
       "       [9.89714656e-01, 1.02853437e-02],\n",
       "       [1.00000000e+00, 4.22127774e-11],\n",
       "       [1.00000000e+00, 1.22665951e-41],\n",
       "       [1.00000000e+00, 7.37721442e-22],\n",
       "       [1.00000000e+00, 3.90177203e-16],\n",
       "       [1.33226763e-15, 1.00000000e+00],\n",
       "       [0.00000000e+00, 1.00000000e+00],\n",
       "       [1.92390717e-02, 9.80760928e-01],\n",
       "       [0.00000000e+00, 1.00000000e+00],\n",
       "       [1.01629571e-09, 9.99999999e-01],\n",
       "       [0.00000000e+00, 1.00000000e+00],\n",
       "       [0.00000000e+00, 1.00000000e+00],\n",
       "       [0.00000000e+00, 1.00000000e+00],\n",
       "       [0.00000000e+00, 1.00000000e+00],\n",
       "       [0.00000000e+00, 1.00000000e+00],\n",
       "       [0.00000000e+00, 1.00000000e+00],\n",
       "       [0.00000000e+00, 1.00000000e+00],\n",
       "       [0.00000000e+00, 1.00000000e+00],\n",
       "       [0.00000000e+00, 1.00000000e+00],\n",
       "       [1.80182968e-02, 9.81981703e-01]])"
      ]
     },
     "execution_count": 746,
     "metadata": {},
     "output_type": "execute_result"
    }
   ],
   "source": [
    "model.predict_proba(X)"
   ]
  },
  {
   "cell_type": "markdown",
   "metadata": {},
   "source": [
    "### Keras\n",
    "Using the dataset of English and French datapoints, we apply logistic regression with Keras. We need the `Sequential` and `Dense` classes."
   ]
  },
  {
   "cell_type": "code",
   "execution_count": 748,
   "metadata": {},
   "outputs": [
    {
     "name": "stdout",
     "output_type": "stream",
     "text": [
      "Collecting tensorflow\n",
      "  Downloading tensorflow-2.4.1-cp38-cp38-macosx_10_11_x86_64.whl (173.9 MB)\n",
      "\u001b[K     |████████████████████████████████| 173.9 MB 679 bytes/s a 0:00:01     |███████████████████             | 103.2 MB 99.0 MB/s eta 0:00:01     |██████████████████████████████▌ | 165.7 MB 83.2 MB/s eta 0:00:01\n",
      "\u001b[?25hRequirement already satisfied: wrapt~=1.12.1 in /Users/AntonCarlsson/Library/Python/3.8/lib/python/site-packages (from tensorflow) (1.12.1)\n",
      "Requirement already satisfied: h5py~=2.10.0 in /Library/Frameworks/Python.framework/Versions/3.8/lib/python3.8/site-packages (from tensorflow) (2.10.0)\n",
      "Collecting gast==0.3.3\n",
      "  Using cached gast-0.3.3-py2.py3-none-any.whl (9.7 kB)\n",
      "Collecting absl-py~=0.10\n",
      "  Downloading absl_py-0.11.0-py3-none-any.whl (127 kB)\n",
      "\u001b[K     |████████████████████████████████| 127 kB 27.0 MB/s eta 0:00:01\n",
      "\u001b[?25hCollecting astunparse~=1.6.3\n",
      "  Using cached astunparse-1.6.3-py2.py3-none-any.whl (12 kB)\n",
      "Collecting flatbuffers~=1.12.0\n",
      "  Downloading flatbuffers-1.12-py2.py3-none-any.whl (15 kB)\n",
      "Collecting google-pasta~=0.2\n",
      "  Using cached google_pasta-0.2.0-py3-none-any.whl (57 kB)\n",
      "Collecting grpcio~=1.32.0\n",
      "  Downloading grpcio-1.32.0-cp38-cp38-macosx_10_9_x86_64.whl (3.3 MB)\n",
      "\u001b[K     |████████████████████████████████| 3.3 MB 5.0 MB/s eta 0:00:01\n",
      "\u001b[?25hCollecting keras-preprocessing~=1.1.2\n",
      "  Using cached Keras_Preprocessing-1.1.2-py2.py3-none-any.whl (42 kB)\n",
      "Collecting numpy~=1.19.2\n",
      "  Downloading numpy-1.19.5-cp38-cp38-macosx_10_9_x86_64.whl (15.6 MB)\n",
      "\u001b[K     |████████████████████████████████| 15.6 MB 9.9 kB/s  eta 0:00:01\n",
      "\u001b[?25hCollecting opt-einsum~=3.3.0\n",
      "  Using cached opt_einsum-3.3.0-py3-none-any.whl (65 kB)\n",
      "Collecting protobuf>=3.9.2\n",
      "  Downloading protobuf-3.14.0-cp38-cp38-macosx_10_9_x86_64.whl (1.0 MB)\n",
      "\u001b[K     |████████████████████████████████| 1.0 MB 10.8 MB/s eta 0:00:01\n",
      "\u001b[?25hCollecting six~=1.15.0\n",
      "  Using cached six-1.15.0-py2.py3-none-any.whl (10 kB)\n",
      "Collecting tensorboard~=2.4\n",
      "  Downloading tensorboard-2.4.1-py3-none-any.whl (10.6 MB)\n",
      "\u001b[K     |████████████████████████████████| 10.6 MB 18.9 MB/s eta 0:00:01    |██████████████                  | 4.6 MB 18.9 MB/s eta 0:00:01     |██████████████████▊             | 6.2 MB 18.9 MB/s eta 0:00:01\n",
      "\u001b[?25hRequirement already satisfied: google-auth-oauthlib<0.5,>=0.4.1 in /Library/Frameworks/Python.framework/Versions/3.8/lib/python3.8/site-packages (from tensorboard~=2.4->tensorflow) (0.4.1)\n",
      "Requirement already satisfied: google-auth<2,>=1.6.3 in /Library/Frameworks/Python.framework/Versions/3.8/lib/python3.8/site-packages (from tensorboard~=2.4->tensorflow) (1.20.0)\n",
      "Requirement already satisfied: setuptools>=41.0.0 in /Library/Frameworks/Python.framework/Versions/3.8/lib/python3.8/site-packages (from tensorboard~=2.4->tensorflow) (41.2.0)\n",
      "Requirement already satisfied: requests<3,>=2.21.0 in /Library/Frameworks/Python.framework/Versions/3.8/lib/python3.8/site-packages (from tensorboard~=2.4->tensorflow) (2.24.0)\n",
      "Requirement already satisfied: rsa<5,>=3.1.4 in /Library/Frameworks/Python.framework/Versions/3.8/lib/python3.8/site-packages (from google-auth<2,>=1.6.3->tensorboard~=2.4->tensorflow) (4.6)\n",
      "Requirement already satisfied: pyasn1-modules>=0.2.1 in /Library/Frameworks/Python.framework/Versions/3.8/lib/python3.8/site-packages (from google-auth<2,>=1.6.3->tensorboard~=2.4->tensorflow) (0.2.8)\n",
      "Requirement already satisfied: cachetools<5.0,>=2.0.0 in /Library/Frameworks/Python.framework/Versions/3.8/lib/python3.8/site-packages (from google-auth<2,>=1.6.3->tensorboard~=2.4->tensorflow) (4.1.1)\n",
      "Requirement already satisfied: requests-oauthlib>=0.7.0 in /Library/Frameworks/Python.framework/Versions/3.8/lib/python3.8/site-packages (from google-auth-oauthlib<0.5,>=0.4.1->tensorboard~=2.4->tensorflow) (1.3.0)\n",
      "Collecting markdown>=2.6.8\n",
      "  Downloading Markdown-3.3.3-py3-none-any.whl (96 kB)\n",
      "\u001b[K     |████████████████████████████████| 96 kB 6.9 MB/s  eta 0:00:01\n",
      "\u001b[?25hRequirement already satisfied: pyasn1<0.5.0,>=0.4.6 in /Library/Frameworks/Python.framework/Versions/3.8/lib/python3.8/site-packages (from pyasn1-modules>=0.2.1->google-auth<2,>=1.6.3->tensorboard~=2.4->tensorflow) (0.4.8)\n",
      "Requirement already satisfied: chardet<4,>=3.0.2 in /Library/Frameworks/Python.framework/Versions/3.8/lib/python3.8/site-packages (from requests<3,>=2.21.0->tensorboard~=2.4->tensorflow) (3.0.4)\n",
      "Requirement already satisfied: certifi>=2017.4.17 in /Library/Frameworks/Python.framework/Versions/3.8/lib/python3.8/site-packages (from requests<3,>=2.21.0->tensorboard~=2.4->tensorflow) (2020.6.20)\n",
      "Requirement already satisfied: urllib3!=1.25.0,!=1.25.1,<1.26,>=1.21.1 in /Library/Frameworks/Python.framework/Versions/3.8/lib/python3.8/site-packages (from requests<3,>=2.21.0->tensorboard~=2.4->tensorflow) (1.25.9)\n",
      "Requirement already satisfied: idna<3,>=2.5 in /Library/Frameworks/Python.framework/Versions/3.8/lib/python3.8/site-packages (from requests<3,>=2.21.0->tensorboard~=2.4->tensorflow) (2.10)\n",
      "Requirement already satisfied: oauthlib>=3.0.0 in /Library/Frameworks/Python.framework/Versions/3.8/lib/python3.8/site-packages (from requests-oauthlib>=0.7.0->google-auth-oauthlib<0.5,>=0.4.1->tensorboard~=2.4->tensorflow) (3.1.0)\n",
      "Collecting tensorboard-plugin-wit>=1.6.0\n",
      "  Downloading tensorboard_plugin_wit-1.8.0-py3-none-any.whl (781 kB)\n",
      "\u001b[K     |████████████████████████████████| 781 kB 3.6 MB/s eta 0:00:01\n",
      "\u001b[?25hCollecting tensorflow-estimator<2.5.0,>=2.4.0\n",
      "  Downloading tensorflow_estimator-2.4.0-py2.py3-none-any.whl (462 kB)\n",
      "\u001b[K     |████████████████████████████████| 462 kB 14.4 MB/s eta 0:00:01\n",
      "\u001b[?25hCollecting termcolor~=1.1.0\n",
      "  Using cached termcolor-1.1.0.tar.gz (3.9 kB)\n",
      "Collecting typing-extensions~=3.7.4\n",
      "  Downloading typing_extensions-3.7.4.3-py3-none-any.whl (22 kB)\n",
      "Collecting werkzeug>=0.11.15\n",
      "  Using cached Werkzeug-1.0.1-py2.py3-none-any.whl (298 kB)\n",
      "Collecting wheel~=0.35\n",
      "  Downloading wheel-0.36.2-py2.py3-none-any.whl (35 kB)\n",
      "Building wheels for collected packages: termcolor\n",
      "  Building wheel for termcolor (setup.py) ... \u001b[?25ldone\n",
      "\u001b[?25h  Created wheel for termcolor: filename=termcolor-1.1.0-py3-none-any.whl size=4830 sha256=831ed85eb519d430ef50e1c017af23677182f8ce6b510b9eeea18445a3c12ccc\n",
      "  Stored in directory: /Users/AntonCarlsson/Library/Caches/pip/wheels/a0/16/9c/5473df82468f958445479c59e784896fa24f4a5fc024b0f501\n",
      "Successfully built termcolor\n",
      "Installing collected packages: six, wheel, werkzeug, tensorboard-plugin-wit, protobuf, numpy, markdown, grpcio, absl-py, typing-extensions, termcolor, tensorflow-estimator, tensorboard, opt-einsum, keras-preprocessing, google-pasta, gast, flatbuffers, astunparse, tensorflow\n",
      "  Attempting uninstall: six\n",
      "    Found existing installation: six 1.13.0\n",
      "    Uninstalling six-1.13.0:\n",
      "      Successfully uninstalled six-1.13.0\n",
      "  Attempting uninstall: wheel\n",
      "    Found existing installation: wheel 0.33.6\n",
      "    Uninstalling wheel-0.33.6:\n",
      "      Successfully uninstalled wheel-0.33.6\n",
      "  Attempting uninstall: numpy\n",
      "    Found existing installation: numpy 1.17.4\n",
      "    Uninstalling numpy-1.17.4:\n",
      "      Successfully uninstalled numpy-1.17.4\n",
      "Successfully installed absl-py-0.11.0 astunparse-1.6.3 flatbuffers-1.12 gast-0.3.3 google-pasta-0.2.0 grpcio-1.32.0 keras-preprocessing-1.1.2 markdown-3.3.3 numpy-1.19.5 opt-einsum-3.3.0 protobuf-3.14.0 six-1.15.0 tensorboard-2.4.1 tensorboard-plugin-wit-1.8.0 tensorflow-2.4.1 tensorflow-estimator-2.4.0 termcolor-1.1.0 typing-extensions-3.7.4.3 werkzeug-1.0.1 wheel-0.36.2\n",
      "\u001b[33mWARNING: You are using pip version 20.3.3; however, version 21.0.1 is available.\n",
      "You should consider upgrading via the '/Library/Frameworks/Python.framework/Versions/3.8/bin/python3 -m pip install --upgrade pip' command.\u001b[0m\n"
     ]
    }
   ],
   "source": [
    "! pip install tensorflow\n",
    "from tensorflow.keras import Sequential \n",
    "from tensorflow.keras.layers import Dense"
   ]
  },
  {
   "cell_type": "code",
   "execution_count": 749,
   "metadata": {},
   "outputs": [
    {
     "name": "stdout",
     "output_type": "stream",
     "text": [
      "Model: \"sequential\"\n",
      "_________________________________________________________________\n",
      "Layer (type)                 Output Shape              Param #   \n",
      "=================================================================\n",
      "dense (Dense)                (None, 1)                 3         \n",
      "=================================================================\n",
      "Total params: 3\n",
      "Trainable params: 3\n",
      "Non-trainable params: 0\n",
      "_________________________________________________________________\n"
     ]
    }
   ],
   "source": [
    "# Write your code here\n",
    "model = Sequential()\n",
    "model.add(Dense(1, input_dim=2, activation='sigmoid'))\n",
    "model.compile(loss='binary_crossentropy',\n",
    "              optimizer='nadam',\n",
    "              metrics=['accuracy'])\n",
    "model.summary()"
   ]
  },
  {
   "cell_type": "markdown",
   "metadata": {},
   "source": [
    "We fit the model"
   ]
  },
  {
   "cell_type": "code",
   "execution_count": 750,
   "metadata": {},
   "outputs": [
    {
     "data": {
      "text/plain": [
       "<tensorflow.python.keras.callbacks.History at 0x14e362880>"
      ]
     },
     "execution_count": 750,
     "metadata": {},
     "output_type": "execute_result"
    }
   ],
   "source": [
    "model.fit(X, y, epochs=1500, batch_size=4, verbose=0)"
   ]
  },
  {
   "cell_type": "code",
   "execution_count": 751,
   "metadata": {},
   "outputs": [
    {
     "data": {
      "text/plain": [
       "array([0., 0., 0., 0., 0., 0., 0., 0., 0., 0., 0., 0., 0., 0., 0., 1., 1.,\n",
       "       1., 1., 1., 1., 1., 1., 1., 1., 1., 1., 1., 1., 1.])"
      ]
     },
     "execution_count": 751,
     "metadata": {},
     "output_type": "execute_result"
    }
   ],
   "source": [
    "y"
   ]
  },
  {
   "cell_type": "code",
   "execution_count": 752,
   "metadata": {},
   "outputs": [
    {
     "data": {
      "text/plain": [
       "array([[6.1948578e-29],\n",
       "       [2.2492475e-09],\n",
       "       [1.0871083e-02],\n",
       "       [9.5641706e-12],\n",
       "       [1.7264166e-21],\n",
       "       [1.1964309e-10],\n",
       "       [2.7048034e-23],\n",
       "       [4.3135981e-16],\n",
       "       [1.1247357e-11],\n",
       "       [6.2795579e-03],\n",
       "       [1.1236936e-02],\n",
       "       [1.4093961e-10],\n",
       "       [0.0000000e+00],\n",
       "       [8.5315004e-21],\n",
       "       [2.9307664e-15],\n",
       "       [1.0000000e+00],\n",
       "       [1.0000000e+00],\n",
       "       [9.7450966e-01],\n",
       "       [1.0000000e+00],\n",
       "       [1.0000000e+00],\n",
       "       [1.0000000e+00],\n",
       "       [1.0000000e+00],\n",
       "       [1.0000000e+00],\n",
       "       [1.0000000e+00],\n",
       "       [1.0000000e+00],\n",
       "       [1.0000000e+00],\n",
       "       [1.0000000e+00],\n",
       "       [1.0000000e+00],\n",
       "       [1.0000000e+00],\n",
       "       [9.7565508e-01]], dtype=float32)"
      ]
     },
     "execution_count": 752,
     "metadata": {},
     "output_type": "execute_result"
    }
   ],
   "source": [
    "model.predict(X)"
   ]
  },
  {
   "cell_type": "code",
   "execution_count": 753,
   "metadata": {},
   "outputs": [
    {
     "name": "stderr",
     "output_type": "stream",
     "text": [
      "/Library/Frameworks/Python.framework/Versions/3.8/lib/python3.8/site-packages/tensorflow/python/keras/engine/sequential.py:450: UserWarning: `model.predict_classes()` is deprecated and will be removed after 2021-01-01. Please use instead:* `np.argmax(model.predict(x), axis=-1)`,   if your model does multi-class classification   (e.g. if it uses a `softmax` last-layer activation).* `(model.predict(x) > 0.5).astype(\"int32\")`,   if your model does binary classification   (e.g. if it uses a `sigmoid` last-layer activation).\n",
      "  warnings.warn('`model.predict_classes()` is deprecated and '\n"
     ]
    },
    {
     "data": {
      "text/plain": [
       "array([[0],\n",
       "       [0],\n",
       "       [0],\n",
       "       [0],\n",
       "       [0],\n",
       "       [0],\n",
       "       [0],\n",
       "       [0],\n",
       "       [0],\n",
       "       [0],\n",
       "       [0],\n",
       "       [0],\n",
       "       [0],\n",
       "       [0],\n",
       "       [0],\n",
       "       [1],\n",
       "       [1],\n",
       "       [1],\n",
       "       [1],\n",
       "       [1],\n",
       "       [1],\n",
       "       [1],\n",
       "       [1],\n",
       "       [1],\n",
       "       [1],\n",
       "       [1],\n",
       "       [1],\n",
       "       [1],\n",
       "       [1],\n",
       "       [1]], dtype=int32)"
      ]
     },
     "execution_count": 753,
     "metadata": {},
     "output_type": "execute_result"
    }
   ],
   "source": [
    "model.predict_classes(X)"
   ]
  },
  {
   "cell_type": "markdown",
   "metadata": {},
   "source": [
    "If you do not obtain a correct classification, rerun the training with more epochs."
   ]
  },
  {
   "cell_type": "markdown",
   "metadata": {},
   "source": [
    "## Reading\n",
    "You will read the article *An overview of gradient descent optimization algorithms* by Ruder (2017) and you will outline the main characteristics of all the optimization algorithms the author describes. This part should be of about one to two pages. Link to the article: https://arxiv.org/abs/1609.04747\n",
    "\n",
    "If you understand French, or using Google translate, you may also want to read the original article on gradient descent by Cauchy here:  https://gallica.bnf.fr/ark:/12148/bpt6k2982c/f540.item.\n"
   ]
  },
  {
   "cell_type": "markdown",
   "metadata": {},
   "source": [
    "### Report\n",
    "\n",
    "The assignment must be documented in the report, which should contain the following:\n",
    "\n",
    "*   The name of the author, the title of the assignment, and any relevant information on the front page;\n",
    "*   A presentation of the assignment and the possible improvements you would have brought;\n",
    "*   A presentation of your implementation;\n",
    "*   A print-out of the example set(s) and the resulting weight vectors;\n",
    "*   Comments on the results you have obtained, including your cross validation;\n",
    "*   A short dissertation on the optimization algorithms from Ruder's paper.\n",
    "\n",
    "Please, typeset and format your report consistently. You must use Latex. Documents written using MS Word or any similar format will not be considered.\n",
    "\n",
    "You may have a look at the code in the textbook code repository (or any other implementations), but the code you hand in must be your work."
   ]
  },
  {
   "cell_type": "markdown",
   "metadata": {},
   "source": [
    "## Submission\n",
    "Submit the notebook and the report to Canvas (two files). Do not include the code printout in the report, but only comments on its interesting parts. You will submit the notebook as a separate file."
   ]
  },
  {
   "cell_type": "code",
   "execution_count": null,
   "metadata": {},
   "outputs": [],
   "source": []
  }
 ],
 "metadata": {
  "kernelspec": {
   "display_name": "Python 3",
   "language": "python",
   "name": "python3"
  },
  "language_info": {
   "codemirror_mode": {
    "name": "ipython",
    "version": 3
   },
   "file_extension": ".py",
   "mimetype": "text/x-python",
   "name": "python",
   "nbconvert_exporter": "python",
   "pygments_lexer": "ipython3",
   "version": "3.8.0"
  }
 },
 "nbformat": 4,
 "nbformat_minor": 5
}
